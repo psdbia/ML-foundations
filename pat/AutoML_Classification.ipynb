{
 "cells": [
  {
   "cell_type": "code",
   "execution_count": 3,
   "id": "df05a54c-3c4d-460c-b9ad-0b969cb2c31c",
   "metadata": {},
   "outputs": [
    {
     "name": "stderr",
     "output_type": "stream",
     "text": [
      "C:\\Users\\dolin\\miniconda3\\envs\\pycaret\\Lib\\site-packages\\sklearn\\ensemble\\_weight_boosting.py:519: FutureWarning: The SAMME.R algorithm (the default) is deprecated and will be removed in 1.6. Use the SAMME algorithm to circumvent this warning.\n",
      "  warnings.warn(\n",
      "C:\\Users\\dolin\\miniconda3\\envs\\pycaret\\Lib\\site-packages\\sklearn\\ensemble\\_weight_boosting.py:519: FutureWarning: The SAMME.R algorithm (the default) is deprecated and will be removed in 1.6. Use the SAMME algorithm to circumvent this warning.\n",
      "  warnings.warn(\n",
      "C:\\Users\\dolin\\miniconda3\\envs\\pycaret\\Lib\\site-packages\\sklearn\\ensemble\\_weight_boosting.py:519: FutureWarning: The SAMME.R algorithm (the default) is deprecated and will be removed in 1.6. Use the SAMME algorithm to circumvent this warning.\n",
      "  warnings.warn(\n",
      "C:\\Users\\dolin\\miniconda3\\envs\\pycaret\\Lib\\site-packages\\sklearn\\ensemble\\_weight_boosting.py:519: FutureWarning: The SAMME.R algorithm (the default) is deprecated and will be removed in 1.6. Use the SAMME algorithm to circumvent this warning.\n",
      "  warnings.warn(\n",
      "C:\\Users\\dolin\\miniconda3\\envs\\pycaret\\Lib\\site-packages\\sklearn\\ensemble\\_weight_boosting.py:519: FutureWarning: The SAMME.R algorithm (the default) is deprecated and will be removed in 1.6. Use the SAMME algorithm to circumvent this warning.\n",
      "  warnings.warn(\n",
      "C:\\Users\\dolin\\miniconda3\\envs\\pycaret\\Lib\\site-packages\\sklearn\\ensemble\\_weight_boosting.py:519: FutureWarning: The SAMME.R algorithm (the default) is deprecated and will be removed in 1.6. Use the SAMME algorithm to circumvent this warning.\n",
      "  warnings.warn(\n",
      "C:\\Users\\dolin\\miniconda3\\envs\\pycaret\\Lib\\site-packages\\sklearn\\ensemble\\_weight_boosting.py:519: FutureWarning: The SAMME.R algorithm (the default) is deprecated and will be removed in 1.6. Use the SAMME algorithm to circumvent this warning.\n",
      "  warnings.warn(\n",
      "C:\\Users\\dolin\\miniconda3\\envs\\pycaret\\Lib\\site-packages\\sklearn\\ensemble\\_weight_boosting.py:519: FutureWarning: The SAMME.R algorithm (the default) is deprecated and will be removed in 1.6. Use the SAMME algorithm to circumvent this warning.\n",
      "  warnings.warn(\n",
      "C:\\Users\\dolin\\miniconda3\\envs\\pycaret\\Lib\\site-packages\\sklearn\\ensemble\\_weight_boosting.py:519: FutureWarning: The SAMME.R algorithm (the default) is deprecated and will be removed in 1.6. Use the SAMME algorithm to circumvent this warning.\n",
      "  warnings.warn(\n"
     ]
    },
    {
     "name": "stdout",
     "output_type": "stream",
     "text": [
      "Model Performance:\n",
      "                                 Accuracy  Time (seconds)\n",
      "Linear Discriminant Analysis     0.981818        0.008197\n",
      "Logistic Regression              0.972727        0.017231\n",
      "Support Vector Machine           0.972727        0.008245\n",
      "Quadratic Discriminant Analysis  0.971818        0.007281\n",
      "Random Forest                    0.963636        0.369184\n",
      "K-Nearest Neighbors              0.962727        0.012255\n",
      "AdaBoost                         0.962727        0.249261\n",
      "Naive Bayes                      0.953636        0.007271\n",
      "Decision Tree                    0.953636        0.008056\n",
      "Gradient Boosting                0.953636        0.684246\n",
      "\n",
      "Best Model: {'standardscaler': StandardScaler(), 'lineardiscriminantanalysis': LinearDiscriminantAnalysis()}\n",
      "Test Accuracy: 0.9778\n",
      "CPU times: total: 1.36 s\n",
      "Wall time: 1.38 s\n"
     ]
    },
    {
     "name": "stderr",
     "output_type": "stream",
     "text": [
      "C:\\Users\\dolin\\miniconda3\\envs\\pycaret\\Lib\\site-packages\\sklearn\\ensemble\\_weight_boosting.py:519: FutureWarning: The SAMME.R algorithm (the default) is deprecated and will be removed in 1.6. Use the SAMME algorithm to circumvent this warning.\n",
      "  warnings.warn(\n"
     ]
    }
   ],
   "source": [
    "%%time\n",
    "import numpy as np\n",
    "import pandas as pd\n",
    "import time\n",
    "import sklearn\n",
    "from sklearn.model_selection import train_test_split, cross_val_score\n",
    "from sklearn.preprocessing import StandardScaler\n",
    "from sklearn.pipeline import make_pipeline\n",
    "from sklearn.datasets import load_iris\n",
    "from sklearn.metrics import accuracy_score\n",
    "\n",
    "# Import various classifiers\n",
    "from sklearn.linear_model import LogisticRegression\n",
    "from sklearn.ensemble import RandomForestClassifier, GradientBoostingClassifier, AdaBoostClassifier\n",
    "from sklearn.svm import SVC\n",
    "from sklearn.neighbors import KNeighborsClassifier\n",
    "from sklearn.naive_bayes import GaussianNB\n",
    "from sklearn.tree import DecisionTreeClassifier\n",
    "from sklearn.neural_network import MLPClassifier\n",
    "from sklearn.discriminant_analysis import LinearDiscriminantAnalysis, QuadraticDiscriminantAnalysis\n",
    "\n",
    "\n",
    "# Load dataset\n",
    "data = load_iris()\n",
    "X, y = data.data, data.target\n",
    "\n",
    "# Split into training and testing sets\n",
    "X_train, X_test, y_train, y_test = train_test_split(X, y, test_size=0.3) #random_state=42\n",
    "\n",
    "# Define classifiers to test\n",
    "classifiers = {\n",
    "    \"Logistic Regression\": LogisticRegression(),\n",
    "    \"Random Forest\": RandomForestClassifier(),\n",
    "    \"Support Vector Machine\": SVC(),\n",
    "    \"K-Nearest Neighbors\": KNeighborsClassifier(),\n",
    "    \"Naive Bayes\": GaussianNB(),\n",
    "    \"Decision Tree\": DecisionTreeClassifier(),\n",
    "    \"Gradient Boosting\": GradientBoostingClassifier(),\n",
    "    \"AdaBoost\": AdaBoostClassifier(),\n",
    "#   \"Neural Network (MLP)\": MLPClassifier(),\n",
    "    \"Linear Discriminant Analysis\": LinearDiscriminantAnalysis(),\n",
    "    \"Quadratic Discriminant Analysis\": QuadraticDiscriminantAnalysis()\n",
    "}\n",
    "\n",
    "\n",
    "\n",
    "# Evaluate classifiers using cross-validation\n",
    "best_model = None\n",
    "best_score = 0\n",
    "results = {}\n",
    "\n",
    "for name, clf in classifiers.items():\n",
    "    pipeline = make_pipeline(StandardScaler(), clf)\n",
    "    start_time = time.time()\n",
    "    scores = cross_val_score(pipeline, X_train, y_train, cv=10, scoring=\"accuracy\")\n",
    "    end_time = time.time()\n",
    "    mean_score = np.mean(scores)\n",
    "    elapsed_time = end_time - start_time\n",
    "    results[name] = {\"Accuracy\": mean_score, \"Time (seconds)\": elapsed_time}\n",
    "\n",
    "    if mean_score > best_score:\n",
    "        best_score = mean_score\n",
    "        best_model = pipeline\n",
    "\n",
    "# Fit the best model and evaluate on test data\n",
    "best_model.fit(X_train, y_train)\n",
    "test_accuracy = accuracy_score(y_test, best_model.predict(X_test))\n",
    "\n",
    "# Display results\n",
    "results_df = pd.DataFrame.from_dict(results, orient=\"index\")\n",
    "results_df = results_df.sort_values(by=\"Accuracy\", ascending=False)\n",
    "\n",
    "print(\"Model Performance:\")\n",
    "print(results_df)\n",
    "print(f\"\\nBest Model: {best_model.named_steps}\\nTest Accuracy: {test_accuracy:.4f}\")"
   ]
  },
  {
   "cell_type": "code",
   "execution_count": null,
   "id": "f0cbe7b9-8e1f-4090-b359-42e4cfde6096",
   "metadata": {},
   "outputs": [],
   "source": [
    "#! pip install scikit-learn"
   ]
  },
  {
   "cell_type": "code",
   "execution_count": null,
   "id": "10d640a6-fa2b-4a8b-9336-148b93ca3677",
   "metadata": {},
   "outputs": [],
   "source": []
  }
 ],
 "metadata": {
  "kernelspec": {
   "display_name": "Python 3 (ipykernel)",
   "language": "python",
   "name": "python3"
  },
  "language_info": {
   "codemirror_mode": {
    "name": "ipython",
    "version": 3
   },
   "file_extension": ".py",
   "mimetype": "text/x-python",
   "name": "python",
   "nbconvert_exporter": "python",
   "pygments_lexer": "ipython3",
   "version": "3.11.13"
  }
 },
 "nbformat": 4,
 "nbformat_minor": 5
}
