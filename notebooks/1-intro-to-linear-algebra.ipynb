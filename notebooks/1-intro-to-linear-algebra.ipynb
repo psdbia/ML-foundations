{
<<<<<<< HEAD
 "cells": [
  {
   "cell_type": "markdown",
   "metadata": {
    "colab_type": "text",
    "id": "view-in-github"
   },
   "source": [
    "<a href=\"https://colab.research.google.com/github/jonkrohn/ML-foundations/blob/master/notebooks/1-intro-to-linear-algebra.ipynb\" target=\"_parent\"><img src=\"https://colab.research.google.com/assets/colab-badge.svg\" alt=\"Open In Colab\"/></a>"
   ]
  },
  {
   "cell_type": "markdown",
   "metadata": {
    "id": "aTOLgsbN69-P"
   },
   "source": [
    "# Intro to Linear Algebra"
   ]
  },
  {
   "cell_type": "markdown",
   "metadata": {
    "id": "yqUB9FTRAxd-"
   },
   "source": [
    "This topic, *Intro to Linear Algebra*, is the first in the *Machine Learning Foundations* series.\n",
    "\n",
    "It is essential because linear algebra lies at the heart of most machine learning approaches and is especially predominant in deep learning, the branch of ML at the forefront of today’s artificial intelligence advances. Through the measured exposition of theory paired with interactive examples, you’ll develop an understanding of how linear algebra is used to solve for unknown values in high-dimensional spaces, thereby enabling machines to recognize patterns and make predictions.\n",
    "\n",
    "The content covered in *Intro to Linear Algebra* is itself foundational for all the other topics in the Machine Learning Foundations series and it is especially relevant to *Linear Algebra II*."
   ]
  },
  {
   "cell_type": "markdown",
   "metadata": {
    "id": "d4tBvI88BheF"
   },
   "source": [
    "Over the course of studying this topic, you'll:\n",
    "\n",
    "* Understand the fundamentals of linear algebra, a ubiquitous approach for solving for unknowns within high-dimensional spaces.\n",
    "\n",
    "* Develop a geometric intuition of what’s going on beneath the hood of machine learning algorithms, including those used for deep learning.\n",
    "* Be able to more intimately grasp the details of machine learning papers as well as all of the other subjects that underlie ML, including calculus, statistics, and optimization algorithms."
   ]
  },
  {
   "cell_type": "markdown",
   "metadata": {
    "id": "Z68nQ0ekCYhF"
   },
   "source": [
    "**Note that this Jupyter notebook is not intended to stand alone. It is the companion code to a lecture or to videos from Jon Krohn's [Machine Learning Foundations](https://github.com/jonkrohn/ML-foundations) series, which offer detail on the following:**\n",
    "\n",
    "*Segment 1: Data Structures for Algebra*\n",
    "\n",
    "* What Linear Algebra Is  \n",
    "* A Brief History of Algebra\n",
    "* Tensors\n",
    "* Scalars\n",
    "* Vectors and Vector Transposition\n",
    "* Norms and Unit Vectors\n",
    "* Basis, Orthogonal, and Orthonormal Vectors\n",
    "* Arrays in NumPy  \n",
    "* Matrices\n",
    "* Tensors in TensorFlow and PyTorch\n",
    "\n",
    "*Segment 2: Common Tensor Operations*\n",
    "\n",
    "* Tensor Transposition\n",
    "* Basic Tensor Arithmetic\n",
    "* Reduction\n",
    "* The Dot Product\n",
    "* Solving Linear Systems\n",
    "\n",
    "*Segment 3: Matrix Properties*\n",
    "\n",
    "* The Frobenius Norm\n",
    "* Matrix Multiplication\n",
    "* Symmetric and Identity Matrices\n",
    "* Matrix Inversion\n",
    "* Diagonal Matrices\n",
    "* Orthogonal Matrices\n"
   ]
  },
  {
   "cell_type": "markdown",
   "metadata": {
    "id": "2khww76J5w9n"
   },
   "source": [
    "## Segment 1: Data Structures for Algebra\n",
    "\n",
    "**Slides used to begin segment, with focus on introducing what linear algebra is, including hands-on paper and pencil exercises.**"
   ]
  },
  {
   "cell_type": "markdown",
   "metadata": {
    "id": "niG_MgK-iV6K"
   },
   "source": [
    "### What Linear Algebra Is"
   ]
  },
  {
   "cell_type": "code",
   "execution_count": 5,
   "metadata": {},
   "outputs": [],
   "source": [
    "#!pip install numpy pandas matplotlib"
   ]
  },
  {
   "cell_type": "code",
   "execution_count": 6,
   "metadata": {
    "id": "LApX90aliab_"
   },
   "outputs": [],
   "source": [
    "import numpy as np\n",
    "import matplotlib.pyplot as plt"
   ]
  },
  {
   "cell_type": "code",
   "execution_count": 7,
   "metadata": {
    "id": "E4odh9Shic1S"
   },
   "outputs": [
    {
     "data": {
      "text/plain": [
       "array([0.        , 0.04004004, 0.08008008, 0.12012012, 0.16016016,\n",
       "       0.2002002 , 0.24024024, 0.28028028, 0.32032032, 0.36036036])"
      ]
     },
     "execution_count": 7,
     "metadata": {},
     "output_type": "execute_result"
=======
  "nbformat": 4,
  "nbformat_minor": 0,
  "metadata": {
    "colab": {
      "name": "1-intro-to-linear-algebra.ipynb",
      "provenance": [],
      "toc_visible": true,
      "include_colab_link": true
    },
    "kernelspec": {
      "display_name": "Python 3",
      "language": "python",
      "name": "python3"
    },
    "language_info": {
      "codemirror_mode": {
        "name": "ipython",
        "version": 3
      },
      "file_extension": ".py",
      "mimetype": "text/x-python",
      "name": "python",
      "nbconvert_exporter": "python",
      "pygments_lexer": "ipython3",
      "version": "3.7.6"
>>>>>>> c6be1d52408d7aff3f3ddd166cbbb8d04d777c78
    }
  },
<<<<<<< HEAD
  {
   "cell_type": "markdown",
   "metadata": {
    "id": "N-tYny12nIyO"
   },
   "source": [
    "Distance travelled by robber: $d = 2.5t$"
   ]
  },
  {
   "cell_type": "code",
   "execution_count": 8,
   "metadata": {
    "id": "e_zDOxgHiezz"
   },
   "outputs": [
=======
  "cells": [
>>>>>>> c6be1d52408d7aff3f3ddd166cbbb8d04d777c78
    {
      "cell_type": "markdown",
      "metadata": {
        "id": "view-in-github",
        "colab_type": "text"
      },
      "source": [
        "<a href=\"https://colab.research.google.com/github/psdbia/ML-foundations/blob/master/notebooks/1-intro-to-linear-algebra.ipynb\" target=\"_parent\"><img src=\"https://colab.research.google.com/assets/colab-badge.svg\" alt=\"Open In Colab\"/></a>"
      ]
<<<<<<< HEAD
     },
     "execution_count": 8,
     "metadata": {},
     "output_type": "execute_result"
    }
   ],
   "source": [
    "d_r = 2.5 * t\n",
    "d_r[:10]"
   ]
  },
  {
   "cell_type": "markdown",
   "metadata": {
    "id": "djVjXZy-nPaR"
   },
   "source": [
    "Distance travelled by sheriff: $d = 3(t-5)$"
   ]
  },
  {
   "cell_type": "code",
   "execution_count": 9,
   "metadata": {
    "id": "JtaNeYSCifrI"
   },
   "outputs": [
=======
    },
>>>>>>> c6be1d52408d7aff3f3ddd166cbbb8d04d777c78
    {
      "cell_type": "markdown",
      "metadata": {
        "id": "aTOLgsbN69-P"
      },
      "source": [
        "# Intro to Linear Algebra"
      ]
<<<<<<< HEAD
     },
     "execution_count": 9,
     "metadata": {},
     "output_type": "execute_result"
    }
   ],
   "source": [
    "d_s = 3 * (t-5)\n",
    "d_s[:10]"
   ]
  },
  {
   "cell_type": "code",
   "execution_count": 10,
   "metadata": {
    "colab": {
     "base_uri": "https://localhost:8080/",
     "height": 472
=======
>>>>>>> c6be1d52408d7aff3f3ddd166cbbb8d04d777c78
    },
    {
<<<<<<< HEAD
     "data": {
      "image/png": "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",
      "text/plain": [
       "<Figure size 640x480 with 1 Axes>"
      ]
     },
     "metadata": {},
     "output_type": "display_data"
    }
   ],
   "source": [
    "fig, ax = plt.subplots()\n",
    "plt.title('A Bank Robber Caught')\n",
    "plt.xlabel('time (in minutes)')\n",
    "plt.ylabel('distance (in km)')\n",
    "ax.set_xlim([0, 40])\n",
    "ax.set_ylim([0, 100])\n",
    "ax.plot(t, d_r, c='green')\n",
    "ax.plot(t, d_s, c='brown')\n",
    "plt.axvline(x=30, color='purple', linestyle='--')\n",
    "_ = plt.axhline(y=75, color='purple', linestyle='--')"
   ]
  },
  {
   "cell_type": "markdown",
   "metadata": {
    "id": "kpwZw64EYfs6"
   },
   "source": [
    "**Return to slides here.**"
   ]
  },
  {
   "cell_type": "markdown",
   "metadata": {
    "id": "NgGMhK4B51oe"
   },
   "source": [
    "### Scalars (Rank 0 Tensors) in Base Python"
   ]
  },
  {
   "cell_type": "code",
   "execution_count": 11,
   "metadata": {
    "colab": {
     "base_uri": "https://localhost:8080/"
=======
      "cell_type": "markdown",
      "metadata": {
        "id": "yqUB9FTRAxd-"
      },
      "source": [
        "This topic, *Intro to Linear Algebra*, is the first in the *Machine Learning Foundations* series.\n",
        "\n",
        "It is essential because linear algebra lies at the heart of most machine learning approaches and is especially predominant in deep learning, the branch of ML at the forefront of today’s artificial intelligence advances. Through the measured exposition of theory paired with interactive examples, you’ll develop an understanding of how linear algebra is used to solve for unknown values in high-dimensional spaces, thereby enabling machines to recognize patterns and make predictions.\n",
        "\n",
        "The content covered in *Intro to Linear Algebra* is itself foundational for all the other topics in the Machine Learning Foundations series and it is especially relevant to *Linear Algebra II*."
      ]
>>>>>>> c6be1d52408d7aff3f3ddd166cbbb8d04d777c78
    },
    {
      "cell_type": "markdown",
      "metadata": {
        "id": "d4tBvI88BheF"
      },
      "source": [
        "Over the course of studying this topic, you'll:\n",
        "\n",
        "* Understand the fundamentals of linear algebra, a ubiquitous approach for solving for unknowns within high-dimensional spaces.\n",
        "\n",
        "* Develop a geometric intuition of what’s going on beneath the hood of machine learning algorithms, including those used for deep learning.\n",
        "* Be able to more intimately grasp the details of machine learning papers as well as all of the other subjects that underlie ML, including calculus, statistics, and optimization algorithms."
      ]
<<<<<<< HEAD
     },
     "execution_count": 11,
     "metadata": {},
     "output_type": "execute_result"
    }
   ],
   "source": [
    "x = 25\n",
    "x"
   ]
  },
  {
   "cell_type": "code",
   "execution_count": 12,
   "metadata": {
    "colab": {
     "base_uri": "https://localhost:8080/"
=======
>>>>>>> c6be1d52408d7aff3f3ddd166cbbb8d04d777c78
    },
    {
      "cell_type": "markdown",
      "metadata": {
        "id": "Z68nQ0ekCYhF"
      },
      "source": [
        "**Note that this Jupyter notebook is not intended to stand alone. It is the companion code to a lecture or to videos from Jon Krohn's [Machine Learning Foundations](https://github.com/jonkrohn/ML-foundations) series, which offer detail on the following:**\n",
        "\n",
        "*Segment 1: Data Structures for Algebra*\n",
        "\n",
        "* What Linear Algebra Is  \n",
        "* A Brief History of Algebra\n",
        "* Tensors\n",
        "* Scalars\n",
        "* Vectors and Vector Transposition\n",
        "* Norms and Unit Vectors\n",
        "* Basis, Orthogonal, and Orthonormal Vectors\n",
        "* Arrays in NumPy  \n",
        "* Matrices\n",
        "* Tensors in TensorFlow and PyTorch\n",
        "\n",
        "*Segment 2: Common Tensor Operations*\n",
        "\n",
        "* Tensor Transposition\n",
        "* Basic Tensor Arithmetic\n",
        "* Reduction\n",
        "* The Dot Product\n",
        "* Solving Linear Systems\n",
        "\n",
        "*Segment 3: Matrix Properties*\n",
        "\n",
        "* The Frobenius Norm\n",
        "* Matrix Multiplication\n",
        "* Symmetric and Identity Matrices\n",
        "* Matrix Inversion\n",
        "* Diagonal Matrices\n",
        "* Orthogonal Matrices\n"
      ]
<<<<<<< HEAD
     },
     "execution_count": 12,
     "metadata": {},
     "output_type": "execute_result"
    }
   ],
   "source": [
    "type(x) # if we'd like more specificity (e.g., int16, uint8), we need NumPy or another numeric library"
   ]
  },
  {
   "cell_type": "code",
   "execution_count": 13,
   "metadata": {
    "id": "ZBzYlL0mRd-P"
   },
   "outputs": [],
   "source": [
    "y = 3"
   ]
  },
  {
   "cell_type": "code",
   "execution_count": 14,
   "metadata": {
    "colab": {
     "base_uri": "https://localhost:8080/"
    },
    "id": "1i-hW0bcReyy",
    "outputId": "ae377616-ba20-4b4b-938b-178a10bf8ff4"
   },
   "outputs": [
    {
     "data": {
      "text/plain": [
       "28"
      ]
     },
     "execution_count": 14,
     "metadata": {},
     "output_type": "execute_result"
    }
   ],
   "source": [
    "py_sum = x + y\n",
    "py_sum"
   ]
  },
  {
   "cell_type": "code",
   "execution_count": 15,
   "metadata": {
    "colab": {
     "base_uri": "https://localhost:8080/"
    },
    "id": "CpyUxB6XRk6y",
    "outputId": "f5fe891a-b958-4b2a-d87d-1e103ca2ca76"
   },
   "outputs": [
    {
     "data": {
      "text/plain": [
       "int"
      ]
     },
     "execution_count": 15,
     "metadata": {},
     "output_type": "execute_result"
    }
   ],
   "source": [
    "type(py_sum)"
   ]
  },
  {
   "cell_type": "code",
   "execution_count": 16,
   "metadata": {
    "colab": {
     "base_uri": "https://localhost:8080/"
    },
    "id": "V2UiLj-JR8Ij",
    "outputId": "8a1a49bb-88e3-47ba-a1c9-a03136330b6d"
   },
   "outputs": [
    {
     "data": {
      "text/plain": [
       "28.0"
      ]
     },
     "execution_count": 16,
     "metadata": {},
     "output_type": "execute_result"
    }
   ],
   "source": [
    "x_float = 25.0\n",
    "float_sum = x_float + y\n",
    "float_sum"
   ]
  },
  {
   "cell_type": "code",
   "execution_count": 17,
   "metadata": {
    "colab": {
     "base_uri": "https://localhost:8080/"
    },
    "id": "ikOwjp6ASCaf",
    "outputId": "691b7803-b978-4598-c804-3ef53193f0cd"
   },
   "outputs": [
    {
     "data": {
      "text/plain": [
       "float"
      ]
     },
     "execution_count": 17,
     "metadata": {},
     "output_type": "execute_result"
    }
   ],
   "source": [
    "type(float_sum)"
   ]
  },
  {
   "cell_type": "markdown",
   "metadata": {
    "id": "SgUvioyUz8T2"
   },
   "source": [
    "### Scalars in PyTorch\n",
    "\n",
    "* PyTorch and TensorFlow are the two most popular *automatic differentiation* libraries (a focus of the [*Calculus I*](https://github.com/jonkrohn/ML-foundations/blob/master/notebooks/3-calculus-i.ipynb) and [*Calculus II*](https://github.com/jonkrohn/ML-foundations/blob/master/notebooks/4-calculus-ii.ipynb) subjects in the *ML Foundations* series) in Python, itself the most popular programming language in ML.\n",
    "* PyTorch tensors are designed to be pythonic, i.e., to feel and behave like NumPy arrays.\n",
    "* The advantage of PyTorch tensors relative to NumPy arrays is that they easily be used for operations on GPU (see [here](https://pytorch.org/tutorials/beginner/examples_tensor/two_layer_net_tensor.html) for example).\n",
    "* Documentation on PyTorch tensors, including available data types, is [here](https://pytorch.org/docs/stable/tensors.html)."
   ]
  },
  {
   "cell_type": "code",
   "execution_count": null,
   "metadata": {
    "id": "A9Hhazt2zKeD"
   },
   "outputs": [],
   "source": [
    "import torch"
   ]
  },
  {
   "cell_type": "code",
   "execution_count": null,
   "metadata": {
    "colab": {
     "base_uri": "https://localhost:8080/"
    },
    "id": "a211IRW_0-iY",
    "outputId": "18107a49-adb2-45c8-ba6f-1851beeb75af"
   },
   "outputs": [],
   "source": [
    "x_pt = torch.tensor(25) # type specification optional, e.g.: dtype=torch.float16\n",
    "x_pt"
   ]
  },
  {
   "cell_type": "code",
   "execution_count": null,
   "metadata": {
    "colab": {
     "base_uri": "https://localhost:8080/"
    },
    "id": "LvxzMa_HhUNB",
    "outputId": "9a3a10fe-7a4f-427c-cfb3-1311fe2ea511"
   },
   "outputs": [],
   "source": [
    "x_pt.shape"
   ]
  },
  {
   "cell_type": "markdown",
   "metadata": {
    "id": "eUyuZXlWS8T9"
   },
   "source": [
    "### Scalars in TensorFlow (version 2.0 or later)\n",
    "\n",
    "Tensors created with a wrapper, all of which [you can read about here](https://www.tensorflow.org/guide/tensor):  \n",
    "\n",
    "* `tf.Variable`\n",
    "* `tf.constant`\n",
    "* `tf.placeholder`\n",
    "* `tf.SparseTensor`\n",
    "\n",
    "Most widely-used is `tf.Variable`, which we'll use here.\n",
    "\n",
    "As with TF tensors, in PyTorch we can similarly perform operations, and we can easily convert to and from NumPy arrays.\n",
    "\n",
    "Also, a full list of tensor data types is available [here](https://www.tensorflow.org/api_docs/python/tf/dtypes/DType)."
   ]
  },
  {
   "cell_type": "code",
   "execution_count": null,
   "metadata": {
    "id": "CHBYse_MEqZM"
   },
   "outputs": [],
   "source": [
    "import tensorflow as tf"
   ]
  },
  {
   "cell_type": "code",
   "execution_count": null,
   "metadata": {
    "colab": {
     "base_uri": "https://localhost:8080/"
    },
    "id": "sDv92Nh-NSOU",
    "outputId": "33521159-174d-4b14-89b3-495c8bf205da"
   },
   "outputs": [],
   "source": [
    "x_tf = tf.Variable(25, dtype=tf.int16) # dtype is optional\n",
    "x_tf"
   ]
  },
  {
   "cell_type": "code",
   "execution_count": null,
   "metadata": {
    "colab": {
     "base_uri": "https://localhost:8080/"
    },
    "id": "EmPMBIV9RQjS",
    "outputId": "d104c2a4-e776-4b61-82d4-8b23c9ada5f7"
   },
   "outputs": [],
   "source": [
    "x_tf.shape"
   ]
  },
  {
   "cell_type": "code",
   "execution_count": null,
   "metadata": {
    "id": "mEILtO9pPctO"
   },
   "outputs": [],
   "source": [
    "y_tf = tf.Variable(3, dtype=tf.int16)"
   ]
  },
  {
   "cell_type": "code",
   "execution_count": null,
   "metadata": {
    "colab": {
     "base_uri": "https://localhost:8080/"
    },
    "id": "dvvWuaw6Ph_D",
    "outputId": "928a5ae6-d456-453f-a695-1704f9654b3d"
   },
   "outputs": [],
   "source": [
    "x_tf + y_tf"
   ]
  },
  {
   "cell_type": "code",
   "execution_count": null,
   "metadata": {
    "colab": {
     "base_uri": "https://localhost:8080/"
    },
    "id": "JZVhRnX9RUGW",
    "outputId": "7170b45f-858e-4497-848a-92bada682572"
   },
   "outputs": [],
   "source": [
    "tf_sum = tf.add(x_tf, y_tf)\n",
    "tf_sum"
   ]
  },
  {
   "cell_type": "code",
   "execution_count": null,
   "metadata": {
    "colab": {
     "base_uri": "https://localhost:8080/"
    },
    "id": "sVbMxT1Ey6Y3",
    "outputId": "63b9e20e-724f-4b10-960b-79635d034d4c"
   },
   "outputs": [],
   "source": [
    "tf_sum.numpy() # note that NumPy operations automatically convert tensors to NumPy arrays, and vice versa"
   ]
  },
  {
   "cell_type": "code",
   "execution_count": null,
   "metadata": {
    "colab": {
     "base_uri": "https://localhost:8080/"
    },
    "id": "LXpv69t0y-f6",
    "outputId": "d728326e-38d4-48ae-9224-925febcec085"
   },
   "outputs": [],
   "source": [
    "type(tf_sum.numpy())"
   ]
  },
  {
   "cell_type": "code",
   "execution_count": null,
   "metadata": {
    "colab": {
     "base_uri": "https://localhost:8080/"
    },
    "id": "VszuTUAg1uXk",
    "outputId": "cf5b7af9-3f1c-4ed4-dff1-dc8459d90567"
   },
   "outputs": [],
   "source": [
    "tf_float = tf.Variable(25., dtype=tf.float16)\n",
    "tf_float"
   ]
  },
  {
   "cell_type": "markdown",
   "metadata": {
    "id": "B5VRGo1H6010"
   },
   "source": [
    "**Return to slides here.**"
   ]
  },
  {
   "cell_type": "markdown",
   "metadata": {
    "id": "4CURG9Er6aZI"
   },
   "source": [
    "### Vectors (Rank 1 Tensors) in NumPy"
   ]
  },
  {
   "cell_type": "code",
   "execution_count": null,
   "metadata": {
    "colab": {
     "base_uri": "https://localhost:8080/"
    },
    "id": "T9ME4kBr4wg0",
    "outputId": "fe23648e-9fda-4e84-8c45-d05852642b1f"
   },
   "outputs": [],
   "source": [
    "x = np.array([25, 2, 5]) # type argument is optional, e.g.: dtype=np.float16\n",
    "x"
   ]
  },
  {
   "cell_type": "code",
   "execution_count": null,
   "metadata": {
    "colab": {
     "base_uri": "https://localhost:8080/"
    },
    "id": "ZuotxmlZL2wp",
    "outputId": "46573b45-8ff1-4d80-a0be-11322fc7a7e6"
   },
   "outputs": [],
   "source": [
    "len(x)"
   ]
  },
  {
   "cell_type": "code",
   "execution_count": null,
   "metadata": {
    "colab": {
     "base_uri": "https://localhost:8080/"
    },
    "id": "OlPYy6GOaIVy",
    "outputId": "b9e7b1d6-c780-4fad-8737-0e7c7dfc3353"
   },
   "outputs": [],
   "source": [
    "x.shape"
   ]
  },
  {
   "cell_type": "code",
   "execution_count": null,
   "metadata": {
    "colab": {
     "base_uri": "https://localhost:8080/"
    },
    "id": "sWbYGwObcgtK",
    "outputId": "489b8c9a-0a29-40e2-f294-09216be93fac"
   },
   "outputs": [],
   "source": [
    "type(x)"
   ]
  },
  {
   "cell_type": "code",
   "execution_count": null,
   "metadata": {
    "colab": {
     "base_uri": "https://localhost:8080/"
    },
    "id": "ME_xuvD_oTPg",
    "outputId": "36265cc4-43b2-4510-d296-a0b7d6846979"
   },
   "outputs": [],
   "source": [
    "x[0] # zero-indexed"
   ]
  },
  {
   "cell_type": "code",
   "execution_count": null,
   "metadata": {
    "colab": {
     "base_uri": "https://localhost:8080/"
    },
    "id": "hXmBHZQ-nxFw",
    "outputId": "ddb7f5f0-a04b-437d-fda8-5d9c8503ab2e"
   },
   "outputs": [],
   "source": [
    "type(x[0])"
   ]
  },
  {
   "cell_type": "code",
   "execution_count": null,
   "metadata": {},
   "outputs": [],
   "source": [
    "x.dtype"
   ]
  },
  {
   "cell_type": "markdown",
   "metadata": {
    "id": "NiEofCzYZBrQ"
   },
   "source": [
    "### Vector Transposition"
   ]
  },
  {
   "cell_type": "code",
   "execution_count": null,
   "metadata": {
    "colab": {
     "base_uri": "https://localhost:8080/"
    },
    "id": "hxGFNDx6V95l",
    "outputId": "c76eb8db-2df5-41d3-ef83-87df72f7a4d7"
   },
   "outputs": [],
   "source": [
    "# Transposing a regular 1-D array has no effect...\n",
    "x_t = x.T\n",
    "x_t"
   ]
  },
  {
   "cell_type": "code",
   "execution_count": null,
   "metadata": {
    "colab": {
     "base_uri": "https://localhost:8080/"
    },
    "id": "_f8E9ExDWw4p",
    "outputId": "024104e6-7d16-49f9-e886-e1c9a08c756f"
   },
   "outputs": [],
   "source": [
    "x_t.shape"
   ]
  },
  {
   "cell_type": "code",
   "execution_count": null,
   "metadata": {
    "colab": {
     "base_uri": "https://localhost:8080/"
    },
    "id": "AEd8jB7YcgtT",
    "outputId": "b5489d91-8f91-4582-e990-0d02ecdd4095"
   },
   "outputs": [],
   "source": [
    "# ...but it does we use nested \"matrix-style\" brackets:\n",
    "y = np.array([[25, 2, 5]])\n",
    "y"
   ]
  },
  {
   "cell_type": "code",
   "execution_count": null,
   "metadata": {
    "colab": {
     "base_uri": "https://localhost:8080/"
    },
    "id": "UHQd92oRcgtV",
    "outputId": "19065b81-34fa-41ba-b65c-7f65efca1478"
   },
   "outputs": [],
   "source": [
    "y.shape"
   ]
  },
  {
   "cell_type": "code",
   "execution_count": null,
   "metadata": {
    "colab": {
     "base_uri": "https://localhost:8080/"
    },
    "id": "SPi1JqGEXXUc",
    "outputId": "12f118dd-a5bd-491e-9e1f-73f4a265426c"
   },
   "outputs": [],
   "source": [
    "# ...but can transpose a matrix with a dimension of length 1, which is mathematically equivalent:\n",
    "y_t = y.T\n",
    "y_t"
   ]
  },
  {
   "cell_type": "code",
   "execution_count": null,
   "metadata": {
    "colab": {
     "base_uri": "https://localhost:8080/"
    },
    "id": "6rzUv762Yjis",
    "outputId": "39c8296e-f074-4010-dc21-b79325a8ac3a"
   },
   "outputs": [],
   "source": [
    "y_t.shape # this is a column vector as it has 3 rows and 1 column"
   ]
  },
  {
   "cell_type": "code",
   "execution_count": null,
   "metadata": {
    "colab": {
     "base_uri": "https://localhost:8080/"
    },
    "id": "xVnQMLOrYtra",
    "outputId": "2117f2c2-dc95-42c9-af92-507f5b1a97ec"
   },
   "outputs": [],
   "source": [
    "# Column vector can be transposed back to original row vector:\n",
    "y_t.T"
   ]
  },
  {
   "cell_type": "code",
   "execution_count": null,
   "metadata": {
    "colab": {
     "base_uri": "https://localhost:8080/"
    },
    "id": "QIAA2NLRZIXC",
    "outputId": "8f77c7c5-7fe1-49ae-d4cd-dc232ef944f4"
   },
   "outputs": [],
   "source": [
    "y_t.T.shape"
   ]
  },
  {
   "cell_type": "markdown",
   "metadata": {
    "id": "Voj26mSpZLuh"
   },
   "source": [
    "### Zero Vectors\n",
    "\n",
    "Have no effect if added to another vector"
   ]
  },
  {
   "cell_type": "code",
   "execution_count": null,
   "metadata": {
    "colab": {
     "base_uri": "https://localhost:8080/"
    },
    "id": "-46AbOdkZVn_",
    "outputId": "48e0ffe6-6c0b-40b9-ca08-1a68178da82b"
   },
   "outputs": [],
   "source": [
    "z = np.zeros(3)\n",
    "z"
   ]
  },
  {
   "cell_type": "markdown",
   "metadata": {
    "id": "c6xyYiwSnSGC"
   },
   "source": [
    "### Vectors in PyTorch and TensorFlow"
   ]
  },
  {
   "cell_type": "code",
   "execution_count": null,
   "metadata": {
    "colab": {
     "base_uri": "https://localhost:8080/"
    },
    "id": "s2TGDeqXnitZ",
    "outputId": "dca2930e-9dc8-4db3-bff1-7a0771b0be76"
   },
   "outputs": [],
   "source": [
    "x_pt = torch.tensor([25, 2, 5])\n",
    "x_pt"
   ]
  },
  {
   "cell_type": "code",
   "execution_count": null,
   "metadata": {
    "colab": {
     "base_uri": "https://localhost:8080/"
    },
    "id": "-0jbHgc5iijG",
    "outputId": "6c7b8c17-b848-44d2-8ba0-da1296a2d0c4",
    "scrolled": true
   },
   "outputs": [],
   "source": [
    "x_tf = tf.Variable([25, 2, 5])\n",
    "x_tf"
   ]
  },
  {
   "cell_type": "markdown",
   "metadata": {
    "id": "rTDDta1Ro4Pf"
   },
   "source": [
    "**Return to slides here.**"
   ]
  },
  {
   "cell_type": "markdown",
   "metadata": {
    "id": "8fU5qVTI6SLD"
   },
   "source": [
    "### $L^2$ Norm"
   ]
  },
  {
   "cell_type": "code",
   "execution_count": null,
   "metadata": {
    "colab": {
     "base_uri": "https://localhost:8080/"
    },
    "id": "lLc2FbGG6SLD",
    "outputId": "d2baf173-70e9-4f1f-f773-64803527483d"
   },
   "outputs": [],
   "source": [
    "x"
   ]
  },
  {
   "cell_type": "code",
   "execution_count": null,
   "metadata": {
    "colab": {
     "base_uri": "https://localhost:8080/"
    },
    "id": "AN43hsl86SLG",
    "outputId": "c821c7fd-5aa7-4c77-ccee-feeb90c1722f"
   },
   "outputs": [],
   "source": [
    "(25**2 + 2**2 + 5**2)**(1/2)"
   ]
  },
  {
   "cell_type": "code",
   "execution_count": null,
   "metadata": {
    "colab": {
     "base_uri": "https://localhost:8080/"
    },
    "id": "D9CyWo-l6SLI",
    "outputId": "936d1404-2538-4511-9db8-c5b5806bc5e4"
   },
   "outputs": [],
   "source": [
    "np.linalg.norm(x)"
   ]
  },
  {
   "cell_type": "markdown",
   "metadata": {
    "id": "TNEMRi926SLK"
   },
   "source": [
    "So, if units in this 3-dimensional vector space are meters, then the vector $x$ has a length of 25.6m"
   ]
  },
  {
   "cell_type": "markdown",
   "metadata": {
    "id": "ugQC6k4h6SLK"
   },
   "source": [
    "**Return to slides here.**"
   ]
  },
  {
   "cell_type": "markdown",
   "metadata": {
    "id": "PwiRlMuC6SLK"
   },
   "source": [
    "### $L^1$ Norm"
   ]
  },
  {
   "cell_type": "code",
   "execution_count": null,
   "metadata": {
    "colab": {
     "base_uri": "https://localhost:8080/"
    },
    "id": "lcYKyc5H6SLL",
    "outputId": "905fe7dc-6b8e-4e8b-a65d-839c3564e1c5"
   },
   "outputs": [],
   "source": [
    "x"
   ]
  },
  {
   "cell_type": "code",
   "execution_count": null,
   "metadata": {
    "colab": {
     "base_uri": "https://localhost:8080/"
    },
    "id": "8jNb6nYl6SLM",
    "outputId": "629afdb9-02c7-4f3b-ea4d-210269cffb00"
   },
   "outputs": [],
   "source": [
    "np.abs(25) + np.abs(2) + np.abs(5)"
   ]
  },
  {
   "cell_type": "markdown",
   "metadata": {
    "id": "WTPz0EBSAVee"
   },
   "source": [
    "**Return to slides here.**"
   ]
  },
  {
   "cell_type": "markdown",
   "metadata": {
    "id": "lQP73B916SLP"
   },
   "source": [
    "### Squared $L^2$ Norm"
   ]
  },
  {
   "cell_type": "code",
   "execution_count": null,
   "metadata": {
    "colab": {
     "base_uri": "https://localhost:8080/"
    },
    "id": "Qv1ouJ8r6SLP",
    "outputId": "6cb6eebf-e88a-4b41-aa9f-ac82a78f99e6"
   },
   "outputs": [],
   "source": [
    "x"
   ]
  },
  {
   "cell_type": "code",
   "execution_count": null,
   "metadata": {
    "colab": {
     "base_uri": "https://localhost:8080/"
    },
    "id": "eG3WSB5R6SLT",
    "outputId": "b1971235-6180-4f41-f4fb-d539583f5748"
   },
   "outputs": [],
   "source": [
    "(25**2 + 2**2 + 5**2)"
   ]
  },
  {
   "cell_type": "code",
   "execution_count": null,
   "metadata": {
    "colab": {
     "base_uri": "https://localhost:8080/"
    },
    "id": "bXwzSudS6SLV",
    "outputId": "264e1226-1066-4b64-db16-0070ba65b245"
   },
   "outputs": [],
   "source": [
    "# we'll cover tensor multiplication more soon but to prove point quickly:\n",
    "np.dot(x, x)"
   ]
  },
  {
   "cell_type": "markdown",
   "metadata": {
    "id": "q3CIH9ba6SLX"
   },
   "source": [
    "**Return to slides here.**"
   ]
  },
  {
   "cell_type": "markdown",
   "metadata": {
    "id": "BHWxVPFC6SLX"
   },
   "source": [
    "### Max Norm"
   ]
  },
  {
   "cell_type": "code",
   "execution_count": null,
   "metadata": {
    "colab": {
     "base_uri": "https://localhost:8080/"
    },
    "id": "vO-zfvDG6SLX",
    "outputId": "e3c17461-b374-47ed-e95b-f7ef61f1bfca"
   },
   "outputs": [],
   "source": [
    "x"
   ]
  },
  {
   "cell_type": "code",
   "execution_count": null,
   "metadata": {
    "colab": {
     "base_uri": "https://localhost:8080/"
    },
    "id": "vXXLgbyW6SLZ",
    "outputId": "eae3e34d-ae6f-46f0-bb0b-a518792c2cb7"
   },
   "outputs": [],
   "source": [
    "np.max([np.abs(25), np.abs(2), np.abs(5)])"
   ]
  },
  {
   "cell_type": "markdown",
   "metadata": {
    "id": "3MVTsXA8nNR0"
   },
   "source": [
    "**Return to slides here.**"
   ]
  },
  {
   "cell_type": "markdown",
   "metadata": {
    "id": "JzKlIpYZcgt9"
   },
   "source": [
    "### Orthogonal Vectors"
   ]
  },
  {
   "cell_type": "code",
   "execution_count": null,
   "metadata": {
    "colab": {
     "base_uri": "https://localhost:8080/"
    },
    "id": "4jHg9La-cgt9",
    "outputId": "ece7c34c-c185-44bf-c5cd-218ab3e80c87"
   },
   "outputs": [],
   "source": [
    "i = np.array([1, 0])\n",
    "i"
   ]
  },
  {
   "cell_type": "code",
   "execution_count": null,
   "metadata": {
    "colab": {
     "base_uri": "https://localhost:8080/"
    },
    "id": "3FyLhPK3cguA",
    "outputId": "580fea73-ce7a-406e-c9b5-70ebe1f26a79"
   },
   "outputs": [],
   "source": [
    "j = np.array([0, 1])\n",
    "j"
   ]
  },
  {
   "cell_type": "code",
   "execution_count": null,
   "metadata": {
    "colab": {
     "base_uri": "https://localhost:8080/"
    },
    "id": "7eQtKhaDcguC",
    "outputId": "4422976d-b8de-4526-88ba-be0e7aa43754"
   },
   "outputs": [],
   "source": [
    "np.dot(i, j) # detail on the dot operation coming up..."
   ]
  },
  {
   "cell_type": "markdown",
   "metadata": {
    "id": "C6eMVPu4nNR7"
   },
   "source": [
    "**Return to slides here.**"
   ]
  },
  {
   "cell_type": "markdown",
   "metadata": {
    "id": "mK3AZH53o8Br"
   },
   "source": [
    "### Matrices (Rank 2 Tensors) in NumPy"
   ]
  },
  {
   "cell_type": "code",
   "execution_count": null,
   "metadata": {
    "colab": {
     "base_uri": "https://localhost:8080/"
    },
    "id": "stk57cmaESW1",
    "outputId": "3c147c9a-7d8a-4b1b-aebd-9656a7c1f368"
   },
   "outputs": [],
   "source": [
    "# Use array() with nested brackets:\n",
    "X = np.array([[25, 2], [5, 26], [3, 7]])\n",
    "X"
   ]
  },
  {
   "cell_type": "code",
   "execution_count": null,
   "metadata": {
    "colab": {
     "base_uri": "https://localhost:8080/"
    },
    "id": "IhDL4L8S6SLc",
    "outputId": "599b1ac9-bae5-4bd0-ca42-2e437b22dcbf"
   },
   "outputs": [],
   "source": [
    "X.shape"
   ]
  },
  {
   "cell_type": "code",
   "execution_count": null,
   "metadata": {
    "colab": {
     "base_uri": "https://localhost:8080/"
    },
    "id": "q3oyaAK36SLe",
    "outputId": "b12026d0-5614-4261-cdaa-15e06d33289f"
   },
   "outputs": [],
   "source": [
    "X.size"
   ]
  },
  {
   "cell_type": "code",
   "execution_count": null,
   "metadata": {
    "colab": {
     "base_uri": "https://localhost:8080/"
    },
    "id": "YN9CHzja6SLg",
    "outputId": "fd31c5a0-75ea-4274-9d5e-43e07464edbe"
   },
   "outputs": [],
   "source": [
    "# Select left column of matrix X (zero-indexed)\n",
    "X[:,0]"
   ]
  },
  {
   "cell_type": "code",
   "execution_count": null,
   "metadata": {
    "colab": {
     "base_uri": "https://localhost:8080/"
    },
    "id": "ih7nh4qC6SLi",
    "outputId": "30cd3a8b-0daa-4137-e6d6-0464eb263353"
   },
   "outputs": [],
   "source": [
    "# Select middle row of matrix X:\n",
    "X[1,:]"
   ]
  },
  {
   "cell_type": "code",
   "execution_count": null,
   "metadata": {
    "colab": {
     "base_uri": "https://localhost:8080/"
    },
    "id": "pg7numxP6SLl",
    "outputId": "83d7da30-ec2a-448a-f3d0-c6a87736b5df"
   },
   "outputs": [],
   "source": [
    "# Another slicing-by-index example:\n",
    "X[0:2, 0:2]"
   ]
  },
  {
   "cell_type": "markdown",
   "metadata": {
    "id": "HGEfZiBb6SLt"
   },
   "source": [
    "### Matrices in PyTorch"
   ]
  },
  {
   "cell_type": "code",
   "execution_count": null,
   "metadata": {
    "colab": {
     "base_uri": "https://localhost:8080/"
    },
    "id": "-bibT9ye6SLt",
    "outputId": "c0b079b1-6fa6-48c5-85cd-2713dc27d8d6"
   },
   "outputs": [],
   "source": [
    "X_pt = torch.tensor([[25, 2], [5, 26], [3, 7]])\n",
    "X_pt"
   ]
  },
  {
   "cell_type": "code",
   "execution_count": null,
   "metadata": {
    "colab": {
     "base_uri": "https://localhost:8080/"
    },
    "id": "TBPu1L7P6SLv",
    "outputId": "7f0dcc6a-237e-409e-f6c2-e2bb267208be"
   },
   "outputs": [],
   "source": [
    "X_pt.shape # pythonic relative to TensorFlow"
   ]
  },
  {
   "cell_type": "code",
   "execution_count": null,
   "metadata": {
    "colab": {
     "base_uri": "https://localhost:8080/"
    },
    "id": "4mTj56M16SLw",
    "outputId": "1b03c6e8-10ce-40d5-97e0-357936b1c510"
   },
   "outputs": [],
   "source": [
    "X_pt[1,:] # N.B.: Python is zero-indexed; written algebra is one-indexed"
   ]
  },
  {
   "cell_type": "markdown",
   "metadata": {
    "id": "E026fQlD6SLn"
   },
   "source": [
    "### Matrices in TensorFlow"
   ]
  },
  {
   "cell_type": "code",
   "execution_count": null,
   "metadata": {
    "colab": {
     "base_uri": "https://localhost:8080/"
    },
    "id": "1gtGH6oA6SLn",
    "outputId": "c0ce4bd3-5e6d-48f4-d2f6-6a89fb2be5fa"
   },
   "outputs": [],
   "source": [
    "X_tf = tf.Variable([[25, 2], [5, 26], [3, 7]])\n",
    "X_tf"
   ]
  },
  {
   "cell_type": "code",
   "execution_count": null,
   "metadata": {
    "colab": {
     "base_uri": "https://localhost:8080/"
    },
    "id": "4CV_KiTP6SLp",
    "outputId": "aa1c1260-ad22-47df-ade8-acb92b37a406"
   },
   "outputs": [],
   "source": [
    "tf.rank(X_tf)"
   ]
  },
  {
   "cell_type": "code",
   "execution_count": null,
   "metadata": {
    "colab": {
     "base_uri": "https://localhost:8080/"
    },
    "id": "vUsce8tC6SLq",
    "outputId": "6a67de12-22c8-45be-f757-2abc7a07e56e"
   },
   "outputs": [],
   "source": [
    "tf.shape(X_tf)"
   ]
  },
  {
   "cell_type": "code",
   "execution_count": null,
   "metadata": {
    "colab": {
     "base_uri": "https://localhost:8080/"
    },
    "id": "QNpfvNPj6SLr",
    "outputId": "af5fc194-5874-4894-dfc9-0d8a11087bcf"
   },
   "outputs": [],
   "source": [
    "X_tf[1,:]"
   ]
  },
  {
   "cell_type": "markdown",
   "metadata": {
    "id": "CodS4evY6SLy"
   },
   "source": [
    "**Return to slides here.**"
   ]
  },
  {
   "cell_type": "markdown",
   "metadata": {
    "id": "cMpfujF_6SLy"
   },
   "source": [
    "### Higher-Rank Tensors\n",
    "\n",
    "As an example, rank 4 tensors are common for images, where each dimension corresponds to:\n",
    "\n",
    "1. Number of images in training batch, e.g., 32\n",
    "2. Image height in pixels, e.g., 28 for [MNIST digits](http://yann.lecun.com/exdb/mnist/)\n",
    "3. Image width in pixels, e.g., 28\n",
    "4. Number of color channels, e.g., 3 for full-color images (RGB)"
   ]
  },
  {
   "cell_type": "code",
   "execution_count": null,
   "metadata": {
    "id": "KSZlICRR6SL1"
   },
   "outputs": [],
   "source": [
    "images_pt = torch.zeros([32, 28, 28, 3])"
   ]
  },
  {
   "cell_type": "code",
   "execution_count": null,
   "metadata": {
    "id": "6Dqj0vmh6SL2"
   },
   "outputs": [],
   "source": [
    "# images_pt"
   ]
  },
  {
   "cell_type": "code",
   "execution_count": null,
   "metadata": {
    "id": "7TASTVD96SLy"
   },
   "outputs": [],
   "source": [
    "images_tf = tf.zeros([32, 28, 28, 3])"
   ]
  },
  {
   "cell_type": "code",
   "execution_count": null,
   "metadata": {
    "id": "ftOliyru6SL0"
   },
   "outputs": [],
   "source": [
    "# images_tf"
   ]
  },
  {
   "cell_type": "markdown",
   "metadata": {
    "id": "O3sgkdXZ6SL3"
   },
   "source": [
    "**Return to slides here.**"
   ]
  },
  {
   "cell_type": "markdown",
   "metadata": {
    "id": "lmG3LEZK6SL4"
   },
   "source": [
    "## Segment 2: Common Tensor Operations"
   ]
  },
  {
   "cell_type": "markdown",
   "metadata": {
    "id": "iSHGMCxd6SL4"
   },
   "source": [
    "### Tensor Transposition"
   ]
  },
  {
   "cell_type": "code",
   "execution_count": null,
   "metadata": {
    "colab": {
     "base_uri": "https://localhost:8080/"
    },
    "id": "1YN1narR6SL4",
    "outputId": "9d2f2223-2e97-4066-e774-b7b2990a4387"
   },
   "outputs": [],
   "source": [
    "X"
   ]
  },
  {
   "cell_type": "code",
   "execution_count": null,
   "metadata": {
    "colab": {
     "base_uri": "https://localhost:8080/"
    },
    "id": "5hf3M_NL6SL5",
    "outputId": "a1e37e11-2dd8-47aa-e6fc-d8f41fc9c94f"
   },
   "outputs": [],
   "source": [
    "X.T"
   ]
  },
  {
   "cell_type": "code",
   "execution_count": null,
   "metadata": {
    "colab": {
     "base_uri": "https://localhost:8080/"
    },
    "id": "vyBFN_4g6SL9",
    "outputId": "18d89c80-72b3-4d8f-a343-5319478b103b"
   },
   "outputs": [],
   "source": [
    "X_pt.T"
   ]
  },
  {
   "cell_type": "code",
   "execution_count": null,
   "metadata": {
    "colab": {
     "base_uri": "https://localhost:8080/"
    },
    "id": "K2DuDJc_6SL6",
    "outputId": "fe0b51cb-89c0-47fd-eeef-c99ef54e8b72"
   },
   "outputs": [],
   "source": [
    "tf.transpose(X_tf) # less Pythonic"
   ]
  },
  {
   "cell_type": "markdown",
   "metadata": {
    "id": "Hp9P1jx76SL_"
   },
   "source": [
    "### Basic Arithmetical Properties"
   ]
  },
  {
   "cell_type": "markdown",
   "metadata": {
    "id": "WxaImEUc6SMA"
   },
   "source": [
    "Adding or multiplying with scalar applies operation to all elements and tensor shape is retained:"
   ]
  },
  {
   "cell_type": "code",
   "execution_count": null,
   "metadata": {
    "colab": {
     "base_uri": "https://localhost:8080/"
    },
    "id": "yhXGETii6SMA",
    "outputId": "3b84b86c-40e4-4a9d-ba98-29400df1e3b4"
   },
   "outputs": [],
   "source": [
    "X*2"
   ]
  },
  {
   "cell_type": "code",
   "execution_count": null,
   "metadata": {
    "colab": {
     "base_uri": "https://localhost:8080/"
    },
    "id": "KnPULtDO6SMC",
    "outputId": "7799494b-fdd7-40a9-a25d-6fae2c3dafba"
   },
   "outputs": [],
   "source": [
    "X+2"
   ]
  },
  {
   "cell_type": "code",
   "execution_count": null,
   "metadata": {
    "colab": {
     "base_uri": "https://localhost:8080/"
    },
    "id": "MkfC0Gsb6SMD",
    "outputId": "729eef68-a48e-45d9-e91f-e07e976c7dc2"
   },
   "outputs": [],
   "source": [
    "X*2+2"
   ]
  },
  {
   "cell_type": "code",
   "execution_count": null,
   "metadata": {
    "colab": {
     "base_uri": "https://localhost:8080/"
    },
    "id": "04bIDpGj6SMH",
    "outputId": "4a021c90-7e73-4939-eac7-e22f7a52135e"
   },
   "outputs": [],
   "source": [
    "X_pt*2+2 # Python operators are overloaded; could alternatively use torch.mul() or torch.add()"
   ]
  },
  {
   "cell_type": "code",
   "execution_count": null,
   "metadata": {
    "colab": {
     "base_uri": "https://localhost:8080/"
    },
    "id": "2oRBSmRL6SMI",
    "outputId": "5626b6c5-f89b-400f-fb19-2b550056065f"
   },
   "outputs": [],
   "source": [
    "torch.add(torch.mul(X_pt, 2), 2)"
   ]
  },
  {
   "cell_type": "code",
   "execution_count": null,
   "metadata": {
    "colab": {
     "base_uri": "https://localhost:8080/"
    },
    "id": "OMSb9Otd6SMF",
    "outputId": "ffac929e-7e5c-44a6-f792-9add7acc3ddc"
   },
   "outputs": [],
   "source": [
    "X_tf*2+2 # Operators likewise overloaded; could equally use tf.multiply() tf.add()"
   ]
  },
  {
   "cell_type": "code",
   "execution_count": null,
   "metadata": {
    "colab": {
     "base_uri": "https://localhost:8080/"
    },
    "id": "5ya2xZ4u6SMG",
    "outputId": "2b473b86-0a90-414d-9e5b-d19752d64cc9"
   },
   "outputs": [],
   "source": [
    "tf.add(tf.multiply(X_tf, 2), 2)"
   ]
  },
  {
   "cell_type": "markdown",
   "metadata": {
    "id": "wt8Ls4076SMK"
   },
   "source": [
    "If two tensors have the same size, operations are often by default applied element-wise. This is **not matrix multiplication**, which we'll cover later, but is rather called the **Hadamard product** or simply the **element-wise product**.\n",
    "\n",
    "The mathematical notation is $A \\odot X$"
   ]
  },
  {
   "cell_type": "code",
   "execution_count": null,
   "metadata": {
    "colab": {
     "base_uri": "https://localhost:8080/"
    },
    "id": "KUMyU1t46SMK",
    "outputId": "1ccfbb86-871e-4a8a-cc4c-d5f332418d94"
   },
   "outputs": [],
   "source": [
    "X"
   ]
  },
  {
   "cell_type": "code",
   "execution_count": null,
   "metadata": {
    "colab": {
     "base_uri": "https://localhost:8080/"
    },
    "id": "UNIbp0P36SML",
    "outputId": "ac9a00b6-fc5b-46ed-b58f-a194efe0a9e2"
   },
   "outputs": [],
   "source": [
    "A = X+2\n",
    "A"
   ]
  },
  {
   "cell_type": "code",
   "execution_count": null,
   "metadata": {
    "colab": {
     "base_uri": "https://localhost:8080/"
    },
    "id": "HE9xPWPdcgu4",
    "outputId": "0e7fb59b-eabb-4099-9997-6a0884aa1fde"
   },
   "outputs": [],
   "source": [
    "A + X"
   ]
  },
  {
   "cell_type": "code",
   "execution_count": null,
   "metadata": {
    "colab": {
     "base_uri": "https://localhost:8080/"
    },
    "id": "xKyCwGia6SMP",
    "outputId": "b26a192f-6edf-4c4e-d7e3-1010ab17a565"
   },
   "outputs": [],
   "source": [
    "A * X"
   ]
  },
  {
   "cell_type": "code",
   "execution_count": null,
   "metadata": {
    "id": "B5jXGIBp6SMT"
   },
   "outputs": [],
   "source": [
    "A_pt = X_pt + 2"
   ]
  },
  {
   "cell_type": "code",
   "execution_count": null,
   "metadata": {
    "colab": {
     "base_uri": "https://localhost:8080/"
    },
    "id": "A7k6yxu36SMU",
    "outputId": "a5057174-9c44-4234-8db6-0cc296cc67dd"
   },
   "outputs": [],
   "source": [
    "A_pt + X_pt"
   ]
  },
  {
   "cell_type": "code",
   "execution_count": null,
   "metadata": {
    "colab": {
     "base_uri": "https://localhost:8080/"
    },
    "id": "r8vOul0m6SMW",
    "outputId": "828619be-624e-4924-aa95-c9e314f48fe8"
   },
   "outputs": [],
   "source": [
    "A_pt * X_pt"
   ]
  },
  {
   "cell_type": "code",
   "execution_count": null,
   "metadata": {
    "id": "rQcBMSb76SMQ"
   },
   "outputs": [],
   "source": [
    "A_tf = X_tf + 2"
   ]
  },
  {
   "cell_type": "code",
   "execution_count": null,
   "metadata": {
    "colab": {
     "base_uri": "https://localhost:8080/"
    },
    "id": "x6s1wtNj6SMR",
    "outputId": "8904d6bb-ba2f-4a8d-eed3-fa97ab5f3b48"
   },
   "outputs": [],
   "source": [
    "A_tf + X_tf"
   ]
  },
  {
   "cell_type": "code",
   "execution_count": null,
   "metadata": {
    "colab": {
     "base_uri": "https://localhost:8080/"
    },
    "id": "J1D7--296SMS",
    "outputId": "da919529-d302-4f0f-c4df-3379722d20c2"
   },
   "outputs": [],
   "source": [
    "A_tf * X_tf"
   ]
  },
  {
   "cell_type": "markdown",
   "metadata": {
    "id": "FE5f-FEq6SMY"
   },
   "source": [
    "### Reduction"
   ]
  },
  {
   "cell_type": "markdown",
   "metadata": {
    "id": "WPJ9FVQF6SMY"
   },
   "source": [
    "Calculating the sum across all elements of a tensor is a common operation. For example:\n",
    "\n",
    "* For vector ***x*** of length *n*, we calculate $\\sum_{i=1}^{n} x_i$\n",
    "* For matrix ***X*** with *m* by *n* dimensions, we calculate $\\sum_{i=1}^{m} \\sum_{j=1}^{n} X_{i,j}$"
   ]
  },
  {
   "cell_type": "code",
   "execution_count": null,
   "metadata": {
    "colab": {
     "base_uri": "https://localhost:8080/"
    },
    "id": "rXi2stvz6SMZ",
    "outputId": "7ea95647-da4e-4293-c668-13d3bad8e1d0"
   },
   "outputs": [],
   "source": [
    "X"
   ]
  },
  {
   "cell_type": "code",
   "execution_count": null,
   "metadata": {
    "colab": {
     "base_uri": "https://localhost:8080/"
    },
    "id": "W9FKaJbf6SMZ",
    "outputId": "01308bf7-b99e-44cd-cc93-76d504affaf7"
   },
   "outputs": [],
   "source": [
    "X.sum()"
   ]
  },
  {
   "cell_type": "code",
   "execution_count": null,
   "metadata": {
    "colab": {
     "base_uri": "https://localhost:8080/"
    },
    "id": "3y9aw7t66SMc",
    "outputId": "234c1149-b78d-4d2d-9724-b25434e20760"
   },
   "outputs": [],
   "source": [
    "torch.sum(X_pt)"
   ]
  },
  {
   "cell_type": "code",
   "execution_count": null,
   "metadata": {
    "colab": {
     "base_uri": "https://localhost:8080/"
    },
    "id": "wcjRtFml6SMb",
    "outputId": "c1b1f84d-83b0-4c45-ccd2-b312f6851305"
   },
   "outputs": [],
   "source": [
    "tf.reduce_sum(X_tf)"
   ]
  },
  {
   "cell_type": "code",
   "execution_count": null,
   "metadata": {
    "colab": {
     "base_uri": "https://localhost:8080/"
    },
    "id": "awjH9bOz6SMc",
    "outputId": "12d3fb04-b017-413c-cb8a-72c9795b9fa4"
   },
   "outputs": [],
   "source": [
    "# Can also be done along one specific axis alone, e.g.:\n",
    "X.sum(axis=0) # summing over all rows (i.e., along columns)"
   ]
  },
  {
   "cell_type": "code",
   "execution_count": null,
   "metadata": {
    "colab": {
     "base_uri": "https://localhost:8080/"
    },
    "id": "n2SASjsn6SMd",
    "outputId": "ae990ba3-eca0-4ed6-dcbf-bc929e7f0c20"
   },
   "outputs": [],
   "source": [
    "X.sum(axis=1) # summing over all columns (i.e., along rows)"
   ]
  },
  {
   "cell_type": "code",
   "execution_count": null,
   "metadata": {
    "colab": {
     "base_uri": "https://localhost:8080/"
    },
    "id": "uVnSxvSJ6SMh",
    "outputId": "396683c4-e825-4287-b5d2-e97a8cef5a9f"
   },
   "outputs": [],
   "source": [
    "torch.sum(X_pt, 0)"
   ]
  },
  {
   "cell_type": "code",
   "execution_count": null,
   "metadata": {
    "colab": {
     "base_uri": "https://localhost:8080/"
    },
    "id": "IO8drxz36SMe",
    "outputId": "0a0f18a6-d220-4ecb-94a1-68f1978920f7"
   },
   "outputs": [],
   "source": [
    "tf.reduce_sum(X_tf, 1)"
   ]
  },
  {
   "cell_type": "markdown",
   "metadata": {
    "id": "gdAe8S4A6SMj"
   },
   "source": [
    "Many other operations can be applied with reduction along all or a selection of axes, e.g.:\n",
    "\n",
    "* maximum\n",
    "* minimum\n",
    "* mean\n",
    "* product\n",
    "\n",
    "They're fairly straightforward and used less often than summation, so you're welcome to look them up in library docs if you ever need them."
   ]
  },
  {
   "cell_type": "markdown",
   "metadata": {
    "id": "r2eW8S_46SMj"
   },
   "source": [
    "### The Dot Product"
   ]
  },
  {
   "cell_type": "markdown",
   "metadata": {
    "id": "LImETgD76SMj"
   },
   "source": [
    "If we have two vectors (say, ***x*** and ***y***) with the same length *n*, we can calculate the dot product between them. This is annotated several different ways, including the following:\n",
    "\n",
    "* $x \\cdot y$\n",
    "* $x^Ty$\n",
    "* $\\langle x,y \\rangle$\n",
    "\n",
    "Regardless which notation you use (I prefer the first), the calculation is the same; we calculate products in an element-wise fashion and then sum reductively across the products to a scalar value. That is, $x \\cdot y = \\sum_{i=1}^{n} x_i y_i$\n",
    "\n",
    "The dot product is ubiquitous in deep learning: It is performed at every artificial neuron in a deep neural network, which may be made up of millions (or orders of magnitude more) of these neurons."
   ]
  },
  {
   "cell_type": "code",
   "execution_count": null,
   "metadata": {
    "colab": {
     "base_uri": "https://localhost:8080/"
    },
    "id": "HveIE3IDcgvP",
    "outputId": "7e47ff8a-3d70-4480-b585-b0cac5bea84e"
   },
   "outputs": [],
   "source": [
    "x"
   ]
  },
  {
   "cell_type": "code",
   "execution_count": null,
   "metadata": {
    "colab": {
     "base_uri": "https://localhost:8080/"
    },
    "id": "3ZjkZcvVcgvQ",
    "outputId": "3d4f0992-086a-4789-912d-6899b31dab37"
   },
   "outputs": [],
   "source": [
    "y = np.array([0, 1, 2])\n",
    "y"
   ]
  },
  {
   "cell_type": "code",
   "execution_count": null,
   "metadata": {
    "colab": {
     "base_uri": "https://localhost:8080/"
    },
    "id": "Xu8z0QB0cgvR",
    "outputId": "684539d6-0ebb-47f3-d2f4-6ec21a14e1f8"
   },
   "outputs": [],
   "source": [
    "25*0 + 2*1 + 5*2"
   ]
  },
  {
   "cell_type": "code",
   "execution_count": null,
   "metadata": {
    "colab": {
     "base_uri": "https://localhost:8080/"
    },
    "id": "ThehRrr8cgvS",
    "outputId": "23b6fb0b-f5c8-414a-c09d-1552a44a5591"
   },
   "outputs": [],
   "source": [
    "np.dot(x, y)"
   ]
  },
  {
   "cell_type": "code",
   "execution_count": null,
   "metadata": {
    "colab": {
     "base_uri": "https://localhost:8080/"
    },
    "id": "J5Zdua4xcgvT",
    "outputId": "d59bc178-eccd-46f2-d889-32b266eee56f"
   },
   "outputs": [],
   "source": [
    "x_pt"
   ]
  },
  {
   "cell_type": "code",
   "execution_count": null,
   "metadata": {
    "colab": {
     "base_uri": "https://localhost:8080/"
    },
    "id": "b3vEdroXcgvU",
    "outputId": "63ef19a6-2bbf-4336-d216-2b941658e9fe"
   },
   "outputs": [],
   "source": [
    "y_pt = torch.tensor([0, 1, 2])\n",
    "y_pt"
   ]
  },
  {
   "cell_type": "code",
   "execution_count": null,
   "metadata": {
    "colab": {
     "base_uri": "https://localhost:8080/"
    },
    "id": "F741E5imcgvV",
    "outputId": "754c34c3-548f-4674-8cbd-925cb0d78a6d"
   },
   "outputs": [],
   "source": [
    "np.dot(x_pt, y_pt)"
   ]
  },
  {
   "cell_type": "code",
   "execution_count": null,
   "metadata": {
    "colab": {
     "base_uri": "https://localhost:8080/"
    },
    "id": "-W5loHc8cgvX",
    "outputId": "18e71dbb-163f-4291-8090-366a21c35642"
   },
   "outputs": [],
   "source": [
    "torch.dot(torch.tensor([25, 2, 5.]), torch.tensor([0, 1, 2.]))"
   ]
  },
  {
   "cell_type": "code",
   "execution_count": null,
   "metadata": {
    "colab": {
     "base_uri": "https://localhost:8080/"
    },
    "id": "jUwKBiqzcgvY",
    "outputId": "710897b4-cdc5-48f8-ba45-a536a3d1c686"
   },
   "outputs": [],
   "source": [
    "x_tf"
   ]
  },
  {
   "cell_type": "code",
   "execution_count": null,
   "metadata": {
    "colab": {
     "base_uri": "https://localhost:8080/"
    },
    "id": "Xqt3Rac7cgvZ",
    "outputId": "50214346-8c20-42aa-d25d-1eb711f35330"
   },
   "outputs": [],
   "source": [
    "y_tf = tf.Variable([0, 1, 2])\n",
    "y_tf"
   ]
  },
  {
   "cell_type": "code",
   "execution_count": null,
   "metadata": {
    "colab": {
     "base_uri": "https://localhost:8080/"
    },
    "id": "x4pgc5JEcgvc",
    "outputId": "a3e872f5-c429-4e0f-ea1a-7751d9e289d5"
   },
   "outputs": [],
   "source": [
    "tf.reduce_sum(tf.multiply(x_tf, y_tf))"
   ]
  },
  {
   "cell_type": "markdown",
   "metadata": {
    "id": "mSmvC1cc6SMj"
   },
   "source": [
    "**Return to slides here.**"
   ]
  },
  {
   "cell_type": "markdown",
   "metadata": {
    "id": "9dfTV7hQR6zn"
   },
   "source": [
    "### Solving Linear Systems"
   ]
  },
  {
   "cell_type": "markdown",
   "metadata": {
    "id": "pCoSpqtWSyFd"
   },
   "source": [
    "In the **Substitution** example, the two equations in the system are:\n",
    "$$ y = 3x $$\n",
    "$$ -5x + 2y = 2 $$\n",
    "\n",
    "The second equation can be rearranged to isolate $y$:\n",
    "$$ 2y = 2 + 5x $$\n",
    "$$ y = \\frac{2 + 5x}{2} = 1 + \\frac{5x}{2} $$"
   ]
  },
  {
   "cell_type": "code",
   "execution_count": null,
   "metadata": {
    "id": "1T0_m11kTh82"
   },
   "outputs": [],
   "source": [
    "x = np.linspace(-10, 10, 1000) # start, finish, n points"
   ]
  },
  {
   "cell_type": "code",
   "execution_count": null,
   "metadata": {
    "id": "_K6IyUWcTh85"
   },
   "outputs": [],
   "source": [
    "y1 = 3 * x"
   ]
  },
  {
   "cell_type": "code",
   "execution_count": null,
   "metadata": {
    "id": "DYkQdUJ5Th86"
   },
   "outputs": [],
   "source": [
    "y2 = 1 + (5*x)/2"
   ]
  },
  {
   "cell_type": "code",
   "execution_count": null,
   "metadata": {
    "colab": {
     "base_uri": "https://localhost:8080/",
     "height": 455
    },
    "id": "aBL9NDoHTh86",
    "outputId": "dada3255-d947-4809-95e9-dc2485cb7a34"
   },
   "outputs": [],
   "source": [
    "fig, ax = plt.subplots()\n",
    "plt.xlabel('x')\n",
    "plt.ylabel('y')\n",
    "ax.set_xlim([0, 3])\n",
    "ax.set_ylim([0, 8])\n",
    "ax.plot(x, y1, c='green')\n",
    "ax.plot(x, y2, c='brown')\n",
    "plt.axvline(x=2, color='purple', linestyle='--')\n",
    "_ = plt.axhline(y=6, color='purple', linestyle='--')"
   ]
  },
  {
   "cell_type": "markdown",
   "metadata": {
    "id": "vACSnJgP87xA"
   },
   "source": [
    "**Return to slides here.**"
   ]
  },
  {
   "cell_type": "markdown",
   "metadata": {
    "id": "F3X4p66XVFXH"
   },
   "source": [
    "In the **Elimination** example, the two equations in the system are:\n",
    "$$ 2x - 3y = 15 $$\n",
    "$$ 4x + 10y = 14 $$\n",
    "\n",
    "Both equations can be rearranged to isolate $y$. Starting with the first equation:\n",
    "$$ -3y = 15 - 2x $$\n",
    "$$ y = \\frac{15 - 2x}{-3} = -5 + \\frac{2x}{3} $$\n",
    "\n",
    "Then for the second equation:\n",
    "$$ 4x + 10y = 14 $$\n",
    "$$ 2x + 5y = 7 $$\n",
    "$$ 5y = 7 - 2x $$\n",
    "$$ y = \\frac{7 - 2x}{5} $$"
   ]
  },
  {
   "cell_type": "code",
   "execution_count": null,
   "metadata": {
    "id": "5x3kfV_WWhlR"
   },
   "outputs": [],
   "source": [
    "y1 = -5 + (2*x)/3"
   ]
  },
  {
   "cell_type": "code",
   "execution_count": null,
   "metadata": {
    "id": "dqA1lS0CWu5z"
   },
   "outputs": [],
   "source": [
    "y2 = (7-2*x)/5"
   ]
  },
  {
   "cell_type": "code",
   "execution_count": null,
   "metadata": {
    "colab": {
     "base_uri": "https://localhost:8080/",
     "height": 455
    },
    "id": "6CfRNs1DWzx5",
    "outputId": "c32b733e-c5b9-4654-d2f9-4d4f6cdfa93e"
   },
   "outputs": [],
   "source": [
    "fig, ax = plt.subplots()\n",
    "plt.xlabel('x')\n",
    "plt.ylabel('y')\n",
    "\n",
    "# Add x and y axes:\n",
    "plt.axvline(x=0, color='lightgray')\n",
    "plt.axhline(y=0, color='lightgray')\n",
    "\n",
    "ax.set_xlim([-2, 10])\n",
    "ax.set_ylim([-6, 4])\n",
    "ax.plot(x, y1, c='green')\n",
    "ax.plot(x, y2, c='brown')\n",
    "plt.axvline(x=6, color='purple', linestyle='--')\n",
    "_ = plt.axhline(y=-1, color='purple', linestyle='--')"
   ]
  },
  {
   "cell_type": "markdown",
   "metadata": {
    "id": "CezB87Tb-QGh"
   },
   "source": [
    "**Return to slides here.**"
   ]
  },
  {
   "cell_type": "markdown",
   "metadata": {
    "id": "bYDhomCP6SMj"
   },
   "source": [
    "## Segment 3: Matrix Properties"
   ]
  },
  {
   "cell_type": "markdown",
   "metadata": {
    "id": "-HGU_an66SMk"
   },
   "source": [
    "### Frobenius Norm"
   ]
  },
  {
   "cell_type": "code",
   "execution_count": null,
   "metadata": {
    "colab": {
     "base_uri": "https://localhost:8080/"
    },
    "id": "pNQHvAqN6SMk",
    "outputId": "916cf013-483f-48a2-e66a-dcb8be2be58a"
   },
   "outputs": [],
   "source": [
    "X = np.array([[1, 2], [3, 4]])\n",
    "X"
   ]
  },
  {
   "cell_type": "code",
   "execution_count": null,
   "metadata": {
    "colab": {
     "base_uri": "https://localhost:8080/"
    },
    "id": "T-q-Tzn26SMm",
    "outputId": "f13d60e4-6d8c-4628-acda-01a5bf85876f"
   },
   "outputs": [],
   "source": [
    "(1**2 + 2**2 + 3**2 + 4**2)**(1/2)"
   ]
  },
  {
   "cell_type": "code",
   "execution_count": null,
   "metadata": {
    "colab": {
     "base_uri": "https://localhost:8080/"
    },
    "id": "YVG8qiFw6SMn",
    "outputId": "c0b5b228-8724-4bb2-b1ce-531b359e36c8"
   },
   "outputs": [],
   "source": [
    "np.linalg.norm(X) # same function as for vector L2 norm"
   ]
  },
  {
   "cell_type": "code",
   "execution_count": null,
   "metadata": {
    "id": "FPnBflKVxyik"
   },
   "outputs": [],
   "source": [
    "X_pt = torch.tensor([[1, 2], [3, 4.]]) # torch.norm() supports floats only"
   ]
  },
  {
   "cell_type": "code",
   "execution_count": null,
   "metadata": {
    "colab": {
     "base_uri": "https://localhost:8080/"
    },
    "id": "NCdTShVyx8z0",
    "outputId": "b574d8aa-4700-4f75-959d-2b0501f44bc8"
   },
   "outputs": [],
   "source": [
    "torch.norm(X_pt)"
   ]
  },
  {
   "cell_type": "code",
   "execution_count": null,
   "metadata": {
    "id": "blezf9fLx_nD"
   },
   "outputs": [],
   "source": [
    "X_tf = tf.Variable([[1, 2], [3, 4.]]) # tf.norm() also supports floats only"
   ]
  },
  {
   "cell_type": "code",
   "execution_count": null,
   "metadata": {
    "colab": {
     "base_uri": "https://localhost:8080/"
    },
    "id": "LiCQzyf6ySCZ",
    "outputId": "560c2751-1cde-4622-d8f6-4f6661710b89"
   },
   "outputs": [],
   "source": [
    "tf.norm(X_tf)"
   ]
  },
  {
   "cell_type": "markdown",
   "metadata": {
    "id": "4c6rjVAf6SMo"
   },
   "source": [
    "**Return to slides here.**"
   ]
  },
  {
   "cell_type": "markdown",
   "metadata": {
    "id": "OLN-MMIe6SMo"
   },
   "source": [
    "### Matrix Multiplication (with a Vector)"
   ]
  },
  {
   "cell_type": "code",
   "execution_count": null,
   "metadata": {
    "colab": {
     "base_uri": "https://localhost:8080/"
    },
    "id": "XJw0j8cr6SMo",
    "outputId": "287c7d56-a31a-4990-e7ef-069d8ae3da65"
   },
   "outputs": [],
   "source": [
    "A = np.array([[3, 4], [5, 6], [7, 8]])\n",
    "A"
   ]
  },
  {
   "cell_type": "code",
   "execution_count": null,
   "metadata": {
    "colab": {
     "base_uri": "https://localhost:8080/"
    },
    "id": "zZQ1Aupc6SMq",
    "outputId": "ef242b77-62eb-4ce2-f468-5c9bb93b20cf"
   },
   "outputs": [],
   "source": [
    "b = np.array([1, 2])\n",
    "b"
   ]
  },
  {
   "cell_type": "code",
   "execution_count": null,
   "metadata": {
    "colab": {
     "base_uri": "https://localhost:8080/"
    },
    "id": "ZbeVtNyW6SMq",
    "outputId": "d0e9832a-e2a8-4819-c852-5ff9a427a6a6"
   },
   "outputs": [],
   "source": [
    "np.dot(A, b) # even though technically dot products are between vectors only"
   ]
  },
  {
   "cell_type": "code",
   "execution_count": null,
   "metadata": {
    "colab": {
     "base_uri": "https://localhost:8080/"
    },
    "id": "srVI55X96SMu",
    "outputId": "881f9985-25e3-4589-942c-42afb9ecf7cb"
   },
   "outputs": [],
   "source": [
    "A_pt = torch.tensor([[3, 4], [5, 6], [7, 8]])\n",
    "A_pt"
   ]
  },
  {
   "cell_type": "code",
   "execution_count": null,
   "metadata": {
    "colab": {
     "base_uri": "https://localhost:8080/"
    },
    "id": "5SDn71Xc6SMv",
    "outputId": "2af7f92d-7799-446c-bad1-e6368df39940"
   },
   "outputs": [],
   "source": [
    "b_pt = torch.tensor([1, 2])\n",
    "b_pt"
   ]
  },
  {
   "cell_type": "code",
   "execution_count": null,
   "metadata": {
    "colab": {
     "base_uri": "https://localhost:8080/"
    },
    "id": "OIeoJlsh6SMx",
    "outputId": "0b1008a9-b5e7-4d40-b88e-2bb0c0319f91"
   },
   "outputs": [],
   "source": [
    "torch.matmul(A_pt, b_pt) # like np.dot(), automatically infers dims in order to perform dot product, matvec, or matrix multiplication"
   ]
  },
  {
   "cell_type": "code",
   "execution_count": null,
   "metadata": {
    "colab": {
     "base_uri": "https://localhost:8080/"
    },
    "id": "pnob9GkB6SMs",
    "outputId": "07b3a129-35f1-41b8-b1f9-7c208a4b9277"
   },
   "outputs": [],
   "source": [
    "A_tf = tf.Variable([[3, 4], [5, 6], [7, 8]])\n",
    "A_tf"
   ]
  },
  {
   "cell_type": "code",
   "execution_count": null,
   "metadata": {
    "colab": {
     "base_uri": "https://localhost:8080/"
    },
    "id": "vYtWxf8K6SMt",
    "outputId": "a83bf927-bb8e-4c60-b6da-3cb6cb5edd57"
   },
   "outputs": [],
   "source": [
    "b_tf = tf.Variable([1, 2])\n",
    "b_tf"
   ]
  },
  {
   "cell_type": "code",
   "execution_count": null,
   "metadata": {
    "colab": {
     "base_uri": "https://localhost:8080/"
    },
    "id": "NGBImWRH6SMt",
    "outputId": "3d2f4fcd-04d8-4dbb-bee5-f9c2151fdea3"
   },
   "outputs": [],
   "source": [
    "tf.linalg.matvec(A_tf, b_tf)"
   ]
  },
  {
   "cell_type": "markdown",
   "metadata": {
    "id": "kzjZmdRR6SMy"
   },
   "source": [
    "**Return to slides here.**"
   ]
  },
  {
   "cell_type": "markdown",
   "metadata": {
    "id": "21ySqay36SM5"
   },
   "source": [
    "### Matrix Multiplication (with Two Matrices)"
   ]
  },
  {
   "cell_type": "code",
   "execution_count": null,
   "metadata": {
    "colab": {
     "base_uri": "https://localhost:8080/"
    },
    "id": "0YRG1Ig2cgvo",
    "outputId": "02ab25c2-ca74-4d3a-d845-6716906305a3"
   },
   "outputs": [],
   "source": [
    "A"
   ]
  },
  {
   "cell_type": "code",
   "execution_count": null,
   "metadata": {
    "colab": {
     "base_uri": "https://localhost:8080/"
    },
    "id": "DyOEZk_c6SM5",
    "outputId": "bb6d846b-4a97-4b90-a6ca-d4010269a6c9"
   },
   "outputs": [],
   "source": [
    "B = np.array([[1, 9], [2, 0]])\n",
    "B"
   ]
  },
  {
   "cell_type": "code",
   "execution_count": null,
   "metadata": {
    "colab": {
     "base_uri": "https://localhost:8080/"
    },
    "id": "SfKuNxH-6SM6",
    "outputId": "3c6271ee-c89e-4707-ba0d-96e8a585ebf7"
   },
   "outputs": [],
   "source": [
    "np.dot(A, B)"
   ]
  },
  {
   "cell_type": "markdown",
   "metadata": {
    "id": "WcnQMF0s6SNB"
   },
   "source": [
    "Note that matrix multiplication is not \"commutative\" (i.e., $AB \\neq BA$) so uncommenting the following line will throw a size mismatch error:"
   ]
  },
  {
   "cell_type": "code",
   "execution_count": null,
   "metadata": {
    "id": "_mwBGOXO6SNB"
   },
   "outputs": [],
   "source": [
    "# np.dot(B, A)"
   ]
  },
  {
   "cell_type": "code",
   "execution_count": null,
   "metadata": {
    "colab": {
     "base_uri": "https://localhost:8080/"
    },
    "id": "JrrvPoNE6SM9",
    "outputId": "8e9b7b0e-c56e-4a28-f858-93886de0968d"
   },
   "outputs": [],
   "source": [
    "B_pt = torch.from_numpy(B) # much cleaner than TF conversion\n",
    "B_pt"
   ]
  },
  {
   "cell_type": "code",
   "execution_count": null,
   "metadata": {
    "colab": {
     "base_uri": "https://localhost:8080/"
    },
    "id": "Z6PfwCvX6SM-",
    "outputId": "37454147-f8c3-41f4-f8ce-6fb3ef8f4524"
   },
   "outputs": [],
   "source": [
    "# another neat way to create the same tensor with transposition:\n",
    "B_pt = torch.tensor([[1, 2], [9, 0]]).T\n",
    "B_pt"
   ]
  },
  {
   "cell_type": "code",
   "execution_count": null,
   "metadata": {
    "colab": {
     "base_uri": "https://localhost:8080/"
    },
    "id": "16ZNRaVe6SM_",
    "outputId": "c32eb80d-f84c-4670-dead-0f34b0f9498f"
   },
   "outputs": [],
   "source": [
    "torch.matmul(A_pt, B_pt) # no need to change functions, unlike in TF"
   ]
  },
  {
   "cell_type": "code",
   "execution_count": null,
   "metadata": {
    "colab": {
     "base_uri": "https://localhost:8080/"
    },
    "id": "rkymNjE46SM8",
    "outputId": "712a076c-160d-4e9e-d57f-29ef716eff08"
   },
   "outputs": [],
   "source": [
    "B_tf = tf.convert_to_tensor(B, dtype=tf.int32)\n",
    "B_tf"
   ]
  },
  {
   "cell_type": "code",
   "execution_count": null,
   "metadata": {
    "colab": {
     "base_uri": "https://localhost:8080/"
    },
    "id": "rslTzFRk6SM8",
    "outputId": "d424a4ee-e161-4ddf-e825-e533507d66f5"
   },
   "outputs": [],
   "source": [
    "tf.matmul(A_tf, B_tf)"
   ]
  },
  {
   "cell_type": "markdown",
   "metadata": {
    "id": "0eBiTmPp6SNC"
   },
   "source": [
    "**Return to slides here.**"
   ]
  },
  {
   "cell_type": "markdown",
   "metadata": {
    "id": "L2H9F-DQ6SMz"
   },
   "source": [
    "### Symmetric Matrices"
   ]
  },
  {
   "cell_type": "code",
   "execution_count": null,
   "metadata": {
    "colab": {
     "base_uri": "https://localhost:8080/"
    },
    "id": "5YsPoWo76SMz",
    "outputId": "d41b1efa-ec4e-4fde-82fb-c3a98ddc3d49"
   },
   "outputs": [],
   "source": [
    "X_sym = np.array([[0, 1, 2], [1, 7, 8], [2, 8, 9]])\n",
    "X_sym"
   ]
  },
  {
   "cell_type": "code",
   "execution_count": null,
   "metadata": {
    "colab": {
     "base_uri": "https://localhost:8080/"
    },
    "id": "Skg1wSQVcgv2",
    "outputId": "dde3fe41-cc5b-4647-ffaf-5a207a82b644"
   },
   "outputs": [],
   "source": [
    "X_sym.T"
   ]
  },
  {
   "cell_type": "code",
   "execution_count": null,
   "metadata": {
    "colab": {
     "base_uri": "https://localhost:8080/"
    },
    "id": "Jv40-i9H6SM1",
    "outputId": "b23c92fa-c452-4a36-ca27-92fd1dcd64bc"
   },
   "outputs": [],
   "source": [
    "X_sym.T == X_sym"
   ]
  },
  {
   "cell_type": "markdown",
   "metadata": {
    "id": "QZFoUFkq6SM2"
   },
   "source": [
    "**Return to slides here.**"
   ]
  },
  {
   "cell_type": "markdown",
   "metadata": {
    "id": "Mq_c3ftZ6SM2"
   },
   "source": [
    "### Identity Matrices"
   ]
  },
  {
   "cell_type": "code",
   "execution_count": null,
   "metadata": {
    "colab": {
     "base_uri": "https://localhost:8080/"
    },
    "id": "KVSNbH-Z6SM2",
    "outputId": "46ce4da4-9435-4744-e097-d7129142bf0b"
   },
   "outputs": [],
   "source": [
    "I = torch.tensor([[1, 0, 0], [0, 1, 0], [0, 0, 1]])\n",
    "I"
   ]
  },
  {
   "cell_type": "code",
   "execution_count": null,
   "metadata": {
    "colab": {
     "base_uri": "https://localhost:8080/"
    },
    "id": "wcoPDhvR6SM3",
    "outputId": "2fb868dc-a57d-4c88-9fa9-d6009ec28a76"
   },
   "outputs": [],
   "source": [
    "x_pt = torch.tensor([25, 2, 5])\n",
    "x_pt"
   ]
  },
  {
   "cell_type": "code",
   "execution_count": null,
   "metadata": {
    "colab": {
     "base_uri": "https://localhost:8080/"
    },
    "id": "tuA4RsMv6SM4",
    "outputId": "d8983050-aafa-4d61-9fa2-8814a245bc5a"
   },
   "outputs": [],
   "source": [
    "torch.matmul(I, x_pt)"
   ]
  },
  {
   "cell_type": "markdown",
   "metadata": {
    "id": "bgDiOYLk6SM5"
   },
   "source": [
    "**Return to slides here.**"
   ]
  },
  {
   "cell_type": "markdown",
   "metadata": {
    "id": "3S_6Yfdkcgv7"
   },
   "source": [
    "### Answers to Matrix Multiplication Qs"
   ]
  },
  {
   "cell_type": "code",
   "execution_count": null,
   "metadata": {
    "colab": {
     "base_uri": "https://localhost:8080/"
    },
    "id": "pINsKNxH6SNC",
    "outputId": "749e8b80-4ece-4e71-d253-071ee8231e73"
   },
   "outputs": [],
   "source": [
    "M_q = torch.tensor([[0, 1, 2], [3, 4, 5], [6, 7, 8]])\n",
    "M_q"
   ]
  },
  {
   "cell_type": "code",
   "execution_count": null,
   "metadata": {
    "colab": {
     "base_uri": "https://localhost:8080/"
    },
    "id": "gfjWd8OO6SNE",
    "outputId": "e05d8691-6939-4356-ef6e-d4cb66311d79"
   },
   "outputs": [],
   "source": [
    "V_q = torch.tensor([[-1, 1, -2], [0, 1, 2]]).T\n",
    "V_q"
   ]
  },
  {
   "cell_type": "code",
   "execution_count": null,
   "metadata": {
    "colab": {
     "base_uri": "https://localhost:8080/"
    },
    "id": "boSkaV2M6SNF",
    "outputId": "412a3565-f9fd-4e6f-f3b0-c85ec84b1a9f"
   },
   "outputs": [],
   "source": [
    "torch.matmul(M_q, V_q)"
   ]
  },
  {
   "cell_type": "markdown",
   "metadata": {
    "id": "slSNKUcN6SNG"
   },
   "source": [
    "### Matrix Inversion"
   ]
  },
  {
   "cell_type": "code",
   "execution_count": null,
   "metadata": {
    "colab": {
     "base_uri": "https://localhost:8080/"
    },
    "id": "EW0i5ZRk6SNG",
    "outputId": "157f1989-5346-4066-98ed-f1c807610754"
   },
   "outputs": [],
   "source": [
    "X = np.array([[4, 2], [-5, -3]])\n",
    "X"
   ]
  },
  {
   "cell_type": "code",
   "execution_count": null,
   "metadata": {
    "colab": {
     "base_uri": "https://localhost:8080/"
    },
    "id": "hTYpxaWR6SNI",
    "outputId": "dee8a0e1-801f-48e7-ea6a-64d6822a6ba9"
   },
   "outputs": [],
   "source": [
    "Xinv = np.linalg.inv(X)\n",
    "Xinv"
   ]
  },
  {
   "cell_type": "markdown",
   "metadata": {
    "id": "XFDBBdYOc-7E"
   },
   "source": [
    "As a quick aside, let's prove that $X^{-1}X = I_n$ as per the slides:"
   ]
  },
  {
   "cell_type": "code",
   "execution_count": null,
   "metadata": {
    "colab": {
     "base_uri": "https://localhost:8080/"
    },
    "id": "tyPhf-uZcvdB",
    "outputId": "1b0f5f09-b0da-4f36-d248-f68056b0f4e1"
   },
   "outputs": [],
   "source": [
    "np.dot(Xinv, X)"
   ]
  },
  {
   "cell_type": "markdown",
   "metadata": {
    "id": "SVwvbBvclul1"
   },
   "source": [
    "...and now back to solving for the unknowns in $w$:"
   ]
  },
  {
   "cell_type": "code",
   "execution_count": null,
   "metadata": {
    "colab": {
     "base_uri": "https://localhost:8080/"
    },
    "id": "Q5sQqFaz6SNK",
    "outputId": "92c47ee8-9375-4c79-c8ea-63c56ce5e396"
   },
   "outputs": [],
   "source": [
    "y = np.array([4, -7])\n",
    "y"
   ]
  },
  {
   "cell_type": "code",
   "execution_count": null,
   "metadata": {
    "colab": {
     "base_uri": "https://localhost:8080/"
    },
    "id": "PK7m6F1I6SNL",
    "outputId": "ac9bda7d-a937-4c90-e8d5-ed177a1f8dc0"
   },
   "outputs": [],
   "source": [
    "w = np.dot(Xinv, y)\n",
    "w"
   ]
  },
  {
   "cell_type": "markdown",
   "metadata": {
    "id": "fyBOHgdccgwD"
   },
   "source": [
    "Show that $y = Xw$:"
   ]
  },
  {
   "cell_type": "code",
   "execution_count": null,
   "metadata": {
    "colab": {
     "base_uri": "https://localhost:8080/"
    },
    "id": "SVBojjwacgwD",
    "outputId": "805a0f2c-8ae0-41d8-c121-c270bd67c479"
   },
   "outputs": [],
   "source": [
    "np.dot(X, w)"
   ]
  },
  {
   "cell_type": "markdown",
   "metadata": {
    "id": "rKELsi0PZCr0"
   },
   "source": [
    "**Geometric Visualization**\n",
    "\n",
    "Recalling from the slides that the two equations in the system are:\n",
    "$$ 4b + 2c = 4 $$\n",
    "$$ -5b - 3c = -7 $$\n",
    "\n",
    "Both equations can be rearranged to isolate a variable, say $c$. Starting with the first equation:\n",
    "$$ 4b + 2c = 4 $$\n",
    "$$ 2b + c = 2 $$\n",
    "$$ c = 2 - 2b $$\n",
    "\n",
    "Then for the second equation:\n",
    "$$ -5b - 3c = -7 $$\n",
    "$$ -3c = -7 + 5b $$\n",
    "$$ c = \\frac{-7 + 5b}{-3} = \\frac{7 - 5b}{3} $$"
   ]
  },
  {
   "cell_type": "code",
   "execution_count": null,
   "metadata": {
    "id": "ZASIBqroap7k"
   },
   "outputs": [],
   "source": [
    "b = np.linspace(-10, 10, 1000) # start, finish, n points"
   ]
  },
  {
   "cell_type": "code",
   "execution_count": null,
   "metadata": {
    "id": "9XsUdVsmaqTr"
   },
   "outputs": [],
   "source": [
    "c1 = 2 - 2*b"
   ]
  },
  {
   "cell_type": "code",
   "execution_count": null,
   "metadata": {
    "id": "8Mwn1tAca1Cl"
   },
   "outputs": [],
   "source": [
    "c2 = (7-5*b)/3"
   ]
  },
  {
   "cell_type": "code",
   "execution_count": null,
   "metadata": {
    "colab": {
     "base_uri": "https://localhost:8080/",
     "height": 455
    },
    "id": "X5ozP9jZauQa",
    "outputId": "d6d69af4-657c-4a70-9020-b028c43c20fa"
   },
   "outputs": [],
   "source": [
    "fig, ax = plt.subplots()\n",
    "plt.xlabel('b', c='darkorange')\n",
    "plt.ylabel('c', c='brown')\n",
    "\n",
    "plt.axvline(x=0, color='lightgray')\n",
    "plt.axhline(y=0, color='lightgray')\n",
    "\n",
    "ax.set_xlim([-2, 3])\n",
    "ax.set_ylim([-1, 5])\n",
    "ax.plot(b, c1, c='purple')\n",
    "ax.plot(b, c2, c='purple')\n",
    "plt.axvline(x=-1, color='green', linestyle='--')\n",
    "_ = plt.axhline(y=4, color='green', linestyle='--')"
   ]
  },
  {
   "cell_type": "markdown",
   "metadata": {
    "id": "14uhePTna7ZV"
   },
   "source": [
    "In PyTorch and TensorFlow:"
   ]
  },
  {
   "cell_type": "code",
   "execution_count": null,
   "metadata": {
    "colab": {
     "base_uri": "https://localhost:8080/"
    },
    "id": "7qo-SAvaansp",
    "outputId": "3bca970e-71dc-4072-dff7-3c59a0fb9b37"
   },
   "outputs": [],
   "source": [
    "torch.inverse(torch.tensor([[4, 2], [-5, -3.]])) # float type"
   ]
  },
  {
   "cell_type": "code",
   "execution_count": null,
   "metadata": {
    "colab": {
     "base_uri": "https://localhost:8080/"
    },
    "id": "uqtyF3Jqaz4l",
    "outputId": "2960b1e8-66a2-40be-eb09-a86754ab596c"
   },
   "outputs": [],
   "source": [
    "tf.linalg.inv(tf.Variable([[4, 2], [-5, -3.]])) # also float"
   ]
  },
  {
   "cell_type": "markdown",
   "metadata": {
    "id": "hcP2S4AMAHT_"
   },
   "source": [
    "**Exercises**:\n",
    "\n",
    "1. As done with NumPy above, use PyTorch to calculate $w$ from $X$ and $y$. Subsequently, confirm that $y = Xw$.\n",
    "2. Repeat again, now using TensorFlow."
   ]
  },
  {
   "cell_type": "markdown",
   "metadata": {
    "id": "AMxROg326SNN"
   },
   "source": [
    "**Return to slides here.**"
   ]
  },
  {
   "cell_type": "markdown",
   "metadata": {
    "id": "N8ZxpgcN6SNO"
   },
   "source": [
    "### Matrix Inversion Where No Solution"
   ]
  },
  {
   "cell_type": "code",
   "execution_count": null,
   "metadata": {
    "colab": {
     "base_uri": "https://localhost:8080/"
    },
    "id": "RYORHY4E6SNO",
    "outputId": "ac15d9a5-90e8-4003-cd2e-1b2bccc6381c"
   },
   "outputs": [],
   "source": [
    "X = np.array([[-4, 1], [-8, 2]])\n",
    "X"
   ]
  },
  {
   "cell_type": "code",
   "execution_count": null,
   "metadata": {
    "id": "o7GcISdI6SNP"
   },
   "outputs": [],
   "source": [
    "# Uncommenting the following line results in a \"singular matrix\" error\n",
    "# Xinv = np.linalg.inv(X)"
   ]
  },
  {
   "cell_type": "markdown",
   "metadata": {
    "id": "uk485dwoI021"
   },
   "source": [
    "Feel free to try inverting a non-square matrix; this will throw an error too.\n",
    "\n",
    "**Return to slides here.**"
   ]
  },
  {
   "cell_type": "markdown",
   "metadata": {
    "id": "BXomEBoyDQyO"
   },
   "source": [
    "### Orthogonal Matrices\n",
    "\n",
    "These are the solutions to Exercises 3 and 4 on **orthogonal matrices** from the slides.\n",
    "\n",
    "For Exercise 3, to demonstrate the matrix $I_3$ has mutually orthogonal columns, we show that the dot product of any pair of columns is zero:"
   ]
  },
  {
   "cell_type": "code",
   "execution_count": null,
   "metadata": {
    "colab": {
     "base_uri": "https://localhost:8080/"
    },
    "id": "-Un4Aq805HM1",
    "outputId": "b3370a08-816a-4d36-a123-149db7fb661e"
   },
   "outputs": [],
   "source": [
    "I = np.array([[1, 0, 0], [0, 1, 0], [0, 0, 1]])\n",
    "I"
   ]
  },
  {
   "cell_type": "code",
   "execution_count": null,
   "metadata": {
    "colab": {
     "base_uri": "https://localhost:8080/"
    },
    "id": "CUhMi2_IEyaI",
    "outputId": "0b7c751a-0cd2-49bb-dde5-8e3895d7a12d"
   },
   "outputs": [],
   "source": [
    "column_1 = I[:,0]\n",
    "column_1"
   ]
  },
  {
   "cell_type": "code",
   "execution_count": null,
   "metadata": {
    "colab": {
     "base_uri": "https://localhost:8080/"
    },
    "id": "xsOtn-siE63K",
    "outputId": "a334201a-5e98-405b-d430-24e74307ac6d"
   },
   "outputs": [],
   "source": [
    "column_2 = I[:,1]\n",
    "column_2"
   ]
  },
  {
   "cell_type": "code",
   "execution_count": null,
   "metadata": {
    "colab": {
     "base_uri": "https://localhost:8080/"
    },
    "id": "Pv3b51ExE9ZX",
    "outputId": "2cd0a54e-2440-4fef-ff71-c0c0401cc94f"
   },
   "outputs": [],
   "source": [
    "column_3 = I[:,2]\n",
    "column_3"
   ]
  },
  {
   "cell_type": "code",
   "execution_count": null,
   "metadata": {
    "colab": {
     "base_uri": "https://localhost:8080/"
    },
    "id": "VhnRlc8eElYc",
    "outputId": "2473373b-936c-45e8-8ef2-a305351a9390"
   },
   "outputs": [],
   "source": [
    "np.dot(column_1, column_2)"
   ]
  },
  {
   "cell_type": "code",
   "execution_count": null,
   "metadata": {
    "colab": {
     "base_uri": "https://localhost:8080/"
    },
    "id": "mVq4m-LfFGjQ",
    "outputId": "d1b8a9b5-8b20-44d0-ce59-1a6b7ba05c2c"
   },
   "outputs": [],
   "source": [
    "np.dot(column_1, column_3)"
   ]
  },
  {
   "cell_type": "code",
   "execution_count": null,
   "metadata": {
    "colab": {
     "base_uri": "https://localhost:8080/"
    },
    "id": "nJj-aihzFILx",
    "outputId": "e11e422d-0268-4830-d840-22ebd21db873"
   },
   "outputs": [],
   "source": [
    "np.dot(column_2, column_3)"
   ]
  },
  {
   "cell_type": "markdown",
   "metadata": {
    "id": "FIzpkdJmFYdY"
   },
   "source": [
    "We can use the `np.linalg.norm()` method from earlier in the notebook to demonstrate that each column of $I_3$ has unit norm:"
   ]
  },
  {
   "cell_type": "code",
   "execution_count": null,
   "metadata": {
    "colab": {
     "base_uri": "https://localhost:8080/"
    },
    "id": "xKbbeqegFJSc",
    "outputId": "b496a162-a447-44b8-cad8-ce768afda24b"
   },
   "outputs": [],
   "source": [
    "np.linalg.norm(column_1)"
   ]
  },
  {
   "cell_type": "code",
   "execution_count": null,
   "metadata": {
    "colab": {
     "base_uri": "https://localhost:8080/"
    },
    "id": "Ycv0L8mpGKRC",
    "outputId": "1dad31ec-d76d-450c-ae53-4388241db990"
   },
   "outputs": [],
   "source": [
    "np.linalg.norm(column_2)"
   ]
  },
  {
   "cell_type": "code",
   "execution_count": null,
   "metadata": {
    "colab": {
     "base_uri": "https://localhost:8080/"
    },
    "id": "LsEuRezYGLgY",
    "outputId": "44d2899e-fef2-499f-9051-002e0b9deb33"
   },
   "outputs": [],
   "source": [
    "np.linalg.norm(column_3)"
   ]
  },
  {
   "cell_type": "markdown",
   "metadata": {
    "id": "NMrHdyrsGQ1X"
   },
   "source": [
    "Since the matrix $I_3$ has mutually orthogonal columns and each column has unit norm, the column vectors of $I_3$ are *orthonormal*. Since $I_3^T = I_3$, this means that the *rows* of $I_3$ must also be orthonormal.\n",
    "\n",
    "Since the columns and rows of $I_3$ are orthonormal, $I_3$ is an *orthogonal matrix*."
   ]
  },
  {
   "cell_type": "markdown",
   "metadata": {
    "id": "K7EykcPdIZhE"
   },
   "source": [
    "For Exercise 4, let's repeat the steps of Exercise 3 with matrix *K* instead of $I_3$. We could use NumPy again, but for fun I'll use PyTorch instead. (You're welcome to try it with TensorFlow if you feel so inclined.)"
   ]
  },
  {
   "cell_type": "code",
   "execution_count": null,
   "metadata": {
    "colab": {
     "base_uri": "https://localhost:8080/"
    },
    "id": "MXVyu8tSGMlZ",
    "outputId": "454c991b-1357-4a7e-f642-de51ad634095"
   },
   "outputs": [],
   "source": [
    "K = torch.tensor([[2/3, 1/3, 2/3], [-2/3, 2/3, 1/3], [1/3, 2/3, -2/3]])\n",
    "K"
   ]
  },
  {
   "cell_type": "code",
   "execution_count": null,
   "metadata": {
    "colab": {
     "base_uri": "https://localhost:8080/"
    },
    "id": "xqkmSYNfJmTs",
    "outputId": "5b314b21-1200-45f0-b9ee-02ff3a76319f"
   },
   "outputs": [],
   "source": [
    "Kcol_1 = K[:,0]\n",
    "Kcol_1"
   ]
  },
  {
   "cell_type": "code",
   "execution_count": null,
   "metadata": {
    "colab": {
     "base_uri": "https://localhost:8080/"
    },
    "id": "ncoc3IxNJ0v2",
    "outputId": "9c0de5c0-1311-4d2a-f2a8-c8b035799afe"
   },
   "outputs": [],
   "source": [
    "Kcol_2 = K[:,1]\n",
    "Kcol_2"
   ]
  },
  {
   "cell_type": "code",
   "execution_count": null,
   "metadata": {
    "colab": {
     "base_uri": "https://localhost:8080/"
    },
    "id": "ISEKQ0AqJ2wf",
    "outputId": "beaa5849-4d3c-4af7-cead-e4cd90faee99"
   },
   "outputs": [],
   "source": [
    "Kcol_3 = K[:,2]\n",
    "Kcol_3"
   ]
  },
  {
   "cell_type": "code",
   "execution_count": null,
   "metadata": {
    "colab": {
     "base_uri": "https://localhost:8080/"
    },
    "id": "jvdXuMzbJ44d",
    "outputId": "8c35ee3b-9dbd-4a2e-c11a-857fa688d535"
   },
   "outputs": [],
   "source": [
    "torch.dot(Kcol_1, Kcol_2)"
   ]
  },
  {
   "cell_type": "code",
   "execution_count": null,
   "metadata": {
    "colab": {
     "base_uri": "https://localhost:8080/"
    },
    "id": "BUR60eBuKEbU",
    "outputId": "abd95aa8-5557-4b29-871a-e09409095f62"
   },
   "outputs": [],
   "source": [
    "torch.dot(Kcol_1, Kcol_3)"
   ]
  },
  {
   "cell_type": "code",
   "execution_count": null,
   "metadata": {
    "colab": {
     "base_uri": "https://localhost:8080/"
    },
    "id": "Rg7QvQwuKGJZ",
    "outputId": "bf55069c-186d-4a53-9b68-84b42e5e4454"
   },
   "outputs": [],
   "source": [
    "torch.dot(Kcol_2, Kcol_3)"
   ]
  },
  {
   "cell_type": "markdown",
   "metadata": {
    "id": "wNdV36-QKNK-"
   },
   "source": [
    "We've now determined that the columns of $K$ are orthogonal."
   ]
  },
  {
   "cell_type": "code",
   "execution_count": null,
   "metadata": {
    "colab": {
     "base_uri": "https://localhost:8080/"
    },
    "id": "DDgyhj1AKHdS",
    "outputId": "ae72ed8b-2617-4cd4-91ec-7c94a1ab94d7"
   },
   "outputs": [],
   "source": [
    "torch.norm(Kcol_1)"
   ]
  },
  {
   "cell_type": "code",
   "execution_count": null,
   "metadata": {
    "colab": {
     "base_uri": "https://localhost:8080/"
    },
    "id": "KvQZy_E2KorW",
    "outputId": "10824173-467d-45c4-e931-4e65bec68229"
   },
   "outputs": [],
   "source": [
    "torch.norm(Kcol_2)"
   ]
  },
  {
   "cell_type": "code",
   "execution_count": null,
   "metadata": {
    "colab": {
     "base_uri": "https://localhost:8080/"
    },
    "id": "7H7dx8a7Kp9f",
    "outputId": "7de33d74-e385-4542-9dd7-375ae744a50a"
   },
   "outputs": [],
   "source": [
    "torch.norm(Kcol_3)"
   ]
  },
  {
   "cell_type": "markdown",
   "metadata": {
    "id": "VPPtOk5OKtJ_"
   },
   "source": [
    "We've now determined that, in addition to being orthogonal, the columns of $K$ have unit norm, therefore they are orthonormal.\n",
    "\n",
    "To ensure that $K$ is an orthogonal matrix, we would need to show that not only does it have orthonormal columns but it has orthonormal rows are as well. Since $K^T \\neq K$, we can't prove this quite as straightforwardly as we did with $I_3$.\n",
    "\n",
    "One approach would be to repeat the steps we used to determine that $K$ has orthogonal columns with all of the matrix's rows (please feel free to do so). Alternatively, we can use an orthogonal matrix-specific equation from the slides, $A^TA = I$, to demonstrate that $K$ is orthogonal in a single line of code:"
   ]
  },
  {
   "cell_type": "code",
   "execution_count": null,
   "metadata": {
    "colab": {
     "base_uri": "https://localhost:8080/"
    },
    "id": "W8Ao0KhVNHqF",
    "outputId": "3a3ae6c8-91c3-456a-9060-5b6e0524cde6"
   },
   "outputs": [],
   "source": [
    "torch.matmul(K.T, K)"
   ]
  },
  {
   "cell_type": "markdown",
   "metadata": {
    "id": "scM6FCpjNgYA"
   },
   "source": [
    "Notwithstanding rounding errors that we can safely ignore, this confirms that $K^TK = I$ and therefore $K$ is an orthogonal matrix."
   ]
  }
 ],
 "metadata": {
  "colab": {
   "include_colab_link": true,
   "name": "1-intro-to-linear-algebra.ipynb",
   "provenance": []
  },
  "kernelspec": {
   "display_name": "Python 3 (ipykernel)",
   "language": "python",
   "name": "python3"
  },
  "language_info": {
   "codemirror_mode": {
    "name": "ipython",
    "version": 3
   },
   "file_extension": ".py",
   "mimetype": "text/x-python",
   "name": "python",
   "nbconvert_exporter": "python",
   "pygments_lexer": "ipython3",
   "version": "3.11.11"
  }
 },
 "nbformat": 4,
 "nbformat_minor": 4
}
=======
    },
    {
      "cell_type": "markdown",
      "metadata": {
        "id": "2khww76J5w9n"
      },
      "source": [
        "## Segment 1: Data Structures for Algebra\n",
        "\n",
        "**Slides used to begin segment, with focus on introducing what linear algebra is, including hands-on paper and pencil exercises.**"
      ]
    },
    {
      "cell_type": "markdown",
      "metadata": {
        "id": "niG_MgK-iV6K"
      },
      "source": [
        "### What Linear Algebra Is"
      ]
    },
    {
      "cell_type": "code",
      "metadata": {
        "id": "LApX90aliab_"
      },
      "source": [
        "import numpy as np\n",
        "import matplotlib.pyplot as plt"
      ],
      "execution_count": 1,
      "outputs": []
    },
    {
      "cell_type": "code",
      "metadata": {
        "id": "E4odh9Shic1S"
      },
      "source": [
        "t = np.linspace(0, 40, 1000) # start, finish, n points"
      ],
      "execution_count": 2,
      "outputs": []
    },
    {
      "cell_type": "code",
      "source": [
        "t.shape"
      ],
      "metadata": {
        "colab": {
          "base_uri": "https://localhost:8080/"
        },
        "id": "nZg2ttXCBrH2",
        "outputId": "97c54554-8b46-454c-aec1-6b0f91d94035"
      },
      "execution_count": 3,
      "outputs": [
        {
          "output_type": "execute_result",
          "data": {
            "text/plain": [
              "(1000,)"
            ]
          },
          "metadata": {},
          "execution_count": 3
        }
      ]
    },
    {
      "cell_type": "markdown",
      "metadata": {
        "id": "N-tYny12nIyO"
      },
      "source": [
        "Distance travelled by robber: $d = 2.5t$"
      ]
    },
    {
      "cell_type": "code",
      "metadata": {
        "id": "e_zDOxgHiezz",
        "colab": {
          "base_uri": "https://localhost:8080/"
        },
        "outputId": "7f31d30b-fc5d-46b7-e0d9-139fb25ec4dc"
      },
      "source": [
        "d_r = 2.5 * t\n",
        "d_r.min(), d_r.max()"
      ],
      "execution_count": 4,
      "outputs": [
        {
          "output_type": "execute_result",
          "data": {
            "text/plain": [
              "(np.float64(0.0), np.float64(100.0))"
            ]
          },
          "metadata": {},
          "execution_count": 4
        }
      ]
    },
    {
      "cell_type": "markdown",
      "metadata": {
        "id": "djVjXZy-nPaR"
      },
      "source": [
        "Distance travelled by sheriff: $d = 3(t-5)$"
      ]
    },
    {
      "cell_type": "code",
      "metadata": {
        "id": "JtaNeYSCifrI",
        "colab": {
          "base_uri": "https://localhost:8080/"
        },
        "outputId": "1a8fa387-0c2d-413e-96d7-d85d5eaac38f"
      },
      "source": [
        "d_s = 3 * (t-5)\n",
        "d_s.min(), d_s.max()"
      ],
      "execution_count": 5,
      "outputs": [
        {
          "output_type": "execute_result",
          "data": {
            "text/plain": [
              "(np.float64(-15.0), np.float64(105.0))"
            ]
          },
          "metadata": {},
          "execution_count": 5
        }
      ]
    },
    {
      "cell_type": "code",
      "metadata": {
        "id": "SaaIjJSEigic",
        "colab": {
          "base_uri": "https://localhost:8080/",
          "height": 472
        },
        "outputId": "44cf0e32-1d8d-4186-9918-f7df976541a8"
      },
      "source": [
        "fig, ax = plt.subplots()\n",
        "plt.title('A Bank Robber Caught')\n",
        "plt.xlabel('time (in minutes)')\n",
        "plt.ylabel('distance (in km)')\n",
        "ax.set_xlim([0, 60]) # originally set to 40\n",
        "ax.set_ylim([0, 110]) # originally set to 100\n",
        "ax.plot(t, d_r, c='green')\n",
        "ax.plot(t, d_s, c='red')\n",
        "plt.axvline(x=30, color='purple', linestyle='--')\n",
        "_ = plt.axhline(y=75, color='purple', linestyle='--')"
      ],
      "execution_count": 6,
      "outputs": [
        {
          "output_type": "display_data",
          "data": {
            "text/plain": [
              "<Figure size 640x480 with 1 Axes>"
            ],
            "image/png": "iVBORw0KGgoAAAANSUhEUgAAAkQAAAHHCAYAAABeLEexAAAAOnRFWHRTb2Z0d2FyZQBNYXRwbG90bGliIHZlcnNpb24zLjEwLjAsIGh0dHBzOi8vbWF0cGxvdGxpYi5vcmcvlHJYcgAAAAlwSFlzAAAPYQAAD2EBqD+naQAAeFxJREFUeJzt3Xd4FFXbx/HvpocEEmoCUoJ0kI4iggIhEJp0EAgQEEWlCoIaFUUfFOFBH0ARBKVK7x2MIYD0IqBI74iETgIJqTvvH/u6GiEQwiab8vtc117Mzpw5c2eA3TtnZs5tMgzDQERERCQHc7B3ACIiIiL2poRIREREcjwlRCIiIpLjKSESERGRHE8JkYiIiOR4SohEREQkx1NCJCIiIjmeEiIRERHJ8ZQQiYiISI6nhEhEHpmfnx8tW7a0dxhWqY1nxowZmEwm9u7dmwFRZX2Z7e9ZJD0pIRKxo2+++QaTyUTt2rUfab8GDRpgMpmsLxcXF0qWLEmfPn24cOFCOkVrG/+O3d3dnSpVqjBu3DjMZrO9w8swp06d4rXXXuPJJ5/Ezc2NPHnyULduXcaPH8/du3ftHd4jOXz4MCNGjODs2bP2DkUkzZzsHYBITjZnzhz8/PzYvXs3J0+epHTp0qnet2jRoowaNQqA+Ph4Dh8+zOTJk9mwYQNHjhwhV65c6RX2Y/tn7NeuXWPu3LkMHjyYq1ev8umnn9o5uvS3Zs0aOnbsiKurKz169OCpp54iPj6erVu3MmzYMH7//XemTJli7zBT7fDhw3z88cc0aNAAPz8/e4cjkiZKiETs5MyZM2zfvp2lS5fy2muvMWfOHD766KNU7+/l5UW3bt2SrStZsiT9+/dn27ZtNG7c2NYh28y/Y3/99dcpX748X331FZ988gmOjo52jO7xRUdH4+Hhcd9tZ86coXPnzpQoUYKNGzdSuHBh67Z+/fpx8uRJ1qxZk1Ghisj/0yUzETuZM2cOefPmpUWLFnTo0IE5c+Y8dp++vr4AODn9/bvOuXPn6Nu3L+XKlcPd3Z38+fPTsWPHey5v/HV/zbZt2xgyZAgFCxbEw8ODtm3bcvXq1Ycee+bMmTg5OTFs2LBHjtvNzY2nn36a27dvc+XKFev6xMRE/vOf/1CqVClcXV3x8/PjvffeIy4u7r79/Pjjj1SrVg03NzcqVqzI0qVL79suJiaG1157jfz585MnTx569OjBzZs372m3bt06nn/+eTw8PMidOzctWrTg999/T9amZ8+eeHp6curUKZo3b07u3LkJCgpK8WcdM2YMd+7c4fvvv0+WDP2ldOnSDBo0yPp++vTp+Pv7U6hQIVxdXalYsSKTJk26Zz+TycSIESPuWe/n50fPnj2Trfv111+pX78+7u7uFC1alJEjRzJ9+nRMJtN9L3tt3bqVZ555Bjc3N5588klmzZpl3TZjxgw6duwIQMOGDa2XQjdt2pTiORDJjDRCJGInc+bMoV27dri4uNClSxcmTZrEnj17ePrpp1O1f1JSEteuXQMgISGBI0eO8NFHH1G6dGnq1q1rbbdnzx62b99O586dKVq0KGfPnmXSpEk0aNCAw4cP33NpbcCAAeTNm5ePPvqIs2fPMm7cOPr378+CBQtSjGXKlCm8/vrrvPfee4wcOTINZwPOnj2LyWTC29vbuu6VV15h5syZdOjQgbfeeotdu3YxatQojhw5wrJly5Ltf+LECV566SVef/11goODmT59Oh07dmT9+vX3jJb1798fb29vRowYwbFjx5g0aRLnzp1j06ZNmEwmAGbPnk1wcDCBgYGMHj2amJgYJk2aRL169di/f3+yS0OJiYkEBgZSr149xo4d+8DLlatWreLJJ5/kueeeS9V5mTRpEpUqVaJVq1Y4OTmxatUq+vbti9lspl+/fqnq458uXrxoTVxCQkLw8PDgu+++w9XV9b7tT548SYcOHejduzfBwcFMmzaNnj17UrNmTSpVqsQLL7zAwIEDmTBhAu+99x4VKlQAsP4pkmUYIpLh9u7dawBGaGioYRiGYTabjaJFixqDBg1K1f7169c3gHteFSpUME6fPp2sbUxMzD3779ixwwCMWbNmWddNnz7dAIyAgADDbDZb1w8ePNhwdHQ0bt26ZV1XokQJo0WLFoZhGMb48eMNk8lk/Oc//0l17OXLlzeuXr1qXL161Th69KgxbNgwA7D2aRiGceDAAQMwXnnllWT7Dx061ACMjRs3JosHMJYsWWJdFxkZaRQuXNioXr36PT9jzZo1jfj4eOv6MWPGGICxYsUKwzAM4/bt24a3t7fx6quvJjt2RESE4eXllWx9cHCwARjvvvvuQ3/2yMhIAzBat2790LZ/ud/fX2BgoPHkk08mWwcYH3300T1tS5QoYQQHB1vfDxgwwDCZTMb+/fut665fv27ky5fPAIwzZ84k2xcwtmzZYl135coVw9XV1Xjrrbes6xYtWmQARnh4eKp/LpHMRpfMROxgzpw5+Pj40LBhQ8ByueOll15i/vz5JCUlpaoPPz8/QkNDCQ0NZd26dYwbN47IyEiaNWuW7BKXu7u7dTkhIYHr169TunRpvL29+eWXX+7pt0+fPtZREoDnn3+epKQkzp07d0/bMWPGMGjQIEaPHs0HH3yQ6p//6NGjFCxYkIIFC1K+fHn++9//0qpVK2bMmGFts3btWgCGDBmSbN+33noL4J77bIoUKULbtm2t7/+6FLZ//34iIiLu+RmdnZ2t79944w2cnJysxwwNDeXWrVt06dKFa9euWV+Ojo7Url2b8PDwe36mN95446E/d1RUFAC5c+d+aNu//PPvLzIykmvXrlG/fn1Onz5NZGRkqvv5y/r166lTpw7VqlWzrsuXL1+Kl/kqVqzI888/b31fsGBBypUrx+nTpx/52CKZmS6ZiWSwpKQk5s+fT8OGDTlz5ox1fe3atfniiy8ICwujSZMmD+3Hw8ODgIAA6/umTZtSr149atWqxeeff84XX3wBwN27dxk1ahTTp0/n4sWLGIZh3ed+X6jFixdP9j5v3rwA99xjs3nzZtasWcM777zzyPcN+fn5MXXqVMxmM6dOneLTTz/l6tWruLm5WducO3cOBweHe5688/X1xdvb+54ErXTp0skSOYCyZcsClstxf91fBVCmTJlk7Tw9PSlcuLD1/pkTJ04A4O/vf9/48+TJk+y9k5MTRYsWfdiPbd3v9u3bD237l23btvHRRx+xY8cOYmJikm2LjIzEy8sr1X2B5bzWqVPnnvUpPeH4738PYPk3cb97rkSyMiVEIhls48aNXLp0ifnz5zN//vx7ts+ZMydVCdH91KxZEy8vL7Zs2WJdN2DAAKZPn86bb75JnTp18PLywmQy0blz5/vO+5PSE17/TKQAKlWqxK1bt5g9ezavvfYaJUuWTHWc/07m6tatS40aNXjvvfeYMGFCsrb/TnIywl/nZfbs2ckSqb/886Z1AFdXVxwcHj7gnidPHooUKcKhQ4dSFcepU6do1KgR5cuX58svv6RYsWK4uLiwdu1a/ve//6Vq3qbUjjimJLX/HkSyOiVEIhlszpw5FCpUiIkTJ96zbenSpSxbtozJkycnu1TyKJKSkrhz5471/eLFiwkODraOGAHExsZy69atNPX/lwIFCrB48WLq1atHo0aN2Lp1K0WKFElTX1WqVKFbt258++23DB06lOLFi1OiRAnMZjMnTpxIdoPu5cuXuXXrFiVKlEjWx8mTJzEMI1kCdfz4cYB75sY5ceKE9XIlwJ07d7h06RLNmzcHoFSpUgAUKlQoWeJmCy1btmTKlCns2LHjviM1/7Rq1Sri4uJYuXJlspGa+12yy5s37z1/p/Hx8Vy6dCnZuhIlSnDy5Ml79r/futSyR9IqYmu6h0gkA929e5elS5fSsmVLOnTocM+rf//+3L59m5UrV6ap//DwcO7cuUPVqlWt6xwdHe/5bf6rr7567JEDsEyw+NNPP3H37l0aN27M9evX09zX22+/TUJCAl9++SWANTkZN25csnZ/bW/RokWy9X/++WeyJ8+ioqKYNWsW1apVu2eUZ8qUKSQkJFjfT5o0icTERJo1awZAYGAgefLk4bPPPkvW7i+pmYYgJW+//TYeHh688sorXL58+Z7tp06dYvz48cDfozP/vsw5ffr0e/YrVapUspFBsPyc//57DgwMZMeOHRw4cMC67saNG4817cNfcy49bpItYk8aIRLJQCtXruT27du0atXqvtufffZZChYsyJw5c3jppZce2FdkZCQ//PADYHns+6/Hx93d3Xn33Xet7Vq2bMns2bPx8vKiYsWK7Nixg59++on8+fPb5GcqXbo0P/74Iw0aNCAwMJCNGzfec49NalSsWJHmzZvz3XffMXz4cKpWrUpwcDBTpkzh1q1b1K9fn927dzNz5kzatGmTbIQHLPcL9e7dmz179uDj48O0adO4fPnyfZOH+Ph4GjVqRKdOnTh27BjffPMN9erVs/695MmTh0mTJtG9e3dq1KhB586dKViwIOfPn2fNmjXUrVuXr7/+Ok3nq1SpUsydO5eXXnqJChUqJJupevv27SxatMg6b1CTJk1wcXHhxRdf5LXXXuPOnTtMnTqVQoUK3TPy88orr/D666/Tvn17GjduzMGDB9mwYQMFChRI1u7tt9/mhx9+oHHjxgwYMMD62H3x4sW5ceNGmkZ7qlWrhqOjI6NHjyYyMhJXV1fr3EkiWYY9H3ETyWlefPFFw83NzYiOjk6xTc+ePQ1nZ2fj2rVrKbb592P3JpPJyJcvn9GqVStj3759ydrevHnT6NWrl1GgQAHD09PTCAwMNI4ePXrP49h/PZK+Z8+eZPuHh4ff80j1Px+7/8uuXbuM3LlzGy+88MJ9HxX/Z+yVKlW677ZNmzYle3w8ISHB+Pjjj42SJUsazs7ORrFixYyQkBAjNjY22X5/xbNhwwajSpUqhqurq1G+fHlj0aJFydr99TNu3rzZ6NOnj5E3b17D09PTCAoKMq5fv35PPOHh4UZgYKDh5eVluLm5GaVKlTJ69uxp7N2719omODjY8PDwSPHnTcnx48eNV1991fDz8zNcXFyM3LlzG3Xr1jW++uqrZD/fypUrjSpVqhhubm6Gn5+fMXr0aGPatGn3PCKflJRkvPPOO0aBAgWMXLlyGYGBgcbJkyfv+Xs2DMPYv3+/8fzzzxuurq5G0aJFjVGjRhkTJkwwACMiIuKe8/pv9evXN+rXr59s3dSpU40nn3zScHR01CP4kiWZDEN3xomI5HRvvvkm3377LXfu3MnypVNE0kL3EImI5DB3795N9v769evMnj2bevXqKRmSHEv3EImI5DB16tShQYMGVKhQgcuXL/P9998TFRXF8OHD7R2aiN0oIRIRyWGaN2/O4sWLmTJlCiaTiRo1avD999/zwgsv2Ds0EbvRPUQiIiKS4+keIhEREcnxlBCJiIhIjqd7iLDULfrzzz/JnTu3pqAXERHJIgzD4Pbt2xQpUiRV9QQfRAkRlin/ixUrZu8wREREJA0uXLhA0aJFH6sPJURA7ty5AcsJTUvJARHJnOKj4/miiKWo7Vt/voWLh4udIxIRW4qKiqJYsWLW7/HHoYSIvys158mTRwmRSDYS7xiPG26A5f+3EiKR7MkWt7vopmoRERHJ8ZQQiYiISI6nS2Yikm05ODlQNbiqdVlEJCVKiEQk23JydaLNjDb2DkNEsgD9yiQiIiI5nkaIRCTbMgyDhJgEAJxzOWviVRFJkUaIRCTbSohJYJTnKEZ5jrImRiIi96OESERERHI8JUQiIiKS4ykhEhERkRxPCZGIiIjkeEqIREREJMdTQiQiIg935w5s3GjvKETSjRIiEcm2HBwdqNihIhU7VMTBUR93aWY2Q48eEBAAkybZOxqRdKGJGUUk23Jyc6Ljoo72DiPr++QTWLYMXFygWjV7RyOSLvQrk4iIpGzxYvj4Y8vylClQp4594xFJJ0qIRETk/g4cgOBgy/KQIX8vi2RDumQmItlWfHQ8ozxHARByJwQXDxc7R5SFXLkCrVtDTAwEBsLo0faOSCRdaYRIRESSi4+H9u3h/HkoWxbmzwcn/f4s2ZsSIhER+ZthQL9+sHUreHnBypXg7W3vqETSnRIiERH528SJ8N134OAA8+ZBuXL2jkgkQyghEhERi7AwePNNy/KYMdCsmV3DEclISohERAROnYKOHSEpyTIJ45Ah9o5IJEMpIRIRyemioqBVK7h5E2rXhm+/BZPJ3lGJZCg9NiAi2ZaDowNlmpexLst9JCVBUBAcPgxFilhmpHZzs3dUIhlOCZGIZFtObk50XdPV3mFkbsOHw+rVliRo+XIoXNjeEYnYhV1/ZdqyZQsvvvgiRYoUwWQysXz58mTbDcPgww8/pHDhwri7uxMQEMCJEyeStblx4wZBQUHkyZMHb29vevfuzZ07dzLwpxARyaLmzYNRlokr+f57ePpp+8YjYkd2TYiio6OpWrUqEydOvO/2MWPGMGHCBCZPnsyuXbvw8PAgMDCQ2NhYa5ugoCB+//13QkNDWb16NVu2bKFPnz4Z9SOIiGRNe/fCyy9blt99F7pqJE1yNpNhGIa9gwAwmUwsW7aMNm3aAJbRoSJFivDWW28xdOhQACIjI/Hx8WHGjBl07tyZI0eOULFiRfbs2UOtWrUAWL9+Pc2bN+ePP/6gSJEiqTp2VFQUXl5eREZGkidPnnT5+UQk48VHxzO20FgAhl4ZqtIdf7l0yTIadPEitGgBK1aAo6O9oxJ5ZLb8/s60dxmeOXOGiIgIAgICrOu8vLyoXbs2O3bsAGDHjh14e3tbkyGAgIAAHBwc2LVrV4bHLCKZT0JMAgkxCfYOI/OIjYW2bS3JUIUKMHduqpKhS7cv8fnWz8kkv0OL2Fymvak6IiICAB8fn2TrfXx8rNsiIiIoVKhQsu1OTk7ky5fP2uZ+4uLiiIuLs76PioqyVdgiIpmXYcDrr8OuXZA3r6UsRyp+q7585zKNZjXiyLUjxCXG8VGDjzIgWJGMlWlHiNLTqFGj8PLysr6KFStm75BERNLf//4HM2daRoQWLoTSpR+6y9Xoq9ZkqGieonSv2j0DAhXJeJk2IfL19QXg8uXLydZfvnzZus3X15crV64k256YmMiNGzesbe4nJCSEyMhI6+vChQs2jl5EJJPZsAGGDbMsf/kl/ON2hJRci7lGo1mN+P3q7xTJXYTw4HCezPtkOgcqYh+ZNiEqWbIkvr6+hIWFWddFRUWxa9cu6tSpA0CdOnW4desW+/bts7bZuHEjZrOZ2rVrp9i3q6srefLkSfYSEcm2jh+Hl14Csxl694YBAx66y427N2g8uzG/XfkNX09fwoPDKZ3v4SNKIlmVXe8hunPnDidPnrS+P3PmDAcOHCBfvnwUL16cN998k5EjR1KmTBlKlizJ8OHDKVKkiPVJtAoVKtC0aVNeffVVJk+eTEJCAv3796dz586pfsJMRCRbu3XLUpYjMhLq1rVUs39IWY6bd2/SeHZjDkQcwMfDh/DgcMrmL5sx8YrYiV0Tor1799KwYUPr+yH/X0wwODiYGTNm8PbbbxMdHU2fPn24desW9erVY/369bj9Y1r5OXPm0L9/fxo1aoSDgwPt27dnwoQJGf6ziEjmY3IwUaJ+CetyjpOUBF26wLFjUKwYLFkCrq4P3CUyNpLAHwL55dIvFMxVkLAeYZQvUD6DAhaxn0wzD5E9aR4iEcmWhg2DsWPB3R22bYPq1R/YPCouisAfAtn5x07yu+cnPDicyj6VMyhYkUeXI+YhEhGRxzBrliUZAsuTZQ9Jhm7H3abZnGbs/GMn+dzzEdYjTMmQ5ChKiEREspudO+HVVy3Lw4dDx44PbB4dH02LuS3YfmE73m7ehHYPpapv1QwIVCTzyLQTM4qIPK746HjG+40HYNDZQTmjdMfFi5aZqOPjoU0bGDHigc1jEmJoOa8lP5//GS9XL0K7h1KjcI0MCVUkM1FCJCLZWsy1GHuHkHHu3rUkQRERULkyzJ4NDilfCLibcJdW81qx6ewmcrvkZkO3DdQqUivF9iLZmS6ZiYhkB4YBr7xiqWKfP7+lYKunZ4rNYxNjabOgDWFnwvB08WR9t/XULpry/G0i2Z0SIhGR7GDMGEuhVicnWLwYSpZMsWlcYhztFrTjx1M/4uHswbqgdTxX7LkMDFYk81FCJCKS1a1eDSEhluWvvoIGDVJsGp8UT4dFHVh3ch3uTu6s6bqGesXrZUycIpmYEiIRkazs8GHo2tVyyeyNNyzV7FOQkJRAp0WdWH18NW5Obqzuupr6fvUzMFiRzEsJkYhIVnXjhqUsx+3bllGh8eNTbJqQlECXJV1YcWwFro6urOi8Av+S/hkXq0gmp6fMRCTbMjmYKFKriHU5W0lMhE6d4NQp8PODRYvA2fn+Tc2JdF/WnSVHluDi6MKyl5bRpFSTjI1XJJNTQiQi2ZazuzOv7nnV3mGkj7fegrAw8PCwPFFWoMB9myWZkwheHsyC3xfg7ODMkk5LaFamWQYHK5L56ZKZiEhW89138FcR69mzoUqV+zZLMifRa0Uv5v42FycHJxZ1XETLsi0zMFCRrEMJkYhIVrJ1K/Tta1n+5BPLrNT3YTbMvLrqVWb/OhtHkyMLOiygdfnWGRioSNaihEhEsq2EmATG+Y1jnN84EmIS7B3O4zt/Htq1g4QES32yDz64bzOzYea1Va8x/cB0HE2OzGs/j3YV2mVwsCJZi+4hEpFsyzAMIs9FWpeztOhoaN0arl6FatVg+nQw3XujuGEY9FvTj+/2f4eDyYHZbWfTsdKDi7uKiEaIREQyP8OAXr3gwAEoWNByE7WHx32aGQxcN5DJ+yZjwsTMNjPpUrlLxscrkgUpIRIRyew+/fTvx+qXLoXixe9pYhgGgzcM5us9X2PCxPTW0+lWpZsdghXJmpQQiYhkZsuWwfDhluVJk6DevWU2DMNgWOgwxu+yTMw49cWpBFcLzsgoRbI8JUQiIpnVb79B9+6W5YEDoXfve5oYhkFIWAhf7PgCgG9bfkvvGve2E5EHU0IkIpIZXbtmKcsRHQ0BAfDFF/c0MQyD4eHDGb1tNAATm0+kT80+GR2pSLagp8xEJNsymUwUrFjQupxlJCRAhw5w9iyUKgULFoDTvR/Xn2z+hE9//hSA8U3H0/fpvhkcqEj2oYRIRLIt51zO9P09CyYJgwbB5s2QOzesXAn58t3TZOSWkYzYPAKAL5t8ycDaAzM4SJHsRZfMREQyk0mTLC+TCebOhYoV72ny+dbPGR5uudF6TMAYBtcZnNFRimQ7SohERDKLTZssN08DjBoFLe+tOzZ2+1hCwkIA+NT/U4bVHZaBAYpkX0qIRCTbSohJ4JtK3/BNpW8yf+mOM2cs9w0lJkLXrvD22/c0GbdzHMNCLQnQxw0+5r3n38voKEWyLd1DJCLZlmEYXD181bqcad2+bXmi7Pp1qFXLUs3+XzeBf737awZvsFwaG/7CcD6s/6E9IhXJtjRCJCJiT2Yz9OgBhw6Bry8sXw7u7smaTN47mQHrBgAQUi+Ejxt8bIdARbI3JUQiIvY0YoQlCXJ1tfz5xBPJNn/3y3e8seYNAIY9N4xP/T/NWlMIiGQRSohEROxl4UL4z38sy1OmQO3ayTZP3z+dPqssEy0OfnYwowNGKxkSSSdKiERE7GH/fujZ07L81luWy2b/MPvgbHqv7I2BwYBnBvBFky+UDImkIyVEIiIZ7fJlaN0a7t6Fpk1h9Ohkm+f+NpeeK3piYPBGrTcY33S8kiGRdKanzEQk2zKZTHiV8LIuZwpxcdCuHVy4AGXLwrx54Oho3bzg0AK6L+uO2TDTp0Yfvm7+deaJXSQbU0IkItmWcy5n3jz7pr3D+JthQN++sH07eHlZynJ4e1s3Lzm8hKClQZgNMy9Xe5lJLSfhYNJAvkhG0P80EZGM8tVXMG0aODhYCraWK2fdtPzocjov6UySkURw1WCmtpqqZEgkA+l/m4hIRvjpJxgyxLL83/9CYKB106pjq+i0qBOJ5kSCKgfxfavvlQyJZDBdMhORbCvhbgIzXpgBQM8tPXF2d7ZPICdPQqdOkJQEwcEw+O9irGtPrKXDog4kmBPo/FRnZrSZgaOD4wM6E5H0oIRIRLItw2zw594/rct2ERVlKctx8yY8+yxMnmwty7Hh5AbaLWhHfFI8HSt2ZHbb2Tg56GNZxB40Jisikl6SkiyFWo8cscxAvXQpuLkB8NPpn2izoA1xSXG0Ld+WOe3mKBkSsSMlRCIi6eWDD2DNGksStHw5FC4MQPiZcFrNa0VsYiytyrVifof5ODva6XKeiABKiERE0sfcufD555bladMsVeyBLee20HJeS+4m3qV5meYs7LAQF0cXOwYqIqCESETE9vbsgd69LcshIdClCwDbzm+j+ZzmxCTEEFgqkCWdluDq5GrHQEXkL0qIRERs6dIlaNMGYmPhxRdh5EgAdv6xk6ZzmhKdEE3AkwEse2kZbk5u9o1VRKx0B5+IZGu5CuTKuIPFxkLbtvDnn1CxIvzwAzg4sOfiHgJ/CORO/B0a+jVkRecVuDu7Z1xcIvJQSohEJNty8XBh2NVhGXMww4A+fWDXLsib11KWI08e9v25jyY/NCEqLooXSrzAqi6ryOWcgUmaiKSKLpmJiNjCl1/C7NmWQq2LFkGpUhyIOEDj2Y25FXuLusXqsqbrGjxcPOwdqYjchxIiEZHHtW4dvP22ZXncOGjUiF8v/0rArABuxt6kTtE6rAtah6eLp13DFJGU6ZKZiGRbCXcTmNNsDgBB64LSp3TH0aPQuTOYzfDqq9CvH4euHKLRrEZcv3udZ554hnVB68jtmtv2xxYRm1FCJCLZlmE2OLf5nHXZ5m7ehNatLeU56tWDr7/myLWjNJrViGsx16hZuCYbum3Ay83L9scWEZvSJTMRkbRITLTML3T8OBQrBkuWcCzqDP6z/LkSfYXqvtX5sfuPeLt52ztSEUkFJUQiImnxzjuwYQPkygUrV3LCMZKGMxsScSeCKj5VCO0eSj73fPaOUkRSSZfMREQe1YwZlqfK/n/5VPHcNJxRn0t3LvFUoaf4qftP5M+V364hisijUUIkIvIoduyA116zLH/4IWcCatFwRn0u3r5IxYIVCesRRkGPgvaNUUQemS6ZiYik1h9/WGaijo+Htm05N6gn/rP8uRB1gXL5yxHWI4xCHoXsHaWIpIFGiEQkW3POZaNH7WNiLDXKLl+GypX546vP8P8hgLO3zlImXxk2Bm/E19PXNscSkQynhEhEsi0XDxfei37v8TsyDEv1+n37oEABIuZMoeHSFzl98zSl8pYiPDicIrmLPP5xRMRudMlMRORhRo+G+fPByYnrs76l/uZgTt44iZ+3HxuDN/JEnifsHaGIPCYlRCIiD7JqFbxnGWWK+uIz6p1+n+PXj1PcqzjhweEU9ypu5wBFxBYydUKUlJTE8OHDKVmyJO7u7pQqVYr//Oc/GMbfM84ahsGHH35I4cKFcXd3JyAggBMnTtgxahHJLBJjE5nbYi5zW8wlMTbx0Tv4/Xfo2hUMg7uv9qKO0wyOXjtK0TxFCQ8Ox8/bz+Yxi4h9ZOp7iEaPHs2kSZOYOXMmlSpVYu/evfTq1QsvLy8GDhwIwJgxY5gwYQIzZ86kZMmSDB8+nMDAQA4fPoybm5udfwIRsSdzkpkTa09Ylx/J9evQqhXcuUP8C3WpW2UPh68epkjuIoQHh/Nk3ifTIWIRsZdMnRBt376d1q1b06JFCwD8/PyYN28eu3fvBiyjQ+PGjeODDz6gdevWAMyaNQsfHx+WL19O586d7Ra7iGRhCQnQqROcPk2SXwkCW0Wy//ohfD19CQ8Op3S+0vaOUERsLFNfMnvuuecICwvj+PHjABw8eJCtW7fSrFkzAM6cOUNERAQBAQHWfby8vKhduzY7duxIsd+4uDiioqKSvURErN56CzZuxPD0pEuPXGy6cwgfDx/Cg8Mpm7+svaMTkXSQqUeI3n33XaKioihfvjyOjo4kJSXx6aefEhQUBEBERAQAPj4+yfbz8fGxbrufUaNG8fHHH6df4CKSdU2dCl99BcCwHr4scjhCwVwFCesRRvkC5e0cnIikl0w9QrRw4ULmzJnD3Llz+eWXX5g5cyZjx45l5syZj9VvSEgIkZGR1teFCxdsFLGIZGk//wz9+gEwuU0xvih0kvzu+QnrEUalQpXsHJyIpKdMPUI0bNgw3n33Xeu9QJUrV+bcuXOMGjWK4OBgfH0ts8JevnyZwoULW/e7fPky1apVS7FfV1dXXF1d0zV2Eclizp2D9u0hIYGfns7PG1UvkM89H2E9wqjsU9ne0YlIOsvUI0QxMTE4OCQP0dHREbPZ8rRIyZIl8fX1JSwszLo9KiqKXbt2UadOnQyNVUSysOhoaN0arl7leHEPWjW+jre7N6HdQ6nqW9Xe0YlIBsjUI0Qvvvgin376KcWLF6dSpUrs37+fL7/8kpdffhkAk8nEm2++yciRIylTpoz1sfsiRYrQpk0b+wYvInbn4uHCR8ZHD25kNkNwMBw8yI08zjRqH41Lbi9Cu4dSo3CNjAlUROwuUydEX331FcOHD6dv375cuXKFIkWK8Nprr/Hhhx9a27z99ttER0fTp08fbt26Rb169Vi/fr3mIBKR1Bk5EpYsIcHRxIsdEogsmJvQbhuoVaSWvSMTkQxkMv457XMOFRUVhZeXF5GRkeTJk8fe4YhIRlm61HLfEPByK1j0rCcbum3guWLP2TkwEUkNW35/Z+p7iEREHkdibCKLOi5iUcdF95buOHgQo3t3AMbVhoW1PVgXtE7JkEgOpYRIRLItc5KZw4sPc3jx4eSlO65exWjdGlNMDKFPwvDmbqzpuoZ6xevZL1gRsSslRCKSs8THY27fHtO5c5zIB8GdXVnRfQ31/erbOzIRsSMlRCKScxgGSf374fDzz0S5QIcgZ2a+vAr/kv72jkxE7EwJkYjkGEnffI3j1O8wAz06OfH5gBU0LtXY3mGJSCaghEhEcoSkjRth4CAA3m/swCvDl9GsTDM7RyUimYUSIhHJEWK7dMDRbDC3iolnxy+hZdmW9g5JRDIRJUQikiN4RMez5wnINWMOrSu0sXc4IpLJZOqZqjNafHQ88Y7x96x3cHTAyc0pWbuUmBxMOLs7p6ltQkwCKc2TaTKZcM6VxrZ3EzDMKc+/6eLhkqa2ibGJyR9lfoy2zrmcMZlMlrZxiZgTbdTW3RmTg6VtUnwSSQlJNmnr5OaEg6PDo7dNSCIp/gFtXZ1wcHr0tuZEM4lxiSm2dXRxxNHZ8dHbJpnvnb/nn22dHXF0efS2htkg4W6CTdo6ODng5Gr5/2kYBgkxf7dNSkygSfV5VN5/gT894M/vJtGmepf7tr2n30f4f6/PiPu31WeEPiMy4jPCVpQQ/cMXRb7AjXtLfpRpXoaua7pa348tNDbFD9IS9UvQc1NP6/vxfuOJuRZz37ZFahXh1T2vWt9PrDiRyHOR921bsGJB+v7e1/p+6tNTuXr46n3bepXw4s2zb1rfz3hhBn/u/fO+bXMVyMWwq8Os7+c0m8O5zefu29Y5lzPvRb9nfb+w/UJOrD1x37ZAshpSy7ov4/Diwym2DbkTYv1wXP3aag7OPJhi26FXhuJR0AOADUM2sPebvSm2HXRmEN5+3gCEvR/GjrE7Umz7xqE3KFSpEAA/f/Yzmz/enGLbV3a/whNPPwHAzvE7+entn1JsGxwejF8DPwD2TdnHuv7rUmzbZXUXyrYoC8Bvc35jRa8VKbbtsLADlTpWAuDIsiMs7rQ4xbatp7emWs9qAJzccJJ5Leel2LbZ1814pt8zAJz/+TwzG85MsW3AmADqDqsLwKVfLvHdM9+l2Lb+R/VpMKIBAFePXGXSU5NSbFtnaB2a/LcJAJHnIxlfcnyKbWv1rUWLiS0AiLkWw9hCY//Vogs/AkRD1fm+0NSyNiEmgVGeo1Lst2KHinRc1NH6/kFt9Rlhoc+Iv+kzwiIjPiNsRZfMREREJMdTLTP+roVy9c+r962FouHw+7fVcLiGwzPjJbP46HgmfPsyr76zCJckR+aX7I1XnYY0+6oZLh4uKV5eu6dfXTKz0mfEo7fVZ8T/t03nzwhb1jJTQoSKu4pkF4Zh8PHCvvTuM5liUXD62arM3tkWSH7JRUSyBxV3FRH5F8Mw+GDdMBoPsyRDt0r4UHRJyvdtiIj8kxIiEcnyDMNg+MYPKPX+F9S9ALG53fH+cQt4acRXRFJHCZGIZHmfbP6E22M/4+UDYHYw4bZ4OZQta++wRCQL0WP3IpKljdwykm3fj2DdBst7hy++hCa2fRxXRLI/JUQikmV9vvVzZi4ezu7F4GgAPXvCoEH2DktEsiAlRCKSJY3dPpZRa0LYOQ/yxgJ16sDkyfD/j1uLiDwKJUQikuWM2zmOdzYMY+USqHANKFoUli4FV9dk7ZxzOTP0ylDrsohISpQQiUiW8vXurxm8YTCfh0GLE4CbGyxfDr6+97Q1mUzWEg4iIg+ip8xEJMuYtGcSA9YNIOggvLPt/1dOnw41a9o1LhHJ+pQQiUiWMHXfVPqu7cvTf8D01f9f5fq996Bz5xT3SYxLZE2/Nazpt+aBpQhERNJ0yezMmTP8/PPPnDt3jpiYGAoWLEj16tWpU6cObm73VosXEXkc0/dP57XVr1E4CkKXeuCcEA0vvgj/+c8D9zMnmq2VzhuPaQyuD2wuIjnYIyVEc+bMYfz48ezduxcfHx+KFCmCu7s7N27c4NSpU7i5uREUFMQ777xDiRIl0itmEclBZh+cTe+VvXFNMNixuhBeN65ApUrwww/goEFuEbGNVCdE1atXx8XFhZ49e7JkyRKKFSuWbHtcXBw7duxg/vz51KpVi2+++YaOHTvaPGARyTnm/jaXnit6YhgGm7aXpcTx45AvH6xYASrELCI2lOqE6PPPPycwMDDF7a6urjRo0IAGDRrw6aefcvbsWVvEJyI51IJDC+i+rDtmw8yi87WpHb4LHB1h0SIoVcre4YlINpPqhOhBydC/5c+fn/z586cpIBGRJYeXELQ0CLNh5n+JjWk/4/+r1o8fD/7+9g1ORLKlx5qH6MqVK1y5cgWz2ZxsfZUqVR4rKBHJuZYfXU7nJZ1JMpJ4N38bBr2/EZNhQJ8+0LevvcMTkWwqTQnRvn37CA4O5siRIxiGAVgmQDMMA5PJRFJSkk2DFJGcYdWxVXRa1IlEcyKvluzAZyMPYoqKguefh6++UlkOEUk3aUqIXn75ZcqWLcv333+Pj48PJn1IichjWntiLR0WdSDBnEDXCp2YPPUGphMnoEQJWLIEXFweuU9nd2cGnRlkXRYRSUmaEqLTp0+zZMkSSpcubet4RCQH2nByA+0WtCM+KZ6OFTsye3thHH5aCLlyWZ4oK1gwTf2aHEx4+3nbNlgRyZbSNIlHo0aNOHjwoK1jEZEc6KfTP9FmQRvikuJoW74tc6Oa4DBuvGXjrFlQtap9AxSRHCFNI0TfffcdwcHBHDp0iKeeegpn5+RD0a1atbJJcCKSvYWfCafVvFbEJsbSqlwrFhQZhFNAE8vGESOgffvH6j8pPomw98MAaPRpIxxdHB8zYhHJrtKUEO3YsYNt27axbt26e7bppmoRSY0t57bQcl5L7ibepUWZFiys/QXOdepBfLwlERo+/LGPkZSQxI6xOwBoMKKBEiIRSVGaLpkNGDCAbt26cenSJcxmc7KXkiEReZht57fRfE5zYhJiaFq6KYtbzsK1w0tw+bLlEtnMmSrLISIZKk0jRNevX2fw4MH4+PjYOh4RyeZ2XNhB0zlNiU6IJuDJAJZ2XIJbj5fhl1+gQAHLTdQeHvYOU0RymDT9CtauXTvCw8NtHYuIZHO7L+6m6Zym3Im/Q0O/hqzovAL3seNgwQJwcrI8Xq/C0CJiB2kaISpbtiwhISFs3bqVypUr33NT9cCBA20SnIhkH/v+3EeT2U2IiovihRIvsKrLKnKtDYX337c0mDgRXnjBvkGKSI6V5qfMPD092bx5M5s3b062zWQyKSESkWT2X9pP49mNiYyLpG6xuqzpugaP42egWzdLg379LKU5RETsJE0J0ZkzZ2wdh4hkU79e/pXGsxtzM/YmdYrWYV3QOjxvx0GrVnDnDjRsCP/7n73DFJEcLk33EB06dCjFbcuXL09rLCKSzRy6cohGsxpx/e51nnniGdYFrSO3gxt07AhnzkDJkrBoETinT1kNZ3dn3jj0Bm8cekOlO0TkgdKUEAUGBt53lGjJkiUEBQU9dlAikvUduXqERrMacS3mGjUL12RDtw14uXnB4MEQHg6enrByJeTPn24xmBxMFKpUiEKVCmFyUM1FEUlZmhKiV155hYCAACIiIqzrFixYQI8ePZgxY4atYhORLOrYtWP4z/LnSvQVqvtW58fuP+Lt5g3ffmu5edpkgjlz4Kmn7B2qiAiQxnuIPv74Y27cuEFAQABbtmxh/fr1vPLKK8yePZv2jznVvohkbSeun6DhzIZE3Imgik8VQruHks89H2zZAv37WxqNHGm5hyidJcUn8fNnPwPw/HvPa6ZqEUmRyTAMI607BwUFsWfPHi5evMjcuXNp3bq1LWPLMFFRUXh5eREZGUmePHnsHY5IlnXqxinqz6jPxdsXearQU2zssZGCHgXh7Fl4+mm4dg1eegnmzbOMEqWz+Oh4RnmOAiDkTgguHi7pfkwRyTi2/P5O9QjRypUr71nXrl07fv75Z7p06YLJZLK2UXFXkZznzM0zNJzZkIu3L1KxYEXCeoRZkqE7d6B1a0syVKMGTJuWIcmQiMijSHVC1KZNmxS3TZs2jWnTpgEq7iqSE527dQ7/Wf5ciLpAufzlCOsRRiGPQmA2Q8+e8Ouv4OMDy5dDrlz2DldE5B6pTojMZnN6xiEiWdSFyAv4z/Ln7K2zlMlXho3BG/H19LVs/M9/LOU4XFxg2TIoVsy+wYqIpEDlpEUkzS5GXcR/lj+nb56mVN5ShAeHUyR3EcvGJUtgxAjL8uTJUKeO3eIUEXkYJUQikiaXbl/Cf5Y/J2+cpKR3ScKDw3kizxOWjQcPQo8eluXBg6FXL/sFKiKSCkqIROSRXb5zGf9Z/hy/fpwSXiUIDw6nmNf/Xw67csXySH1MDDRpAmPG2DdYEZFUSNM8RCKSc12JvoL/LH+OXjtK0TxF2Ri8kRLeJSwb4+OhQwc4fx7KlIH588HJfh8zTm5OvLL7FeuyiEhK9AkhIql2LeYaAbMCOHz1MEVyFyE8OJwn8z5p2WgYlokXf/4Z8uSxlOXIm9eu8To4OvDE00/YNQYRyRrSnBCZzWZOnjzJlStX7nkC7YUXXnjswEQkc7lx9wYBswL47cpv+Hr6Eh4cTul8pf9u8M03MHWqZY6hefOgfHn7BSsi8ojSlBDt3LmTrl27cu7cOf490bXmIRLJfm7evUnj2Y05ePkgPh4+hAeHUzZ/2b8bbNwIgwZZlkePhubN7RPovyTFJ7Fz/E4Anh30rEp3iEiK0nRT9euvv06tWrU4dOgQN27c4ObNm9bXjRs3bBrgxYsX6datG/nz58fd3Z3KlSuzd+9e63bDMPjwww8pXLgw7u7uBAQEcOLECZvGIJKTRcZGEvhDIL9c+oWCuQoS1iOM8gX+Mfpz6hR07AhJSdCtGwwdar9g/yUpIYmf3v6Jn97+iaQE/aImIilL0wjRiRMnWLx4MaVLl35448dw8+ZN6tatS8OGDVm3bh0FCxbkxIkT5P3HfQljxoxhwoQJzJw5k5IlSzJ8+HACAwM5fPgwbm5u6RqfSHYXFRdF0zlN2fPnHvK75yesRxiVClX6R4MoyxNlN27AM8/8fclMRCSLSVNCVLt2bU6ePJnuCdHo0aMpVqwY06dPt64rWbKkddkwDMaNG8cHH3xgLSw7a9YsfHx8WL58OZ07d07X+ESys9txt2k2pxk7/9hJPvd8hPUIo7JP5b8bmM2WEaHDh6FwYctM1PolRESyqDQlRAMGDOCtt94iIiKCypUr4+zsnGx7lSpVbBLcypUrCQwMpGPHjmzevJknnniCvn378uqrrwJw5swZIiIiCAgIsO7j5eVF7dq12bFjR4oJUVxcHHFxcdb3UVFRNolXJLuIjo+mxdwWbL+wHW83b0K7h1LVt2ryRsOHw6pV4OpqqVFWpIhdYhURsYU0JUTt27cH4OWXX7auM5lMGIZh05uqT58+zaRJkxgyZAjvvfcee/bsYeDAgbi4uBAcHExERAQAPj4+yfbz8fGxbrufUaNG8fHHH9skRpHsJiYhhpbzWvLz+Z/xcvUitHsoNQrXSN5o3jz47DPL8nffWS6XiYhkYWlKiM6cOWPrOO7LbDZTq1YtPvv/D97q1atz6NAhJk+eTHBwcJr7DQkJYciQIdb3UVFRFFPRSRHuJtyl1bxWbDq7idwuudnQbQO1itRK3mjfPvjrl6G337ZcNhMRyeLSlBCVKFHC1nHcV+HChalYsWKydRUqVGDJkiUA+PpaKmpfvnyZwoULW9tcvnyZatWqpdivq6srrq6utg9YJAuLTYylzYI2hJ0Jw9PFk/Xd1lO7aO3kjSIioHVriI21PFr/1yiRiEgWl+qEaOXKlTRr1gxnZ2dWrlz5wLatWrV67MAA6taty7Fjx5KtO378uDUhK1myJL6+voSFhVkToKioKHbt2sUbb7xhkxhEcoK4xDjaLWjHj6d+xMPZg3VB63iu2HP/ahQHbdvCxYuWSRfnzgXHzD2vj5ObE8HhwdZlEZGUpPoTok2bNkRERFCoUCHatGmTYjtb3kM0ePBgnnvuOT777DM6derE7t27mTJlClOmTLEe680332TkyJGUKVPG+th9kSJFHhijiPwtPimeDos6sO7kOtyd3FnTdQ31itdL3sgw4PXXYedO8Pa2lOXw8rJLvI/CwdEBvwZ+9g5DRLKAVCdE/yzP8e9SHenl6aefZtmyZYSEhPDJJ59QsmRJxo0bR1BQkLXN22+/TXR0NH369OHWrVvUq1eP9evXaw4ikVRISEqg06JOrD6+GjcnN1Z3XU19v/r3Nhw3DmbMAAcHWLjQUrhVRCQbMRn/rr2RA0VFReHl5UVkZCR58uSxdzgiGSIhKYEuS7qw5MgSXB1dWdVlFY1LNb634Y8/QrNmlnmHxo37u0RHFpCUkMS+KfsAqNmnJo7OmfsSn4g8Glt+f6e6dMf8+fNT3emFCxfYtm1bmgISkfSXaE6k27JuLDmyBBdHF5Z3Xn7/ZOj4cXjpJUsy9PLLMHBgxgf7GJLik1jXfx3r+q8jKV6lO0QkZalOiCZNmkSFChUYM2YMR44cuWd7ZGQka9eupWvXrtSoUYPr16/bNFARsY0kcxI9lvVg4e8LcXZwZmmnpTQt3fTehpGRlrIct27Bc89ZqtmrLIeIZFOpvodo8+bNrFy5kq+++oqQkBA8PDzw8fHBzc2NmzdvEhERQYECBejZsyeHDh26Z7JEEbG/JHMSvVb0Yt6heTg5OLGo4yJalG1xn4ZJ0KULHDsGRYvC0qWWGalFRLKpR3oOtVWrVrRq1Ypr166xdetWzp07x927dylQoADVq1enevXqODiketBJRDKQ2TDzyqpXmP3rbBxNjizosIDW5Vvfv3FICKxbB+7usGIF6BccEcnm0jQxR4ECBfRYu0gWYjbMvLbqNWYcmIGjyZF57efRrkK7+zeePRv++1/L8owZUKPG/duJiGQjGs4RyeYMw6Dfmn58t/87HEwOzG47m46VOt6/8a5d8P/Fk/ngA+jUKeMCFRGxIyVEItmYYRgMXDeQyfsmY8LEzDYz6VK5y/0bX7xomYk6Ls5SnkMFkEUkB9Fc9iLZlGEYDN4wmK/3fI0JE9NbT6dblRQKsd69a0mGLl2CSpUsl82ywf2ATq5OdFndxbosIpISfUKIZEOGYTAsdBjjd40HYOqLUwmuFpxSY8tlsj17IF8+S1mO3LkzMNr04+DkQNkWZe0dhohkAY/1K2B8fDzHjh0jMTHRVvGIyGMyDIOQsBC+2PEFAN+2/JbeNXqnvMN//wtz5lgKtS5eDE8+mUGRiohkHmlKiGJiYujduze5cuWiUqVKnD9/HoABAwbw+eef2zRAEUk9wzAYHj6c0dtGAzCx+UT61OyT8g5r1sC771qWJ0yAhg0zIMqMk5SQxIEZBzgw4wBJCZqpWkRSlqaEKCQkhIMHD7Jp06ZkRVQDAgJYsGCBzYITkUfzyeZP+PTnTwEY33Q8fZ/um3LjI0csky8aBrz2GrzxRgZFmXGS4pNY0WsFK3qtUOkOEXmgNN1DtHz5chYsWMCzzz6L6R9T+VeqVIlTp07ZLDgRSb2RW0YyYvMIAL5s8iUDaz+g7tiNG5ayHLdvwwsvWEaHVJZDRHKwNI0QXb16lUKFCt2zPjo6OlmCJCIZ4/OtnzM8fDgAYwLGMLjO4JQbJyZaCraePAklSljuG3JxyaBIRUQypzQlRLVq1WLNmjXW938lQd999x116tSxTWQikipjt48lJCwEgM/8P2NY3WEP3mHoUPjpJ/DwsDxRVrBgBkQpIpK5pemS2WeffUazZs04fPgwiYmJjB8/nsOHD7N9+3Y2b95s6xhFJAXjdo5jWKglAfqkwSeEPB/y4B2+/x7GWx7FZ9YsqFIlnSMUEcka0jRCVK9ePQ4cOEBiYiKVK1fmxx9/pFChQuzYsYOaNWvaOkYRuY+vd3/N4A2WS2MfvvAhw+sPf/AO27b9feP0xx9DuxRqmYmI5EBpnpixVKlSTJ061ZaxiEgqTdoziQHrBgAQUi+EEQ1GPHiH8+ctCVBCAnToYKlTJiIiVmlKiNauXYujoyOBgYHJ1m/YsAGz2UyzZs1sEpyI3Gvqvqn0XWt5nH7Yc8P41P/TBz/MEBMDbdrAlStQtaqlgn02KMuRGk6uTnRY2MG6LCKSkjR9Kr777rskJd07p4dhGLz71yRvImJz0/ZPo89qy0SLg58dzOiA0Q9OhgwDevWC/fstN0+vWGG5mTqHcHByoFLHSlTqWAkHp5yRBIpI2qTpE+LEiRNUrFjxnvXly5fn5MmTjx2UiNxr1sFZvLLyFQAGPDOAL5p88fBpLj77DBYuBGdnWLrU8pi9iIjcI00JkZeXF6dPn75n/cmTJ/HIQb99imSUub/NpefynhgYvFHrDcY3Hf/wZGjFir/vFfrmG6hXL/0DzWTMiWZ+X/Q7vy/6HXOi2d7hiEgmlqaEqHXr1rz55pvJZqU+efIkb731Fq1atbJZcCICCw4toPuy7hgY9KnRh6+bf/3wZOi336BbN8vygAHwyivpH2gmlBiXyOJOi1ncaTGJcSpCLSIpS1NCNGbMGDw8PChfvjwlS5akZMmSVKhQgfz58zN27FhbxyiSYy05vISgpUGYDTMvV3uZSS0n4WB6yH/ba9egdWu4cwcaNYIvv8yYYEVEsrA0PXbh5eXF9u3bCQ0N5eDBg7i7u1OlShVeeOEFW8cnkmMtP7qczks6k2QkEVw1mKmtpj48GUpIgI4d4cwZKFUKFiwAJz1dJSLyMGn+pDSZTDRp0oQmTZrYMh4RAVYdW0WnRZ1INCcSVDmI71t9//BkCODNN2HTJvD0tNxDlD9/eocqIpItpDkhCgsLIywsjCtXrmA2J79Zcdq0aY8dmEhOtfbEWjos6kCCOYHOT3VmRpsZODo4PnzHyZMtN0+bTDB3LlSqlP7BiohkE2lKiD7++GM++eQTatWqReHChVXhXsRGNpzcQLsF7YhPiqdjxY7MbjsbJ4dU/DfdvNly8zTAp5/Ciy+mb6AiItlMmhKiyZMnM2PGDLp3727reERyrJ9O/0SbBW2IS4qjbfm2zGk3J3XJ0Jkz0L49JCZC586gyVFFRB5ZmhKi+Ph4nnvuOVvHIpJjhZ8Jp9W8VsQmxtKqXCvmd5iPs6Pzw3e8c8fyRNn161CzpqWavUZsrRxdHGk9vbV1WUQkJWl67P6VV15h7ty5to5FJEfacm4LLee15G7iXVqUacHCDgtxcXR5+I5mM/ToYZlzyMcHli+HXLnSPd6sxNHZkWo9q1GtZzUcnZUQiUjK0jRCFBsby5QpU/jpp5+oUqUKzs7Jf5P9UvOeiKTKtvPbaD6nOTEJMTQt3ZTFnRbj6uSaup0//hiWLQMXF8ufRYumb7AiItlYmhKiX3/9lWrVqgFw6NChZNt0g7VI6uy4sIOmc5oSnRBN4ycbs7TTUtyc3FK386JF8MknluUpU6BOnfQLNAszJ5o5ucFSX7F0YGkVeBWRFKUpIQoPD7d1HCI5yu6Lu2k6pyl34u/Q0K8hyzsvx93ZPXU7798PwcGW5SFD/l6WeyTGJTKv5TwAQu6E4OKUikuRIpIj6dclkQy27899NJndhKi4KF4o8QKruqwil3Mq7/25fNlyE/XduxAYCKNHp2+wIiI5RJonZty7dy8LFy7k/PnzxMfHJ9u2dOnSxw5MJDvaf2k/jWc3JjIukrrF6rKm6xo8XDxSt3N8vOXx+gsXoGxZmD9fZTlERGwkTSNE8+fP57nnnuPIkSMsW7aMhIQEfv/9dzZu3IiXl5etYxTJFg5GHCRgdgA3Y29Sp2gd1gWtw9PFM3U7Gwb07QvbtoGXF6xcCd7e6RqviEhOkqaE6LPPPuN///sfq1atwsXFhfHjx3P06FE6depE8eLFbR2jSJZ36MohAmYHcOPuDZ554hnWBa0jt2vu1Hfw9deWOYYcHGDePChXLv2CFRHJgdKUEJ06dYoWLVoA4OLiQnR0NCaTicGDBzNlyhSbBiiS1R25eoRGsxpxLeYaNQvXZEO3DXi5PcJIalgYDB5sWR4zBpo1S59ARURysDQlRHnz5uX27dsAPPHEE9ZH72/dukVMTIztohPJ4o5dO4b/LH+uRF+hum91fuz+I95u3qnv4NQp6NgRkpIskzAOGZJusYqI5GRpuiPzhRdeIDQ0lMqVK9OxY0cGDRrExo0bCQ0NpVGjRraOUSRLOnH9BA1nNiTiTgRVfKoQ2j2UfO75Ut9BVBS0agU3b0Lt2vDttyrL8YgcXRxp9nUz67KISEpMhmEYj7rTjRs3iI2NpUiRIpjNZsaMGcP27dspU6YMH3zwAXnz5k2PWNNNVFQUXl5eREZGkidPHnuHI9nAqRunqD+jPhdvX+SpQk+xscdGCnoUTH0HSUnQpg2sXg1FisDevVC4cLrFKyKSFdny+ztNI0T58v39W66DgwPvqrq2iNWZm2doOLMhF29fpGLBioT1CHu0ZAhg+HBLMuTmZqlRpmRIRCRdpekeIkdHR65cuXLP+uvXr+PoqGFpybnO3TqH/yx/LkRdoFz+coT1CKOQR6FH62TePBg1yrL8/ffw9NO2DzSHMCeZObvpLGc3ncWcZLZ3OCKSiaUpIUrpKltcXBwuLpoaX3KmC5EX8J/lz9lbZymTrwwbgzfi6+n7aJ3s3Qsvv2xZfucd6NrV9oHmIImxicxsOJOZDWeSGJto73BEJBN7pEtmEyZMACwFXL/77js8Pf+eVC4pKYktW7ZQvnx520YokgVcjLqI/yx/Tt88Tam8pQgPDqdI7iKP1smlS5b7hmJjoUUL+PTTdIlVRETu9UgJ0f/+9z/AMkI0efLkZJfHXFxc8PPzY/LkybaNUCSTu3T7Ev6z/Dl54yQlvUsSHhzOE3meeLROYmOhbVu4eBEqVIC5c0GXn0VEMswjJURnzpwBoGHDhixdujTLPU0mYmuX71zGf5Y/x68fp4RXCcKDwynmVezROjEMeP112LUL8ua1lOXQ044iIhkqTfcQhYeHJ0uGkpKSOHDgADdv3rRZYCKZ3ZXoK/jP8ufotaMUy1OMjcEbKeFd4tE7+t//YOZMy4jQwoVQurTtgxURkQdKU0L05ptv8v333wOWZOiFF16gRo0aFCtWjE2bNtkyPpFM6VrMNQJmBXD46mGK5C7CxuCNPJn3yUfvaP16GDbMsvzllxAQYNtARUQkVdKUEC1atIiqVasCsGrVKs6ePcvRo0cZPHgw77//vk0DFMlsbty9QcCsAH678hu+nr6EB4dTOl8aRnWOHYPOncFsht69YcAA2wcrIiKpkqaJGa9fv46vr+Vx4rVr19KxY0fKli3Lyy+/zPjx420aoEhmcvPuTRrPbszBywfx8fAhPDicsvnLPnpHt25ZynJERkLdujBxospypANHZ0cCxgRYl0VEUpKmhMjHx4fDhw9TuHBh1q9fz6RJkwCIiYnRxIySbd2KvUWTH5rwy6VfKJirIGE9wihfIA3TTCQlWUaGjh+HYsVgyRJwdbV9wIKjiyN1h9W1dxgikgWkKSHq1asXnTp1onDhwphMJgL+/76HXbt2aR4iyZai4qJo+kNT9v65l/zu+QnrEUalQpXS1tk778CGDeDuDitWgI+PbYMVEZFHlqaEaMSIETz11FNcuHCBjh074vr/v906OjqqrplkO7fjbtNsTjN2XdxFPvd8hPUIo7JP5bR1NnMmfPHF38vVq9suULmHOcnMpV8uAVC4RmEcHNN026SI5ABpqnaf3ajavaQkOj6aZnOa8fP5n/F28yasRxg1CtdIW2c7d0L9+hAfbyne+skntg1W7hEfHc8oT0tduJA7Ibh4qLSQSHZil2r3EyZMoE+fPri5uVlLeKRk4MCBjxVUSj7//HNCQkIYNGgQ48aNAyA2Npa33nqL+fPnExcXR2BgIN988w0+ugwhjykmIYaW81ry8/mf8XL1IrR7aNqToT/+sMxEHR9vKc8xYoQtQxURkceU6oTof//7H0FBQbi5uVlLeNyPyWRKl4Roz549fPvtt1SpUiXZ+sGDB7NmzRoWLVqEl5cX/fv3p127dmzbts3mMUjOcTfhLq3mtWLT2U3kdsnNhm4bqFWkVho7u2tJgiIioHJlmD0bHHTpRkQkM0l1QvRX2Y5/L2eEO3fuEBQUxNSpUxk5cqR1fWRkJN9//z1z587F398fgOnTp1OhQgV27tzJs88+m6FxSvYQmxhLmwVtCDsThqeLJ+u7rad20dpp68ww4JVXYN8+yJ/fchP1P4oii4hI5pAlfk3t168fLVq0sD7N9pd9+/aRkJCQbH358uUpXrw4O3bsSLG/uLg4oqKikr1EAOIS42i3oB0/nvoRD2cP1gWt47liz6W9wzFjLIVanZxg8WIoWdJ2wYqIiM2keoRoyJAhqe70yy+/TFMw9zN//nx++eUX9uzZc8+2iIgIXFxc8Pb2Trbex8eHiIiIFPscNWoUH3/8sc1ilOwhPimeDos6sO7kOtyd3FnTdQ31itdLe4erV0NIiGX5q6+gQQObxCkiIraX6oRo//79yd7/8ssvJCYmUq5cOQCOHz+Oo6MjNWvWtFlwFy5cYNCgQYSGhuLm5mazfkNCQpIleFFRURQr9ogVyiVbSUhKoNOiTqw+vho3JzdWd11Nfb/6ae/w8GHo2tVyyeyNNyzV7EVEJNNKdUIUHh5uXf7yyy/JnTs3M2fOtFa9v3nzJr169eL555+3WXD79u3jypUr1Kjx95M9SUlJbNmyha+//poNGzYQHx/PrVu3ko0SXb582Vpa5H5cXV2tcyeJJCQl0GVJF1YcW4GroysrO6/Ev6R/2ju8ccNSluP2bcuokMrZ2I2jsyP1P6pvXRYRSUma5iF64okn+PHHH6lUKflMvYcOHaJJkyb8+eefNgnu9u3bnDt3Ltm6Xr16Ub58ed555x2KFStGwYIFmTdvHu3btwfg2LFjlC9fnh07dqT6pmrNQ5RzJZoTCVoaxMLfF+Li6MKKzitoWrrpY3SYCE2bQlgY+PnBnj1QoIDN4hURkb/ZZR6ifwdw9erVe9ZfvXqV27dvP1ZA/5Q7d26eeuqpZOs8PDzInz+/dX3v3r0ZMmQI+fLlI0+ePAwYMIA6deroCTN5qCRzEj2W9WDh7wtxdnBmaaelj5cMAbz1liUZ8vCwPFGmZEhEJEtIU0LUtm1bevXqxRdffMEzzzwDWOqYDRs2jHbt2tk0wIf53//+h4ODA+3bt082MaPIgySZk+i1ohfzDs3DycGJxZ0W06Jsi8fr9Lvv4K9JS2fPhn/NmSUZzzAbXD1i+eWtYIWCmBxMdo5IRDKrNF0yi4mJYejQoUybNo2EhAQAnJyc6N27N//973/x8PCweaDpSZfMchazYab3yt7MODADR5MjCzsupF2Fx0zkt24Ff39ISLCU5Bg+3DbBymNR6Q6R7M3ul8xy5crFN998w3//+19OnToFQKlSpbJcIiQ5j9kw89qq16zJ0Lz28x4/GTp/Htq1syRDHTvCBx/YJlgREckwaUqI/uLh4XFPKQ2RzMowDPqu6ct3+7/DweTA7Laz6Vip4+N1Gh0NrVvD1atQrRpMnw4mXZYREclqssRM1SKPyzAMBqwbwLf7vsWEiZltZtKlcpfH7RR69oQDB6BgQctN1BolFRHJkpQQSbZnGAaDNwxm4p6JmDAxvfV0ulXp9vgdjxxpKcfh7AxLl0Lx4o/fp4iI2IUSIsnWDMNgWOgwxu+yTI449cWpBFcLfvyOly2DDz+0LE+aBPUeo8SHiIjYnRIiybYMwyAkLIQvdnwBwLctv6V3jd6P3/Gvv0L37pblgQOhtw36FBERu3qsm6pFMivDMBgePpzR20YDMLH5RPrU7PP4HV+9ainLER0NAQHwxReP36ekG0dnR+oMrWNdFhFJiRIiyZY+2fwJn/78KQDjm46n79N9H7/T+Hjo0AHOnYNSpWDBAnDSf6HMzNHFkSb/bWLvMEQkC9AlM8l2Rm4ZyYjNIwD4ssmXDKw90DYdDxoEW7ZA7tywciXky2ebfkVExO70661kK59v/Zzh4ZZZoscEjGFwncG26XjSJJg82TLH0Ny5ULGibfqVdGWYDSLPRwLgVdxLpTtEJEUaIZJsY+z2sYSEhQDwmf9nDKs7zDYdb9pkuXkaYNQoaNnSNv1Kuku4m8D4kuMZX3I8CXcT7B2OiGRiSogkWxi3cxzDQi0J0CcNPiHk+RDbdHzmjOW+ocRE6NoV3n7bNv2KiEimooRIsryvd3/N4A2WS2MfvvAhw+vbqLDq7duWJ8quX4datSzV7FWWQ0QkW1JCJFnapD2TGLBuAADv1XuPEQ1G2KZjsxl69IBDh8DXF5YvB3d32/QtIiKZjhIiybKm7ptK37WWx+nffu5tRvqPxGSrEZwRIyxJkKur5c8nnrBNvyIikikpIZIsadr+afRZbZlocfCzg/k84HPbJUMLF8J//mNZnjIFate2Tb8iIpJpKSGSLGfWwVm8svIVAAY8M4Avmnxhu2Ro/35LBXuAt96yXDYTEZFsT/MQSZYy59c59FzeEwODN2q9wfim422XDF2+DK1bw9270LQpjB5tm37FbhycHKjVt5Z1WUQkJUqIJMtYcGgBPZb3wMCgT40+fN38a9slQ3Fx0K4dXLgAZcvCvHngqNpXWZ2TqxMtJrawdxgikgXoVybJEhYfXkzQ0iDMhpmXq73MpJaTcDDZ6J+vYUDfvrB9O3h5WcpyeHvbpm8REckSNEIkmd7yo8vpsqQLSUYSwVWDmdpqqu2SIYCvvoJp08DBwVKwtVw52/UtdmUYBjHXYgDIVSCX7UYURSTb0QiRZGqrjq2i06JOJJoTCaocxPetvrdtMhQaCoP/v97Zf/8LgYG261vsLiEmgbGFxjK20FgSYlS6Q0RSpoRIMq21J9bSYVEHEswJdH6qMzPazMDRwYb39Zw4AS+9ZJmEMTj478RIRERyHCVEkiltOLmBdgvaEZ8UT8eKHZnddjZODja8whsZaXmi7OZNePbZvyvZi4hIjqSESDKdn07/RJsFbYhLiqNt+bbMaTfHtslQUhIEBcGRI5YZqJcuBTc32/UvIiJZjhIiyVTCz4TTal4rYhNjaVWuFfM7zMfZ0dm2B3n/fVizxpIELV8OhQvbtn8REclylBBJprHl3BZazmvJ3cS7tCjTgoUdFuLi6GLbg8yZ8/eEi9OmWarYi4hIjqeESDKFbee30XxOc2ISYmhauimLOy3G1cnVtgfZswd697Ysh4RAly627V9ERLIszUMkdrfjwg6azmlKdEI0jZ9szNJOS3FzsvE9PX/+CW3aWGakfvFFGDnStv1LpuTg5EDV4KrWZRGRlCghErvafXE3Tec05U78HfxL+rO883Lcnd1te5DYWGjb1pIUVawIP/xgmYRRsj0nVyfazGhj7zBEJAvQt4LYzb4/99FkdhOi4qKoX6I+KzuvJJdzLtsexDCgTx/YvRvy5rWU5ciTx7bHEBGRLE8jRGIX+y/tp/HsxkTGRVKveD1Wd12Nh4uH7Q/05Zcwe7alUOuiRVCqlO2PIZmWYRjWGaqdczmrdIeIpEgjRJLhDkYcJGB2ADdjb1KnaB3Wdl2Lp4un7Q+0bh28/bZledw4aNTI9seQTC0hJoFRnqMY5TlKpTtE5IGUEEmGOnTlEAGzA7hx9wbPPPEM64LWkds1t+0PdPQodO5sKcvxyivQr5/tjyEiItmGEiLJMIevHsZ/pj/XYq5Rs3BNNnTbgJebl+0PdPOmpSxHVBTUqwcTJ6osh4iIPJASIskQR68dxX+mP1djrlLdtzo/dv8Rbzdv2x8oMdEyv9Dx41CsGCxZAi42ntxRRESyHSVEku5OXD+B/0x/LkdfpopPFUK7h5LPPV/6HOydd2DDBsiVy/JEWaFC6XMcERHJVpQQSbo6deMUDWc25NKdSzxV6Cl+6v4T+XPlT5+DzZhhearsr+Vq1dLnOCIiku0oIZJ0c+bmGRrObMjF2xepWLAiYT3CKOhRMH0OtmMHvPaaZfnDD6Fjx/Q5joiIZEuah0jSxblb5/Cf5c+FqAuUy1+OsB5hFPJIp8tXf/xhmYk6Pt7y50cfpc9xJMtxcHSgYoeK1mURkZQoIRKbuxB5Af9Z/py9dZYy+cqwMXgjvp6+6XOwmBhLjbLLl6FyZZg1S2U5xMrJzYmOizRaKCIPp28OsamLURfxn+XP6ZunKZW3FOHB4RTJXSR9DmYYlur1+/ZBgQKWm6g902GCRxERyfaUEInNXLp9Cf9Z/py8cZKS3iUJDw7niTxPpN8BP/8c5s8HJydYvBj8/NLvWCIikq3pkpnYxOU7l/Gf5c/x68cp4VWC8OBwinkVS78DrlwJ779vWf76a6hfP/2OJVlWfHQ8ozxHARByJwQXD81JJSL3pxEieWxXoq/gP8ufo9eOUixPMTYGb6SEd4n0O+Dvv0NQkOWSWd++fz9dJiIikkZKiOSxXIu5RsCsAA5fPcwTuZ9gY/BGnsz7ZPod8Pp1aNUK7tyBBg0sRVtFREQekxIiSbMbd28QMCuA3678RmHPwmwM3kjpfKXT74AJCZb5hU6fhpIlYdEicHZOv+OJiEiOoYRI0uTm3Zs0nt2Yg5cP4uPhw8bgjZTNXzZ9DzpkCISHW54kW7nS8mSZiIiIDSghkkd2K/YWTX5owi+XfqFgroKE9QijfIHy6XvQKVMsN08D/PADPPVU+h5PRERyFCVE8kii4qJo+kNT9v65l/zu+QnrEUalQpXS96A//wz9+lmWR46E1q3T93giIpLj6LF7SbXbcbdpNqcZuy7uIp97PsJ6hFHZp3L6HvTcOWjfHhIT4aWX4L330vd4kq04ODpQpnkZ67KISEqUEEmq3Im/Q/O5zdl+YTvebt6Edg+lqm/V9D1odLRlNOjqVaheHaZNA5MpfY8p2YqTmxNd13S1dxgikgXoVyZ5qJiEGF6c9yJbz2/Fy9WL0O6h1ChcI30PajZDcDAcPAiFCsGKFZArV/oeU0REciwlRPJAdxPu0mpeKzad3URul9xs6LaBWkVqpf+BR46EJUssj9UvXQrF0nHWaxERyfF0yUxSFJsYS5sFbQg7E4aniyfru62ndtHa6X/gpUvho48sy5MnQ9266X9MyZbio+MZW2gsAEOvDFXpDhFJkRIiua+4xDjaLWjHj6d+xMPZg3VB63iu2HPpf+CDB6F7d8vyoEHw8svpf0zJ1hJiEuwdgohkAZn6ktmoUaN4+umnyZ07N4UKFaJNmzYcO3YsWZvY2Fj69etH/vz58fT0pH379ly+fNlOEWcP8UnxdFjUgXUn1+Hu5M6armuoV7xe+h/46lXLTdQxMRAQAGPHpv8xRUREyOQJ0ebNm+nXrx87d+4kNDSUhIQEmjRpQnR0tLXN4MGDWbVqFYsWLWLz5s38+eeftGvXzo5RZ20JSQl0WtSJ1cdX4+bkxuquq6nvlwGV5OPjoUMHy2P2pUvDggXgpAFMERHJGJn6G2f9+vXJ3s+YMYNChQqxb98+XnjhBSIjI/n++++ZO3cu/v7+AEyfPp0KFSqwc+dOnn32WXuEnWUlJCXQZUkXVhxbgaujKys7r8S/pH/6H9gwYMAA2LIFcue2lOXIly/9jysiIvL/MvUI0b9FRkYCkO//vyz37dtHQkICAQEB1jbly5enePHi7Nixwy4xZlWJ5kS6LevGkiNLcHF0YXnn5TQu1ThjDj5pkqU0h8kE8+ZBhQoZc1wREZH/l6lHiP7JbDbz5ptvUrduXZ76/zpWERERuLi44O3tnaytj48PERERKfYVFxdHXFyc9X1UVFS6xJxVJJmT6LGsBwt/X4izgzNLOy2laemmGXPwjRth4EDL8uefQ4sWGXNcERGRf8gyCVG/fv04dOgQW7dufey+Ro0axccff2yDqLK+JHMSvVb0Yt6heTg5OLG402JalM2gpOT0aejYEZKSICgIhg3LmONKjmFyMFGifgnrsohISrLEJbP+/fuzevVqwsPDKVq0qHW9r68v8fHx3Lp1K1n7y5cv4+vrm2J/ISEhREZGWl8XLlxIr9AzNbNh5pVVrzD719k4mhxZ2GEhrcq1ypiD374NrVrBjRvw9NMwdarKcojNObs703NTT3pu6omzu7O9wxGRTCxTJ0SGYdC/f3+WLVvGxo0bKVmyZLLtNWvWxNnZmbCwMOu6Y8eOcf78eerUqZNiv66uruTJkyfZK6cxG2ZeW/UaMw7MwNHkyLz282hboW0GHdwM3brB779D4cKwbBm4u2fMsUVERO4jU18y69evH3PnzmXFihXkzp3bel+Ql5cX7u7ueHl50bt3b4YMGUK+fPnIkycPAwYMoE6dOnrC7AEMw6Dvmr58t/87HEwOzG47m46VOmZcAB9+aHmSzNXVkgw98UTGHVtEROQ+TIZhGPYOIiWmFC6hTJ8+nZ49ewKWiRnfeust5s2bR1xcHIGBgXzzzTcPvGT2b1FRUXh5eREZGZntR4sMw2DAugFM3DMREyZmtZ1FtyrdMi6ABQugc2fL8qxZf89KLZIO4qPjGe83HoBBZwepdIdINmPL7+9MPUKUmlzNzc2NiRMnMnHixAyIKGszDIPBGwZbk6HpradnbDK0bx/06mVZHjZMyZBkiJhrMfYOQUSygEx9D5HYjmEYDP1xKON3WX5bnvriVIKrBWdcABER0KYN3L0LzZrBqFEZd2wREZGHUEKUAxiGwbs/vcuXO78E4NuW39K7Ru+MCyAuDtq1gz/+gHLlLJMvOjpm3PFFREQeQglRNmcYBsPDhzNm+xgAJjafSJ+afTIyAHjjDdixA7y9LTdTe3ll3PFFRERSQQlRNvfJ5k/49OdPARjfdDx9n+6bsQFMmADTp4ODg+WG6rJlM/b4IiIiqaCEKBsbuWUkIzaPAODLJl8ysPbAjA3gxx9hyBDL8tix0KRJxh5fREQklTL1U2aSdp9v/Zzh4cMBGBMwhsF1BmdsACdOwEsvWSZh7NkT3nwzY48vgqVcR5FaRazLIiIpUUKUDY3dPpaQsBAAPvP/jGF1M7hGWGSkpSzHrVtQpw5MnqyyHGIXzu7OvLrnVXuHISJZgC6ZZTPjdo5jWKglAfqkwSeEPB+SsQEkJUHXrnD0KBQtCkuXWmakFhERycSUEGUjX+/+msEbLJfGPnzhQ4bXH57xQbz3HqxdC25usHw5PMKM4SIiIvaihCibmLRnEgPWDQDgvXrvMaLBiIwP4ocfYIzl8X6mT4eaNTM+BpF/SIhJYJzfOMb5jSMhJsHe4YhIJqZ7iLKBqfum0net5XH6t597m5H+I1OsA5dudu+GV16xLL/33t/1ykTsyDAMIs9FWpdFRFKiEaIsbtr+afRZbZloccizQ/g84POMT4b+/NNSliMuDl58Ef7zn4w9voiIyGNSQpSFzTo4i1dWWkZlBj4zkLFNxmZ8MnT3riUZunQJKlWyXDZz0D8rERHJWvTNlUXN+XUOPZf3xMDgjVpvMK7puIxPhgwD+vSBPXsgXz5YsQLy5MnYGERERGxACVEWtODQAnos74GBQZ8affi6+dcZnwyBZfbpH36wFGpdtAhKlcr4GERERGxACVEWs/jwYoKWBmE2zLxc7WUmtZyEg8kOf41r18I771iWx48Hf/+Mj0FERMRG9JRZFrLsyDK6LOlCkpFEcNVgpraaap9k6MgR6NLl70tmfTO4YKxIKplMJgpWLGhdFhFJicnQs6hERUXh5eVFZGQkeTLpPTArj62k/cL2JJoTCaocxMw2M3F0cMz4QG7ehGeegZMn4fnn4aefwMUl4+MQEZEcz5bf37pklgWsPbGWDgs7kGhOpPNTnZnRZoZ9kqHEREvB1pMnoUQJWLJEyZCIiGQLSogyuQ0nN9BuQTsSzAl0rNiR2W1n4+Rgpyudw4ZBaCjkymV5oqxgQfvEISIiYmNKiDKxn07/RJsFbYhLiqNt+bbMaTfHfsnQtGkwbpxledYsqFrVPnGIPIKEmAS+qfQN31T6RqU7ROSBdFN1JhV+JpxW81oRmxhLq3KtmN9hPs6OzvYJZvt2eP11y/KIEdC+vX3iEHlEhmFw9fBV67KISEo0QpQJbTm3hZbzWnI38S4tyrRgYYeFuDja6V6dCxegXTtISLAkQsOH2ycOERGRdKSEKJPZdn4bzec0JyYhhqalm7K402JcnVztE0xMjKUsx+XLUKUKzJihshwiIpIt6dstE9lxYQdN5zQlOiGaxk82Zmmnpbg5udknGMOAl1+GX36BAgUsN1F7etonFhERkXSmhCiT2H1xN03nNOVO/B38S/qzvPNy3J3d7RfQqFGwYAE4OVker/fzs18sIiIi6UwJUSaw7899NJndhKi4KOqXqM/KzivJ5ZzLfgGtWAHvv29ZnjgRXnjBfrGIiIhkAD1lZmf7L+2n8ezGRMZFUq94PVZ3XY2Hi4f9Ajp0CLp1syz362cpzSGSRZlMJrxKeFmXRURSotId2K90x8GIg/jP8ufG3RvUKVqHDd02kNs1d4Yd/x7Xr8PTT8OZM9CwIWzYAM52etRfRETkIVS6Ixs4dOUQAbMDuHH3Bs888QzrgtbZNxlKSICOHS3JUMmSsGiRkiEREckxlBDZweGrh/Gf6c+1mGvULFyTDd024OXmZd+gBg+G8HDLk2QrV0L+/PaNR0REJAPpHqIMdvTaUfxn+nM15irVfavzY/cf8Xbztm9Q335ruXnaZII5c+Cpp+wbj4iNJNxNYMYLMwDouaUnzu4a9RSR+1NClIFOXD+B/0x/LkdfpopPFUK7h5LPPZ99g9qyBfr3tyyPHAmtWtk3HhEbMswGf+7907osIpISXTLLIKdunKLhzIZcunOJpwo9xU/dfyJ/Ljtfljp71lKOIzERXnoJQkLsG4+IiIidKCHKAGdunqHhzIZcvH2RigUrEtYjjIIeBe0b1J070Lo1XLsGNWpYqtnrsWQREcmhlBCls3O3zuE/y58LURcol78cYT3CKORRyL5Bmc3Qowf8+iv4+MDy5ZDLjhNBioiI2JkSonR0IfIC/rP8OXvrLGXylWFj8EZ8PX3tHRZ88gksWwYuLpY/ixWzd0QiIiJ2pYQonVyMuoj/LH9O3zxNqbylCA8Op0juIvYOCxYvho8/tixPngx16tg3HhERkUxAT5mlg0u3L+E/y5+TN05S0rsk4cHhPJHnCXuHBQcOQHCwZXnwYOjVy67hiGSEXAV0OVhEHk6lO7Dt1N+X71ymwcwGHL12lBJeJdjcczMlvEvYJtDHceWKpSzH+fPQpAmsWWOpZC8iIpJFqXRHJnUl+gr+s/w5eu0oxfIUY2PwxsyRDMXHWx6vP38eypSB+fOVDImIiPyDEiIbuRZzjYBZARy+epgncj/BxuCNPJn3SXuHBYZhmXhx61bIk8dSliNvXntHJSIikqlomMAGbty9QcCsAH678huFPQuzMXgjpfOVtndYFt98A1OnWuYYmjcPype3d0QiGSbhbgJzms0BIGhdkEp3iEiKlBA9ppt3b9J4dmMOXj6Ij4cPG4M3UjZ/WXuHZbFxIwwaZFkePRqaN7dvPCIZzDAbnNt8zrosIpISXTJ7DLdib9Hkhyb8cukXCuYqyMbgjZQvkElGYE6dgo4dISkJunWDoUPtHZGIiEimpYQojaLiomj6Q1P2/rmX/O75CesRRsWCFe0dlkVUlKVI640b8Mwzf18yExERkftSQpQGt+Nu02xOM3Zd3EU+93yE9Qijsk9le4dlYTZbRoQOH4bChS0zUbu52TsqERGRTE0J0SO6E3+H5nObs/3CdrzdvAntHkpV36r2Dutvw4fDqlXg6mqpUVYkE8yOLSIikskpIXoE0fHRtJzbkq3nt+Ll6kVo91BqFK5h77D+Nm8efPaZZfm77yyXy0REROSh9JRZKsUkxNBqfis2n9tMbpfcbOi2gVpFatk7rL/t2wcvv2xZfvtty2UzEcE5lx61F5GHU+kOHj71d2xiLK3mtSL0dCieLp5s6LaB54o9Z4dIUxARAbVqwcWLlkfrV64ER0d7RyUiIpKuVLojA8UlxtF2QVtCT4fi4ezBuqB1mSsZiouDtm0tyVD58jB3rpIhERGRR6SE6AHik+LpsKgD60+ux93JnTVd11CveD17h/U3w4DXX4edO8Hb2zIy5OVl76hERESyHCVEKUhISqDTok6sPr4aNyc3VnddTX2/+vYOK7lx42DGDHBwgIULLYVbRcQqMTaRuS3mMrfFXBJjE+0djohkYrqp+j4SkhLosqQLK46twNXRlZWdV+Jf0t/eYSW3YcPfs09/+SU0bmzfeEQyIXOSmRNrT1iXRURSohGif0k0J9JtWTeWHFmCi6MLyzsvp3GpTJZsHD8OL71kmYTx5Zdh4EB7RyQiIpKlZZuEaOLEifj5+eHm5kbt2rXZvXv3I/eRZE6ix7IeLPx9Ic4OzizttJSmpZumQ7SP4dYtS1mOyEh47jlLNXuV5RAREXks2SIhWrBgAUOGDOGjjz7il19+oWrVqgQGBnLlypVH6ueNNW8w79A8nBycWNxpMS3KtkiniNMoKQm6dIFjx6BoUVi61DIjtYiIiDyWbJEQffnll7z66qv06tWLihUrMnnyZHLlysW0adMeqZ8FhxbgaHJkYYeFtCrXKp2ifQzvvgvr14O7O6xYAT4+9o5IREQkW8jyCVF8fDz79u0jICDAus7BwYGAgAB27NjxSH05mByY134ebSu0tXWYj2/WLBg71rI8YwbUyEQlQ0RERLK4LP+U2bVr10hKSsLnX6MlPj4+HD169L77xMXFERcXZ30fGRkJwIRGEwgsFkhUVFT6BZwWe/fCq69alocOhaZNIbPFKJIJxUfHE0ssYJnR1iXJxc4RiYgt/fV9bZOiG0YWd/HiRQMwtm/fnmz9sGHDjGeeeea++3z00UcGoJdeeumll156ZYPXqVOnHjufyPIjRAUKFMDR0ZHLly8nW3/58mV8fX3vu09ISAhDhgyxvr916xYlSpTg/PnzeGmm5zSLioqiWLFiXLhw4bFryuR0Ope2o3NpGzqPtqNzaTuRkZEUL16cfPnyPXZfWT4hcnFxoWbNmoSFhdGmTRsAzGYzYWFh9O/f/777uLq64nqfp7O8vLz0j9MG8uTJo/NoIzqXtqNzaRs6j7ajc2k7Dg6Pf0t0lk+IAIYMGUJwcDC1atXimWeeYdy4cURHR9OrVy97hyYiIiJZQLZIiF566SWuXr3Khx9+SEREBNWqVWP9+vX33GgtIiIicj/ZIiEC6N+/f4qXyB7G1dWVjz766L6X0ST1dB5tR+fSdnQubUPn0XZ0Lm3HlufSZBi2eFZNREREJOvK8hMzioiIiDwuJUQiIiKS4ykhEhERkRxPCZGIiIjkeDk+IZo4cSJ+fn64ublRu3Ztdu/ebe+QMr0tW7bw4osvUqRIEUwmE8uXL0+23TAMPvzwQwoXLoy7uzsBAQGcOHHCPsFmYqNGjeLpp58md+7cFCpUiDZt2nDs2LFkbWJjY+nXrx/58+fH09OT9u3b3zMru8CkSZOoUqWKdaK7OnXqsG7dOut2nce0+fzzzzGZTLz55pvWdTqXqTNixAhMJlOyV/ny5a3bdR4fzcWLF+nWrRv58+fH3d2dypUrs3fvXut2W3zv5OiEaMGCBQwZMoSPPvqIX375hapVqxIYGMiVK1fsHVqmFh0dTdWqVZk4ceJ9t48ZM4YJEyYwefJkdu3ahYeHB4GBgcTGxmZwpJnb5s2b6devHzt37iQ0NJSEhASaNGlCdHS0tc3gwYNZtWoVixYtYvPmzfz555+0a9fOjlFnTkWLFuXzzz9n37597N27F39/f1q3bs3vv/8O6DymxZ49e/j222+pUqVKsvU6l6lXqVIlLl26ZH1t3brVuk3nMfVu3rxJ3bp1cXZ2Zt26dRw+fJgvvviCvHnzWtvY5HvnsauhZWHPPPOM0a9fP+v7pKQko0iRIsaoUaPsGFXWAhjLli2zvjebzYavr6/x3//+17ru1q1bhqurqzFv3jw7RJh1XLlyxQCMzZs3G4ZhOW/Ozs7GokWLrG2OHDliAMaOHTvsFWaWkTdvXuO7777TeUyD27dvG2XKlDFCQ0ON+vXrG4MGDTIMQ/8mH8VHH31kVK1a9b7bdB4fzTvvvGPUq1cvxe22+t7JsSNE8fHx7Nu3j4CAAOs6BwcHAgIC2LFjhx0jy9rOnDlDREREsvPq5eVF7dq1dV4fIjIyEsBapHDfvn0kJCQkO5fly5enePHiOpcPkJSUxPz584mOjqZOnTo6j2nQr18/WrRokeycgf5NPqoTJ05QpEgRnnzySYKCgjh//jyg8/ioVq5cSa1atejYsSOFChWievXqTJ061brdVt87OTYhunbtGklJSfeU9/Dx8SEiIsJOUWV9f507nddHYzabefPNN6lbty5PPfUUYDmXLi4ueHt7J2urc3l/v/32G56enri6uvL666+zbNkyKlasqPP4iObPn88vv/zCqFGj7tmmc5l6tWvXZsaMGaxfv55JkyZx5swZnn/+eW7fvq3z+IhOnz7NpEmTKFOmDBs2bOCNN95g4MCBzJw5E7Dd9062Kd0hkpX169ePQ4cOJbvHQB5NuXLlOHDgAJGRkSxevJjg4GA2b95s77CylAsXLjBo0CBCQ0Nxc3OzdzhZWrNmzazLVapUoXbt2pQoUYKFCxfi7u5ux8iyHrPZTK1atfjss88AqF69OocOHWLy5MkEBwfb7Dg5doSoQIECODo63nNX/+XLl/H19bVTVFnfX+dO5zX1+vfvz+rVqwkPD6do0aLW9b6+vsTHx3Pr1q1k7XUu78/FxYXSpUtTs2ZNRo0aRdWqVRk/frzO4yPYt28fV65coUaNGjg5OeHk5MTmzZuZMGECTk5O+Pj46Fymkbe3N2XLluXkyZP6N/mIChcuTMWKFZOtq1ChgvUSpK2+d3JsQuTi4kLNmjUJCwuzrjObzYSFhVGnTh07Rpa1lSxZEl9f32TnNSoqil27dum8/othGPTv359ly5axceNGSpYsmWx7zZo1cXZ2TnYujx07xvnz53UuU8FsNhMXF6fz+AgaNWrEb7/9xoEDB6yvWrVqERQUZF3WuUybO3fucOrUKQoXLqx/k4+obt2690xJcvz4cUqUKAHY8Hvnce78zurmz59vuLq6GjNmzDAOHz5s9OnTx/D29jYiIiLsHVqmdvv2bWP//v3G/v37DcD48ssvjf379xvnzp0zDMMwPv/8c8Pb29tYsWKF8euvvxqtW7c2SpYsady9e9fOkWcub7zxhuHl5WVs2rTJuHTpkvUVExNjbfP6668bxYsXNzZu3Gjs3bvXqFOnjlGnTh07Rp05vfvuu8bmzZuNM2fOGL/++qvx7rvvGiaTyfjxxx8Nw9B5fBz/fMrMMHQuU+utt94yNm3aZJw5c8bYtm2bERAQYBQoUMC4cuWKYRg6j49i9+7dhpOTk/Hpp58aJ06cMObMmWPkypXL+OGHH6xtbPG9k6MTIsMwjK+++sooXry44eLiYjzzzDPGzp077R1SphceHm4A97yCg4MNw7A8Ajl8+HDDx8fHcHV1NRo1amQcO3bMvkFnQvc7h4Axffp0a5u7d+8affv2NfLmzWvkypXLaNu2rXHp0iX7BZ1Jvfzyy0aJEiUMFxcXo2DBgkajRo2syZBh6Dw+jn8nRDqXqfPSSy8ZhQsXNlxcXIwnnnjCeOmll4yTJ09at+s8PppVq1YZTz31lOHq6mqUL1/emDJlSrLttvjeMRmGYaR5HEtEREQkG8ix9xCJiIiI/EUJkYiIiOR4SohEREQkx1NCJCIiIjmeEiIRERHJ8ZQQiYiISI6nhEhERERyPCVEIiIikuMpIRIRq02bNmEyme4pOplRwsLCqFChAklJSQCMGDGCatWq2SUWk8nE8uXL7XLsRzF58mRefPFFe4chkuVppmqRHKpBgwZUq1aNcePGWdfFx8dz48YNfHx8MJlMGR5TzZo1GTJkCEFBQYClIGZcXBz58+fP8FgiIiLImzcvrq6uNuuzZ8+e3Lp1y6aJVnx8PCVLlmT+/Pk8//zzNutXJKfRCJGIWLm4uODr62uXZGjr1q2cOnWK9u3bW9d5enraJRkC8PX1tWkylF5cXFzo2rUrEyZMsHcoIlmaEiKRHKhnz55s3ryZ8ePHYzKZMJlMnD179p5LZjNmzMDb25vVq1dTrlw5cuXKRYcOHYiJiWHmzJn4+fmRN29eBg4caL3MBRAXF8fQoUN54okn8PDwoHbt2mzatOmBMc2fP5/GjRvj5uZmXffvS2Y9e/akTZs2jB07lsKFC5M/f3769etHQkJCiv3+1ce0adMoXrw4np6e9O3bl6SkJMaMGYOvry+FChXi008/TbbfPy+ZnT17FpPJxNKlS2nYsCG5cuWiatWq7NixI8VYAcaNG4efn591+8yZM1mxYoX1nP91Ti5cuECnTp3w9vYmX758tG7dmrNnz1r72bRpE8888wweHh54e3tTt25dzp07Z93+4osvsnLlSu7evfvAcywiKVNCJJIDjR8/njp16vDqq69y6dIlLl26RLFixe7bNiYmhgkTJjB//nzWr1/Ppk2baNu2LWvXrmXt2rXMnj2bb7/9lsWLF1v36d+/Pzt27GD+/Pn8+uuvdOzYkaZNm3LixIkUY/r555+pVavWQ2MPDw/n1KlThIeHM3PmTGbMmMGMGTMeuM+pU6dYt24d69evZ968eXz//fe0aNGCP/74g82bNzN69Gg++OADdu3a9cB+3n//fYYOHcqBAwcoW7YsXbp0ITEx8aExAwwdOpROnTrRtGlT6zl/7rnnSEhIIDAwkNy5c/Pzzz+zbds2PD09adq0KfHx8SQmJtKmTRvq16/Pr7/+yo4dO+jTp0+yUbxatWqRmJj40PhFJGVO9g5ARDKel5cXLi4u5MqVC19f3we2TUhIYNKkSZQqVQqADh06MHv2bC5fvoynpycVK1akYcOGhIeH89JLL3H+/HmmT5/O+fPnKVKkCGBJBtavX8/06dP57LPP7nucc+fOWds/SN68efn6669xdHSkfPnytGjRgrCwMF599dUU9zGbzUybNo3cuXNb4z127Bhr167FwcGBcuXKMXr0aMLDw6ldu3aK/QwdOpQWLVoA8PHHH1OpUiVOnjxJ+fLlHxq3p6cn7u7uxMXFJTvnP/zwA2azme+++86a5EyfPh1vb282bdpErVq1iIyMpGXLlta/gwoVKiTrO1euXHh5eSUbNRKRR6OESEQeKFeuXNYvYgAfHx/8/Pzw9PRMtu7KlSsA/PbbbyQlJVG2bNlk/Tzs5ui7d+8mu1yWkkqVKuHo6Gh9X7hwYX777bcH7uPn50fu3LmTxevo6IiDg0OydX/9DCmpUqVKsuMCXLlyJVUJUUoOHjzIyZMnk8UHEBsby6lTp2jSpAk9e/YkMDCQxo0bExAQQKdOnazH/4u7uzsxMTFpjkMkp1NCJCIP5OzsnOy9yWS67zqz2QxYngxzdHRk3759yRIXIFkS9W8FChTg5s2baYrnr2Pb6mdITT9/jeb8tY+DgwP/fmj3Qfc2/eXOnTvUrFmTOXPm3LOtYMGCgGXEaODAgaxfv54FCxbwwQcfEBoayrPPPmtte+PGDWt7EXl0SohEcigXF5dkN0LbSvXq1UlKSuLKlSuP9Bh49erVOXz4sM3jySgFCxYkIiICwzCsydKBAweStbnfOa9RowYLFiygUKFC5MmTJ8X+q1evTvXq1QkJCaFOnTrMnTvXmhCdOnWK2NhYqlevbtsfSiQH0U3VIjmUn58fu3bt4uzZs1y7du2hoyOpVbZsWYKCgujRowdLly7lzJkz7N69m1GjRrFmzZoU9wsMDGTr1q02icEeGjRowNWrVxkzZgynTp1i4sSJrFu3LlkbPz8/fv31V44dO8a1a9dISEggKCiIAgUK0Lp1a37++WfOnDnDpk2bGDhwIH/88QdnzpwhJCSEHTt2cO7cOX788UdOnDiR7D6in3/+mSeffDLZpU0ReTRKiERyqKFDh+Lo6EjFihUpWLAg58+ft1nf06dPp0ePHrz11luUK1eONm3asGfPHooXL57iPkFBQfz+++8cO3bMZnFkpAoVKvDNN98wceJEqlatyu7duxk6dGiyNq+++irlypWjVq1aFCxYkG3btpErVy62bNlC8eLFadeuHRUqVKB3797ExsaSJ08ecuXKxdGjR2nfvj1ly5alT58+9OvXj9dee83a77x58x54U7mIPJxmqhaRTGPYsGFERUXx7bff2juULOP333/H39+f48eP4+XlZe9wRLIsjRCJSKbx/vvvU6JECZtdvssJLl26xKxZs5QMiTwmjRCJiIhIjqcRIhEREcnxlBCJiIhIjqeESERERHI8JUQiIiKS4ykhEhERkRxPCZGIiIjkeEqIREREJMdTQiQiIiI5nhIiERERyfH+DwU2zFoyKdHsAAAAAElFTkSuQmCC\n"
          },
          "metadata": {}
        }
      ]
    },
    {
      "cell_type": "markdown",
      "metadata": {
        "id": "kpwZw64EYfs6"
      },
      "source": [
        "**Return to slides here.**"
      ]
    },
    {
      "cell_type": "markdown",
      "metadata": {
        "id": "NgGMhK4B51oe"
      },
      "source": [
        "### Scalars (Rank 0 Tensors) in Base Python"
      ]
    },
    {
      "cell_type": "code",
      "metadata": {
        "id": "ZXnTHDn_EW6b",
        "colab": {
          "base_uri": "https://localhost:8080/"
        },
        "outputId": "c6470bc6-d218-4ad0-f942-e5c0ab530662"
      },
      "source": [
        "x = 25\n",
        "print(x)"
      ],
      "execution_count": 7,
      "outputs": [
        {
          "output_type": "stream",
          "name": "stdout",
          "text": [
            "25\n"
          ]
        }
      ]
    },
    {
      "cell_type": "code",
      "metadata": {
        "id": "VF8Jam76R4KJ",
        "colab": {
          "base_uri": "https://localhost:8080/"
        },
        "outputId": "948ff227-247a-43c2-c867-a59748f1cb1e"
      },
      "source": [
        "type(x) # if we'd like more specificity (e.g., int16, uint8), we need NumPy or another numeric library"
      ],
      "execution_count": 8,
      "outputs": [
        {
          "output_type": "execute_result",
          "data": {
            "text/plain": [
              "int"
            ]
          },
          "metadata": {},
          "execution_count": 8
        }
      ]
    },
    {
      "cell_type": "code",
      "metadata": {
        "id": "ZBzYlL0mRd-P"
      },
      "source": [
        "y = 3"
      ],
      "execution_count": 9,
      "outputs": []
    },
    {
      "cell_type": "code",
      "metadata": {
        "id": "1i-hW0bcReyy",
        "colab": {
          "base_uri": "https://localhost:8080/"
        },
        "outputId": "8bd70dad-bec3-4d18-8be0-d80668651c06"
      },
      "source": [
        "py_sum = x + y\n",
        "py_sum"
      ],
      "execution_count": 10,
      "outputs": [
        {
          "output_type": "execute_result",
          "data": {
            "text/plain": [
              "28"
            ]
          },
          "metadata": {},
          "execution_count": 10
        }
      ]
    },
    {
      "cell_type": "code",
      "metadata": {
        "id": "CpyUxB6XRk6y",
        "colab": {
          "base_uri": "https://localhost:8080/"
        },
        "outputId": "bd92df33-0696-481c-c93f-3eca51b1aad2"
      },
      "source": [
        "type(py_sum)"
      ],
      "execution_count": 11,
      "outputs": [
        {
          "output_type": "execute_result",
          "data": {
            "text/plain": [
              "int"
            ]
          },
          "metadata": {},
          "execution_count": 11
        }
      ]
    },
    {
      "cell_type": "code",
      "metadata": {
        "id": "V2UiLj-JR8Ij",
        "colab": {
          "base_uri": "https://localhost:8080/"
        },
        "outputId": "33d4643d-8706-485a-c457-72227587d19f"
      },
      "source": [
        "x_float = float(25)  # or orginal 25.0 for an implicit cast, float() would be explicit\n",
        "float_sum = x_float + y\n",
        "float_sum"
      ],
      "execution_count": 12,
      "outputs": [
        {
          "output_type": "execute_result",
          "data": {
            "text/plain": [
              "28.0"
            ]
          },
          "metadata": {},
          "execution_count": 12
        }
      ]
    },
    {
      "cell_type": "code",
      "metadata": {
        "id": "ikOwjp6ASCaf",
        "colab": {
          "base_uri": "https://localhost:8080/"
        },
        "outputId": "d29f76b9-f440-474f-ff61-0f2117126f51"
      },
      "source": [
        "type(float_sum)"
      ],
      "execution_count": 13,
      "outputs": [
        {
          "output_type": "execute_result",
          "data": {
            "text/plain": [
              "float"
            ]
          },
          "metadata": {},
          "execution_count": 13
        }
      ]
    },
    {
      "cell_type": "markdown",
      "metadata": {
        "id": "SgUvioyUz8T2"
      },
      "source": [
        "### Scalars in PyTorch\n",
        "\n",
        "* PyTorch and TensorFlow are the two most popular *automatic differentiation* libraries (a focus of the [*Calculus I*](https://github.com/jonkrohn/ML-foundations/blob/master/notebooks/3-calculus-i.ipynb) and [*Calculus II*](https://github.com/jonkrohn/ML-foundations/blob/master/notebooks/4-calculus-ii.ipynb) subjects in the *ML Foundations* series) in Python, itself the most popular programming language in ML.\n",
        "* PyTorch tensors are designed to be pythonic, i.e., to feel and behave like NumPy arrays.\n",
        "* The advantage of PyTorch tensors relative to NumPy arrays is that they easily be used for operations on GPU (see [here](https://pytorch.org/tutorials/beginner/examples_tensor/two_layer_net_tensor.html) for example).\n",
        "* Documentation on PyTorch tensors, including available data types, is [here](https://pytorch.org/docs/stable/tensors.html)."
      ]
    },
    {
      "cell_type": "code",
      "metadata": {
        "id": "A9Hhazt2zKeD"
      },
      "source": [
        "import torch"
      ],
      "execution_count": null,
      "outputs": []
    },
    {
      "cell_type": "code",
      "metadata": {
        "id": "a211IRW_0-iY"
      },
      "source": [
        "x_pt = torch.tensor(25) # type specification optional, e.g.: dtype=torch.float16\n",
        "x_pt"
      ],
      "execution_count": null,
      "outputs": []
    },
    {
      "cell_type": "code",
      "metadata": {
        "id": "LvxzMa_HhUNB"
      },
      "source": [
        "x_pt.shape"
      ],
      "execution_count": null,
      "outputs": []
    },
    {
      "cell_type": "markdown",
      "metadata": {
        "id": "eUyuZXlWS8T9"
      },
      "source": [
        "### Scalars in TensorFlow (version 2.0 or later)\n",
        "\n",
        "Tensors created with a wrapper, all of which [you can read about here](https://www.tensorflow.org/guide/tensor):  \n",
        "\n",
        "* `tf.Variable`\n",
        "* `tf.constant`\n",
        "* `tf.placeholder`\n",
        "* `tf.SparseTensor`\n",
        "\n",
        "Most widely-used is `tf.Variable`, which we'll use here.\n",
        "\n",
        "As with TF tensors, in PyTorch we can similarly perform operations, and we can easily convert to and from NumPy arrays.\n",
        "\n",
        "Also, a full list of tensor data types is available [here](https://www.tensorflow.org/api_docs/python/tf/dtypes/DType)."
      ]
    },
    {
      "cell_type": "code",
      "metadata": {
        "id": "CHBYse_MEqZM"
      },
      "source": [
        "import tensorflow as tf"
      ],
      "execution_count": null,
      "outputs": []
    },
    {
      "cell_type": "code",
      "metadata": {
        "id": "sDv92Nh-NSOU"
      },
      "source": [
        "x_tf = tf.Variable(25, dtype=tf.int16) # dtype is optional\n",
        "x_tf"
      ],
      "execution_count": null,
      "outputs": []
    },
    {
      "cell_type": "code",
      "metadata": {
        "id": "EmPMBIV9RQjS"
      },
      "source": [
        "x_tf.shape"
      ],
      "execution_count": null,
      "outputs": []
    },
    {
      "cell_type": "code",
      "metadata": {
        "id": "mEILtO9pPctO"
      },
      "source": [
        "y_tf = tf.Variable(3, dtype=tf.int16)"
      ],
      "execution_count": null,
      "outputs": []
    },
    {
      "cell_type": "code",
      "metadata": {
        "id": "dvvWuaw6Ph_D"
      },
      "source": [
        "x_tf + y_tf"
      ],
      "execution_count": null,
      "outputs": []
    },
    {
      "cell_type": "code",
      "metadata": {
        "id": "JZVhRnX9RUGW"
      },
      "source": [
        "tf_sum = tf.add(x_tf, y_tf)\n",
        "tf_sum"
      ],
      "execution_count": null,
      "outputs": []
    },
    {
      "cell_type": "code",
      "metadata": {
        "id": "sVbMxT1Ey6Y3"
      },
      "source": [
        "tf_sum.numpy() # note that NumPy operations automatically convert tensors to NumPy arrays, and vice versa"
      ],
      "execution_count": null,
      "outputs": []
    },
    {
      "cell_type": "code",
      "metadata": {
        "id": "LXpv69t0y-f6"
      },
      "source": [
        "type(tf_sum.numpy())"
      ],
      "execution_count": null,
      "outputs": []
    },
    {
      "cell_type": "code",
      "metadata": {
        "id": "VszuTUAg1uXk"
      },
      "source": [
        "tf_float = tf.Variable(25., dtype=tf.float16)\n",
        "tf_float"
      ],
      "execution_count": null,
      "outputs": []
    },
    {
      "cell_type": "markdown",
      "metadata": {
        "id": "B5VRGo1H6010"
      },
      "source": [
        "**Return to slides here.**"
      ]
    },
    {
      "cell_type": "markdown",
      "metadata": {
        "id": "4CURG9Er6aZI"
      },
      "source": [
        "### Vectors (Rank 1 Tensors) in NumPy"
      ]
    },
    {
      "cell_type": "code",
      "metadata": {
        "id": "T9ME4kBr4wg0",
        "colab": {
          "base_uri": "https://localhost:8080/"
        },
        "outputId": "8569b60f-6faa-403b-cc24-da0508ee666c"
      },
      "source": [
        "x = np.array([25, 2, 5]) # type argument is optional, e.g.: dtype=np.float16\n",
        "x"
      ],
      "execution_count": 16,
      "outputs": [
        {
          "output_type": "execute_result",
          "data": {
            "text/plain": [
              "array([25,  2,  5])"
            ]
          },
          "metadata": {},
          "execution_count": 16
        }
      ]
    },
    {
      "cell_type": "code",
      "source": [
        "# pass in a list and convert to a vector / tensor / array\n",
        "lst_x = [25, 2, 5]\n",
        "x_vec = np.array(lst_x)\n",
        "x_vec"
      ],
      "metadata": {
        "colab": {
          "base_uri": "https://localhost:8080/"
        },
        "id": "hWAbTjr9E791",
        "outputId": "032b3401-3e8a-46b9-fc6a-4799b35fd385"
      },
      "execution_count": 17,
      "outputs": [
        {
          "output_type": "execute_result",
          "data": {
            "text/plain": [
              "array([25,  2,  5])"
            ]
          },
          "metadata": {},
          "execution_count": 17
        }
      ]
    },
    {
      "cell_type": "code",
      "metadata": {
        "id": "ZuotxmlZL2wp",
        "colab": {
          "base_uri": "https://localhost:8080/"
        },
        "outputId": "3a2445d2-5df1-4664-c158-f6c84ae09978"
      },
      "source": [
        "len(x)"
      ],
      "execution_count": 18,
      "outputs": [
        {
          "output_type": "execute_result",
          "data": {
            "text/plain": [
              "3"
            ]
          },
          "metadata": {},
          "execution_count": 18
        }
      ]
    },
    {
      "cell_type": "code",
      "metadata": {
        "id": "OlPYy6GOaIVy",
        "colab": {
          "base_uri": "https://localhost:8080/"
        },
        "outputId": "ff19c4b2-7f08-49db-ec32-c34d17b6d60a"
      },
      "source": [
        "x.shape"
      ],
      "execution_count": 19,
      "outputs": [
        {
          "output_type": "execute_result",
          "data": {
            "text/plain": [
              "(3,)"
            ]
          },
          "metadata": {},
          "execution_count": 19
        }
      ]
    },
    {
      "cell_type": "code",
      "metadata": {
        "id": "sWbYGwObcgtK",
        "colab": {
          "base_uri": "https://localhost:8080/"
        },
        "outputId": "a3e44922-3a1d-43f5-e576-5c025b2cbc52"
      },
      "source": [
        "type(x)"
      ],
      "execution_count": 20,
      "outputs": [
        {
          "output_type": "execute_result",
          "data": {
            "text/plain": [
              "numpy.ndarray"
            ]
          },
          "metadata": {},
          "execution_count": 20
        }
      ]
    },
    {
      "cell_type": "code",
      "metadata": {
        "id": "ME_xuvD_oTPg",
        "colab": {
          "base_uri": "https://localhost:8080/"
        },
        "outputId": "e6f0ece3-eab1-4bf1-ea96-34fc222670a3"
      },
      "source": [
        "x[0] # zero-indexed"
      ],
      "execution_count": 21,
      "outputs": [
        {
          "output_type": "execute_result",
          "data": {
            "text/plain": [
              "np.int64(25)"
            ]
          },
          "metadata": {},
          "execution_count": 21
        }
      ]
    },
    {
      "cell_type": "code",
      "metadata": {
        "id": "hXmBHZQ-nxFw",
        "colab": {
          "base_uri": "https://localhost:8080/"
        },
        "outputId": "9c6e79e6-06c3-4dfc-8611-6724cd97372a"
      },
      "source": [
        "type(x[0])"
      ],
      "execution_count": 22,
      "outputs": [
        {
          "output_type": "execute_result",
          "data": {
            "text/plain": [
              "numpy.int64"
            ]
          },
          "metadata": {},
          "execution_count": 22
        }
      ]
    },
    {
      "cell_type": "code",
      "source": [
        "# out of bounds... throws an error\n",
        "x[3]"
      ],
      "metadata": {
        "colab": {
          "base_uri": "https://localhost:8080/",
          "height": 159
        },
        "id": "q-sS0ZqMFZG7",
        "outputId": "7da526ad-0e0a-4923-92d9-1da78a6f6e7d"
      },
      "execution_count": 23,
      "outputs": [
        {
          "output_type": "error",
          "ename": "IndexError",
          "evalue": "index 3 is out of bounds for axis 0 with size 3",
          "traceback": [
            "\u001b[0;31m---------------------------------------------------------------------------\u001b[0m",
            "\u001b[0;31mIndexError\u001b[0m                                Traceback (most recent call last)",
            "\u001b[0;32m<ipython-input-23-d56160543405>\u001b[0m in \u001b[0;36m<cell line: 0>\u001b[0;34m()\u001b[0m\n\u001b[1;32m      1\u001b[0m \u001b[0;31m# out of bounds... throws an error\u001b[0m\u001b[0;34m\u001b[0m\u001b[0;34m\u001b[0m\u001b[0m\n\u001b[0;32m----> 2\u001b[0;31m \u001b[0mx\u001b[0m\u001b[0;34m[\u001b[0m\u001b[0;36m3\u001b[0m\u001b[0;34m]\u001b[0m\u001b[0;34m\u001b[0m\u001b[0;34m\u001b[0m\u001b[0m\n\u001b[0m",
            "\u001b[0;31mIndexError\u001b[0m: index 3 is out of bounds for axis 0 with size 3"
          ]
        }
      ]
    },
    {
      "cell_type": "markdown",
      "metadata": {
        "id": "NiEofCzYZBrQ"
      },
      "source": [
        "### Vector Transposition"
      ]
    },
    {
      "cell_type": "code",
      "metadata": {
        "id": "hxGFNDx6V95l",
        "colab": {
          "base_uri": "https://localhost:8080/"
        },
        "outputId": "0ae89285-ca09-46bf-8090-d6eaff66e71f"
      },
      "source": [
        "# Transposing a regular 1-D array has no effect...\n",
        "x_t = x.T\n",
        "x_t"
      ],
      "execution_count": 24,
      "outputs": [
        {
          "output_type": "execute_result",
          "data": {
            "text/plain": [
              "array([25,  2,  5])"
            ]
          },
          "metadata": {},
          "execution_count": 24
        }
      ]
    },
    {
      "cell_type": "code",
      "metadata": {
        "id": "_f8E9ExDWw4p",
        "colab": {
          "base_uri": "https://localhost:8080/"
        },
        "outputId": "81075f1d-5ede-43bc-bf5f-5acaa49ad0cc"
      },
      "source": [
        "x_t.shape"
      ],
      "execution_count": 25,
      "outputs": [
        {
          "output_type": "execute_result",
          "data": {
            "text/plain": [
              "(3,)"
            ]
          },
          "metadata": {},
          "execution_count": 25
        }
      ]
    },
    {
      "cell_type": "code",
      "metadata": {
        "id": "AEd8jB7YcgtT",
        "colab": {
          "base_uri": "https://localhost:8080/"
        },
        "outputId": "94514a8a-a5fd-4b10-dfa6-33859b391836"
      },
      "source": [
        "# ...but it does we use nested \"matrix-style\" brackets:\n",
        "y = np.array([[25, 2, 5]])\n",
        "y"
      ],
      "execution_count": 26,
      "outputs": [
        {
          "output_type": "execute_result",
          "data": {
            "text/plain": [
              "array([[25,  2,  5]])"
            ]
          },
          "metadata": {},
          "execution_count": 26
        }
      ]
    },
    {
      "cell_type": "code",
      "metadata": {
        "id": "UHQd92oRcgtV",
        "colab": {
          "base_uri": "https://localhost:8080/"
        },
        "outputId": "eacb5a3b-b071-4b0e-a030-c23fac8a7a26"
      },
      "source": [
        "y.shape"
      ],
      "execution_count": 27,
      "outputs": [
        {
          "output_type": "execute_result",
          "data": {
            "text/plain": [
              "(1, 3)"
            ]
          },
          "metadata": {},
          "execution_count": 27
        }
      ]
    },
    {
      "cell_type": "code",
      "source": [
        "# count the number of opening brackets, that is how many dimensions it is. This is a 2d array as it has two surrounding brackets [[]]\n",
        "# a 2d array is a matrix\n",
        "y"
      ],
      "metadata": {
        "colab": {
          "base_uri": "https://localhost:8080/"
        },
        "id": "6mgY3WriGCZP",
        "outputId": "cfc747cd-e9b6-4d30-adfd-fd1e30f397fd"
      },
      "execution_count": 28,
      "outputs": [
        {
          "output_type": "execute_result",
          "data": {
            "text/plain": [
              "array([[25,  2,  5]])"
            ]
          },
          "metadata": {},
          "execution_count": 28
        }
      ]
    },
    {
      "cell_type": "code",
      "source": [
        "y[0, 1]"
      ],
      "metadata": {
        "colab": {
          "base_uri": "https://localhost:8080/"
        },
        "id": "2wACThVbF5-u",
        "outputId": "8edd6932-d247-4390-a107-f9400e3fb55f"
      },
      "execution_count": 29,
      "outputs": [
        {
          "output_type": "execute_result",
          "data": {
            "text/plain": [
              "np.int64(2)"
            ]
          },
          "metadata": {},
          "execution_count": 29
        }
      ]
    },
    {
      "cell_type": "code",
      "metadata": {
        "id": "SPi1JqGEXXUc",
        "colab": {
          "base_uri": "https://localhost:8080/"
        },
        "outputId": "983d5a4f-90eb-4995-c4b7-d8b6e476c6be"
      },
      "source": [
        "# ...but can transpose a matrix with a dimension of length 1, which is mathematically equivalent:\n",
        "y_t = y.T\n",
        "y_t"
      ],
      "execution_count": 30,
      "outputs": [
        {
          "output_type": "execute_result",
          "data": {
            "text/plain": [
              "array([[25],\n",
              "       [ 2],\n",
              "       [ 5]])"
            ]
          },
          "metadata": {},
          "execution_count": 30
        }
      ]
    },
    {
      "cell_type": "code",
      "metadata": {
        "id": "6rzUv762Yjis",
        "colab": {
          "base_uri": "https://localhost:8080/"
        },
        "outputId": "383e35cc-e1ec-4f84-d6af-8f9e732cd044"
      },
      "source": [
        "y_t.shape # this is a column vector as it has 3 rows and 1 column"
      ],
      "execution_count": 31,
      "outputs": [
        {
          "output_type": "execute_result",
          "data": {
            "text/plain": [
              "(3, 1)"
            ]
          },
          "metadata": {},
          "execution_count": 31
        }
      ]
    },
    {
      "cell_type": "code",
      "metadata": {
        "id": "xVnQMLOrYtra",
        "colab": {
          "base_uri": "https://localhost:8080/"
        },
        "outputId": "89fe15b3-0d14-4d3e-a78b-8384aad4f7d2"
      },
      "source": [
        "# Column vector can be transposed back to original row vector:\n",
        "y_t.T"
      ],
      "execution_count": 32,
      "outputs": [
        {
          "output_type": "execute_result",
          "data": {
            "text/plain": [
              "array([[25,  2,  5]])"
            ]
          },
          "metadata": {},
          "execution_count": 32
        }
      ]
    },
    {
      "cell_type": "code",
      "metadata": {
        "id": "QIAA2NLRZIXC",
        "colab": {
          "base_uri": "https://localhost:8080/"
        },
        "outputId": "434f25b4-5c0d-48bc-d970-46c842d18208"
      },
      "source": [
        "y_t.T.shape"
      ],
      "execution_count": 33,
      "outputs": [
        {
          "output_type": "execute_result",
          "data": {
            "text/plain": [
              "(1, 3)"
            ]
          },
          "metadata": {},
          "execution_count": 33
        }
      ]
    },
    {
      "cell_type": "markdown",
      "metadata": {
        "id": "Voj26mSpZLuh"
      },
      "source": [
        "### Zero Vectors\n",
        "\n",
        "Have no effect if added to another vector"
      ]
    },
    {
      "cell_type": "code",
      "metadata": {
        "id": "-46AbOdkZVn_",
        "colab": {
          "base_uri": "https://localhost:8080/"
        },
        "outputId": "a30b92aa-e155-4903-f818-9e6151a34df4"
      },
      "source": [
        "z = np.zeros(3)\n",
        "z"
      ],
      "execution_count": 34,
      "outputs": [
        {
          "output_type": "execute_result",
          "data": {
            "text/plain": [
              "array([0., 0., 0.])"
            ]
          },
          "metadata": {},
          "execution_count": 34
        }
      ]
    },
    {
      "cell_type": "markdown",
      "metadata": {
        "id": "c6xyYiwSnSGC"
      },
      "source": [
        "### Vectors in PyTorch and TensorFlow"
      ]
    },
    {
      "cell_type": "code",
      "metadata": {
        "id": "s2TGDeqXnitZ"
      },
      "source": [
        "x_pt = torch.tensor([25, 2, 5])\n",
        "x_pt"
      ],
      "execution_count": null,
      "outputs": []
    },
    {
      "cell_type": "code",
      "metadata": {
        "id": "-0jbHgc5iijG",
        "scrolled": true
      },
      "source": [
        "x_tf = tf.Variable([25, 2, 5])\n",
        "x_tf"
      ],
      "execution_count": null,
      "outputs": []
    },
    {
      "cell_type": "markdown",
      "metadata": {
        "id": "rTDDta1Ro4Pf"
      },
      "source": [
        "**Return to slides here.**"
      ]
    },
    {
      "cell_type": "markdown",
      "metadata": {
        "id": "8fU5qVTI6SLD"
      },
      "source": [
        "### $L^2$ Norm"
      ]
    },
    {
      "cell_type": "code",
      "metadata": {
        "id": "lLc2FbGG6SLD",
        "colab": {
          "base_uri": "https://localhost:8080/"
        },
        "outputId": "c49758c7-54be-4923-a61d-ddcd7dde4ee1"
      },
      "source": [
        "x"
      ],
      "execution_count": 36,
      "outputs": [
        {
          "output_type": "execute_result",
          "data": {
            "text/plain": [
              "array([25,  2,  5])"
            ]
          },
          "metadata": {},
          "execution_count": 36
        }
      ]
    },
    {
      "cell_type": "code",
      "metadata": {
        "id": "AN43hsl86SLG",
        "colab": {
          "base_uri": "https://localhost:8080/"
        },
        "outputId": "f03d76dd-3dbc-423c-a1e8-28123ad91d8d"
      },
      "source": [
        "(25**2 + 2**2 + 5**2)**(1/2)"
      ],
      "execution_count": 37,
      "outputs": [
        {
          "output_type": "execute_result",
          "data": {
            "text/plain": [
              "25.573423705088842"
            ]
          },
          "metadata": {},
          "execution_count": 37
        }
      ]
    },
    {
      "cell_type": "code",
      "metadata": {
        "id": "D9CyWo-l6SLI",
        "colab": {
          "base_uri": "https://localhost:8080/"
        },
        "outputId": "5bb448ad-514f-4fd3-86cf-34bd62f16908"
      },
      "source": [
        "np.linalg.norm(x)"
      ],
      "execution_count": 38,
      "outputs": [
        {
          "output_type": "execute_result",
          "data": {
            "text/plain": [
              "np.float64(25.573423705088842)"
            ]
          },
          "metadata": {},
          "execution_count": 38
        }
      ]
    },
    {
      "cell_type": "markdown",
      "metadata": {
        "id": "TNEMRi926SLK"
      },
      "source": [
        "So, if units in this 3-dimensional vector space are meters, then the vector $x$ has a length of 25.6m"
      ]
    },
    {
      "cell_type": "markdown",
      "metadata": {
        "id": "ugQC6k4h6SLK"
      },
      "source": [
        "**Return to slides here.**"
      ]
    },
    {
      "cell_type": "markdown",
      "metadata": {
        "id": "PwiRlMuC6SLK"
      },
      "source": [
        "### $L^1$ Norm"
      ]
    },
    {
      "cell_type": "code",
      "metadata": {
        "id": "lcYKyc5H6SLL",
        "colab": {
          "base_uri": "https://localhost:8080/"
        },
        "outputId": "4068591b-b699-48c2-93e3-6bef85f5c9d3"
      },
      "source": [
        "x"
      ],
      "execution_count": 39,
      "outputs": [
        {
          "output_type": "execute_result",
          "data": {
            "text/plain": [
              "array([25,  2,  5])"
            ]
          },
          "metadata": {},
          "execution_count": 39
        }
      ]
    },
    {
      "cell_type": "code",
      "metadata": {
        "id": "8jNb6nYl6SLM",
        "colab": {
          "base_uri": "https://localhost:8080/"
        },
        "outputId": "dd6b8f2f-b44a-4e83-e292-a1db8270b08d"
      },
      "source": [
        "np.abs(25) + np.abs(2) + np.abs(5)"
      ],
      "execution_count": 40,
      "outputs": [
        {
          "output_type": "execute_result",
          "data": {
            "text/plain": [
              "np.int64(32)"
            ]
          },
          "metadata": {},
          "execution_count": 40
        }
      ]
    },
    {
      "cell_type": "markdown",
      "metadata": {
        "id": "WTPz0EBSAVee"
      },
      "source": [
        "**Return to slides here.**"
      ]
    },
    {
      "cell_type": "markdown",
      "metadata": {
        "id": "lQP73B916SLP"
      },
      "source": [
        "### Squared $L^2$ Norm"
      ]
    },
    {
      "cell_type": "code",
      "metadata": {
        "id": "Qv1ouJ8r6SLP",
        "colab": {
          "base_uri": "https://localhost:8080/"
        },
        "outputId": "fbf3c95a-50b1-4a0d-fe99-40b3a89e386b"
      },
      "source": [
        "x"
      ],
      "execution_count": 41,
      "outputs": [
        {
          "output_type": "execute_result",
          "data": {
            "text/plain": [
              "array([25,  2,  5])"
            ]
          },
          "metadata": {},
          "execution_count": 41
        }
      ]
    },
    {
      "cell_type": "code",
      "metadata": {
        "id": "eG3WSB5R6SLT",
        "colab": {
          "base_uri": "https://localhost:8080/"
        },
        "outputId": "1a7a1ae5-0d98-41bd-b849-a45c7fdd6c77"
      },
      "source": [
        "(25**2 + 2**2 + 5**2)"
      ],
      "execution_count": 42,
      "outputs": [
        {
          "output_type": "execute_result",
          "data": {
            "text/plain": [
              "654"
            ]
          },
          "metadata": {},
          "execution_count": 42
        }
      ]
    },
    {
      "cell_type": "code",
      "source": [
        "x, y"
      ],
      "metadata": {
        "colab": {
          "base_uri": "https://localhost:8080/"
        },
        "id": "DvEuuBRhN0L_",
        "outputId": "e934828b-7001-4f46-d911-21ed867eb1c2"
      },
      "execution_count": 43,
      "outputs": [
        {
          "output_type": "execute_result",
          "data": {
            "text/plain": [
              "(array([25,  2,  5]), array([[25,  2,  5]]))"
            ]
          },
          "metadata": {},
          "execution_count": 43
        }
      ]
    },
    {
      "cell_type": "code",
      "metadata": {
        "id": "bXwzSudS6SLV",
        "colab": {
          "base_uri": "https://localhost:8080/"
        },
        "outputId": "67cbaab8-0fda-4bfa-ed93-f0f098a365b1"
      },
      "source": [
        "# we'll cover tensor multiplication more soon but to prove point quickly:\n",
        "np.dot(x, x)"
      ],
      "execution_count": 44,
      "outputs": [
        {
          "output_type": "execute_result",
          "data": {
            "text/plain": [
              "np.int64(654)"
            ]
          },
          "metadata": {},
          "execution_count": 44
        }
      ]
    },
    {
      "cell_type": "markdown",
      "source": [
        "Comparison of the two"
      ],
      "metadata": {
        "id": "F6B582tPDzZ8"
      }
    },
    {
      "cell_type": "code",
      "source": [
        "import matplotlib.pyplot as plt\n",
        "\n",
        "# Define two sets of points\n",
        "set_A = np.array([1, 2, 3])      # Normal set\n",
        "set_B = np.array([1, 2, 100])    # Set with an outlier\n",
        "\n",
        "# Compute L1 and L2 norms\n",
        "l1_A = np.sum(np.abs(set_A))\n",
        "l1_B = np.sum(np.abs(set_B))\n",
        "\n",
        "l2_A = np.sqrt(np.sum(set_A**2))\n",
        "l2_B = np.sqrt(np.sum(set_B**2))\n",
        "\n",
        "# Create a bar chart to compare norms\n",
        "labels = ['L1 Norm (Set A)', 'L1 Norm (Set B)', 'L2 Norm (Set A)', 'L2 Norm (Set B)']\n",
        "values = [l1_A, l1_B, l2_A, l2_B]\n",
        "\n",
        "plt.figure(figsize=(8, 5))\n",
        "plt.bar(labels, values, color=['blue', 'red', 'blue', 'red'])\n",
        "plt.ylabel('Norm Value')\n",
        "plt.title('Effect of Outlier on L1 vs. L2 Norms')\n",
        "plt.xticks(rotation=45)\n",
        "plt.show()"
      ],
      "metadata": {
        "id": "nJsdEvyWDyTk",
        "outputId": "cee4f48e-db34-47ee-c18b-4d5b0b5d3ff3",
        "colab": {
          "base_uri": "https://localhost:8080/",
          "height": 542
        }
      },
      "execution_count": 46,
      "outputs": [
        {
          "output_type": "display_data",
          "data": {
            "text/plain": [
              "<Figure size 800x500 with 1 Axes>"
            ],
            "image/png": "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\n"
          },
          "metadata": {}
        }
      ]
    },
    {
      "cell_type": "markdown",
      "metadata": {
        "id": "q3CIH9ba6SLX"
      },
      "source": [
        "**Return to slides here.**"
      ]
    },
    {
      "cell_type": "markdown",
      "metadata": {
        "id": "BHWxVPFC6SLX"
      },
      "source": [
        "### Max Norm"
      ]
    },
    {
      "cell_type": "code",
      "metadata": {
        "id": "vO-zfvDG6SLX",
        "colab": {
          "base_uri": "https://localhost:8080/"
        },
        "outputId": "96189583-6cfb-40a8-b18d-4bc1a4293fad"
      },
      "source": [
        "x"
      ],
      "execution_count": 47,
      "outputs": [
        {
          "output_type": "execute_result",
          "data": {
            "text/plain": [
              "array([25,  2,  5])"
            ]
          },
          "metadata": {},
          "execution_count": 47
        }
      ]
    },
    {
      "cell_type": "code",
      "metadata": {
        "id": "vXXLgbyW6SLZ",
        "colab": {
          "base_uri": "https://localhost:8080/"
        },
        "outputId": "843254d0-f327-417f-9348-353cc5ab56df"
      },
      "source": [
        "np.max([np.abs(25), np.abs(2), np.abs(5)])"
      ],
      "execution_count": 48,
      "outputs": [
        {
          "output_type": "execute_result",
          "data": {
            "text/plain": [
              "np.int64(25)"
            ]
          },
          "metadata": {},
          "execution_count": 48
        }
      ]
    },
    {
      "cell_type": "markdown",
      "metadata": {
        "id": "3MVTsXA8nNR0"
      },
      "source": [
        "**Return to slides here.**"
      ]
    },
    {
      "cell_type": "markdown",
      "metadata": {
        "id": "JzKlIpYZcgt9"
      },
      "source": [
        "### Orthogonal Vectors"
      ]
    },
    {
      "cell_type": "code",
      "metadata": {
        "id": "4jHg9La-cgt9",
        "colab": {
          "base_uri": "https://localhost:8080/"
        },
        "outputId": "0ec96e5e-d3b1-4241-b37c-a5d58b2a8fed"
      },
      "source": [
        "i = np.array([1, 0])\n",
        "i"
      ],
      "execution_count": 49,
      "outputs": [
        {
          "output_type": "execute_result",
          "data": {
            "text/plain": [
              "array([1, 0])"
            ]
          },
          "metadata": {},
          "execution_count": 49
        }
      ]
    },
    {
      "cell_type": "code",
      "metadata": {
        "id": "3FyLhPK3cguA",
        "colab": {
          "base_uri": "https://localhost:8080/"
        },
        "outputId": "52f63732-243c-45ac-be5f-d2b2a92138fb"
      },
      "source": [
        "j = np.array([0, 1])\n",
        "j"
      ],
      "execution_count": 50,
      "outputs": [
        {
          "output_type": "execute_result",
          "data": {
            "text/plain": [
              "array([0, 1])"
            ]
          },
          "metadata": {},
          "execution_count": 50
        }
      ]
    },
    {
      "cell_type": "code",
      "metadata": {
        "id": "7eQtKhaDcguC",
        "scrolled": false,
        "colab": {
          "base_uri": "https://localhost:8080/"
        },
        "outputId": "5586a012-f6ca-4bf4-ca5e-a8f04bc070ba"
      },
      "source": [
        "np.dot(i, j) # detail on the dot operation coming up..."
      ],
      "execution_count": 51,
      "outputs": [
        {
          "output_type": "execute_result",
          "data": {
            "text/plain": [
              "np.int64(0)"
            ]
          },
          "metadata": {},
          "execution_count": 51
        }
      ]
    },
    {
      "cell_type": "code",
      "source": [
        " # transform of a 1d array is itself\n",
        " i; j=i.T\n",
        " i,j"
      ],
      "metadata": {
        "id": "DoJ9JGGYM4e1",
        "outputId": "a6cccf2d-b61f-47c8-e9e9-734c15177af9",
        "colab": {
          "base_uri": "https://localhost:8080/"
        }
      },
      "execution_count": 58,
      "outputs": [
        {
          "output_type": "execute_result",
          "data": {
            "text/plain": [
              "(array([1, 0]), array([1, 0]))"
            ]
          },
          "metadata": {},
          "execution_count": 58
        }
      ]
    },
    {
      "cell_type": "markdown",
      "metadata": {
        "id": "C6eMVPu4nNR7"
      },
      "source": [
        "**Return to slides here.**"
      ]
    },
    {
      "cell_type": "markdown",
      "metadata": {
        "id": "mK3AZH53o8Br"
      },
      "source": [
        "### Matrices (Rank 2 Tensors) in NumPy"
      ]
    },
    {
      "cell_type": "code",
      "metadata": {
        "id": "stk57cmaESW1",
        "colab": {
          "base_uri": "https://localhost:8080/"
        },
        "outputId": "f20fd67a-c974-4069-a2ca-d4664e7cfb5a"
      },
      "source": [
        "# Use array() with nested brackets:\n",
        "X = np.array([[25, 2], [5, 26], [3, 7]])\n",
        "X"
      ],
      "execution_count": 59,
      "outputs": [
        {
          "output_type": "execute_result",
          "data": {
            "text/plain": [
              "array([[25,  2],\n",
              "       [ 5, 26],\n",
              "       [ 3,  7]])"
            ]
          },
          "metadata": {},
          "execution_count": 59
        }
      ]
    },
    {
      "cell_type": "code",
      "metadata": {
        "id": "IhDL4L8S6SLc",
        "colab": {
          "base_uri": "https://localhost:8080/"
        },
        "outputId": "51b6e2c3-5942-4dee-be0d-2ad065b2678f"
      },
      "source": [
        "X.shape"
      ],
      "execution_count": 60,
      "outputs": [
        {
          "output_type": "execute_result",
          "data": {
            "text/plain": [
              "(3, 2)"
            ]
          },
          "metadata": {},
          "execution_count": 60
        }
      ]
    },
    {
      "cell_type": "code",
      "metadata": {
        "id": "q3oyaAK36SLe",
        "colab": {
          "base_uri": "https://localhost:8080/"
        },
        "outputId": "0d66ea8e-fee8-4eed-b384-4a7f0e8e8856"
      },
      "source": [
        "X.size"
      ],
      "execution_count": 61,
      "outputs": [
        {
          "output_type": "execute_result",
          "data": {
            "text/plain": [
              "6"
            ]
          },
          "metadata": {},
          "execution_count": 61
        }
      ]
    },
    {
      "cell_type": "code",
      "metadata": {
        "id": "YN9CHzja6SLg",
        "colab": {
          "base_uri": "https://localhost:8080/"
        },
        "outputId": "dc0669b4-67ec-4d29-df71-6db9b65863c6"
      },
      "source": [
        "# Select left column of matrix X (zero-indexed)\n",
        "X[:,0]"
      ],
      "execution_count": 62,
      "outputs": [
        {
          "output_type": "execute_result",
          "data": {
            "text/plain": [
              "array([25,  5,  3])"
            ]
          },
          "metadata": {},
          "execution_count": 62
        }
      ]
    },
    {
      "cell_type": "code",
      "metadata": {
        "id": "ih7nh4qC6SLi",
        "colab": {
          "base_uri": "https://localhost:8080/"
        },
        "outputId": "37c32e57-d060-48b9-84ba-74baa7a607d0"
      },
      "source": [
        "# Select middle row of matrix X:\n",
        "X[1,:]"
      ],
      "execution_count": 63,
      "outputs": [
        {
          "output_type": "execute_result",
          "data": {
            "text/plain": [
              "array([ 5, 26])"
            ]
          },
          "metadata": {},
          "execution_count": 63
        }
      ]
    },
    {
      "cell_type": "code",
      "metadata": {
        "id": "pg7numxP6SLl",
        "colab": {
          "base_uri": "https://localhost:8080/"
        },
        "outputId": "e80be99f-33c3-458f-d175-5bfd64b0e6ca"
      },
      "source": [
        "# Another slicing-by-index example:\n",
        "X[0:2, 0:2]"
      ],
      "execution_count": 66,
      "outputs": [
        {
          "output_type": "execute_result",
          "data": {
            "text/plain": [
              "array([[25,  2],\n",
              "       [ 5, 26]])"
            ]
          },
          "metadata": {},
          "execution_count": 66
        }
      ]
    },
    {
      "cell_type": "markdown",
      "metadata": {
        "id": "HGEfZiBb6SLt"
      },
      "source": [
        "### Matrices in PyTorch"
      ]
    },
    {
      "cell_type": "code",
      "metadata": {
        "id": "-bibT9ye6SLt"
      },
      "source": [
        "X_pt = torch.tensor([[25, 2], [5, 26], [3, 7]])\n",
        "X_pt"
      ],
      "execution_count": null,
      "outputs": []
    },
    {
      "cell_type": "code",
      "metadata": {
        "id": "TBPu1L7P6SLv"
      },
      "source": [
        "X_pt.shape # pythonic relative to TensorFlow"
      ],
      "execution_count": null,
      "outputs": []
    },
    {
      "cell_type": "code",
      "metadata": {
        "id": "4mTj56M16SLw"
      },
      "source": [
        "X_pt[1,:] # N.B.: Python is zero-indexed; written algebra is one-indexed"
      ],
      "execution_count": null,
      "outputs": []
    },
    {
      "cell_type": "markdown",
      "metadata": {
        "id": "E026fQlD6SLn"
      },
      "source": [
        "### Matrices in TensorFlow"
      ]
    },
    {
      "cell_type": "code",
      "metadata": {
        "id": "1gtGH6oA6SLn"
      },
      "source": [
        "X_tf = tf.Variable([[25, 2], [5, 26], [3, 7]])\n",
        "X_tf"
      ],
      "execution_count": null,
      "outputs": []
    },
    {
      "cell_type": "code",
      "metadata": {
        "id": "4CV_KiTP6SLp"
      },
      "source": [
        "tf.rank(X_tf)"
      ],
      "execution_count": null,
      "outputs": []
    },
    {
      "cell_type": "code",
      "metadata": {
        "id": "vUsce8tC6SLq"
      },
      "source": [
        "tf.shape(X_tf)"
      ],
      "execution_count": null,
      "outputs": []
    },
    {
      "cell_type": "code",
      "metadata": {
        "id": "QNpfvNPj6SLr"
      },
      "source": [
        "X_tf[1,:]"
      ],
      "execution_count": null,
      "outputs": []
    },
    {
      "cell_type": "markdown",
      "metadata": {
        "id": "CodS4evY6SLy"
      },
      "source": [
        "**Return to slides here.**"
      ]
    },
    {
      "cell_type": "markdown",
      "metadata": {
        "id": "cMpfujF_6SLy"
      },
      "source": [
        "### Higher-Rank Tensors\n",
        "\n",
        "As an example, rank 4 tensors are common for images, where each dimension corresponds to:\n",
        "\n",
        "1. Number of images in training batch, e.g., 32\n",
        "2. Image height in pixels, e.g., 28 for [MNIST digits](http://yann.lecun.com/exdb/mnist/)\n",
        "3. Image width in pixels, e.g., 28\n",
        "4. Number of color channels, e.g., 3 for full-color images (RGB)"
      ]
    },
    {
      "cell_type": "code",
      "metadata": {
        "id": "KSZlICRR6SL1"
      },
      "source": [
        "images_pt = torch.zeros([32, 28, 28, 3])"
      ],
      "execution_count": null,
      "outputs": []
    },
    {
      "cell_type": "code",
      "metadata": {
        "id": "6Dqj0vmh6SL2"
      },
      "source": [
        "# images_pt"
      ],
      "execution_count": null,
      "outputs": []
    },
    {
      "cell_type": "code",
      "metadata": {
        "id": "7TASTVD96SLy"
      },
      "source": [
        "images_tf = tf.zeros([32, 28, 28, 3])"
      ],
      "execution_count": null,
      "outputs": []
    },
    {
      "cell_type": "code",
      "metadata": {
        "id": "ftOliyru6SL0"
      },
      "source": [
        "# images_tf"
      ],
      "execution_count": null,
      "outputs": []
    },
    {
      "cell_type": "markdown",
      "source": [
        "# in numpy\n"
      ],
      "metadata": {
        "id": "uHk1B8hjO0s3"
      }
    },
    {
      "cell_type": "code",
      "source": [
        "images_np = np.zeros([32, 28, 28, 3])\n",
        "images_np"
      ],
      "metadata": {
        "id": "PBbOWmFzO6e9",
        "outputId": "2606dcb9-fd92-4c6d-f8a2-d40e61f39d04",
        "colab": {
          "base_uri": "https://localhost:8080/"
        }
      },
      "execution_count": 68,
      "outputs": [
        {
          "output_type": "execute_result",
          "data": {
            "text/plain": [
              "array([[[[0., 0., 0.],\n",
              "         [0., 0., 0.],\n",
              "         [0., 0., 0.],\n",
              "         ...,\n",
              "         [0., 0., 0.],\n",
              "         [0., 0., 0.],\n",
              "         [0., 0., 0.]],\n",
              "\n",
              "        [[0., 0., 0.],\n",
              "         [0., 0., 0.],\n",
              "         [0., 0., 0.],\n",
              "         ...,\n",
              "         [0., 0., 0.],\n",
              "         [0., 0., 0.],\n",
              "         [0., 0., 0.]],\n",
              "\n",
              "        [[0., 0., 0.],\n",
              "         [0., 0., 0.],\n",
              "         [0., 0., 0.],\n",
              "         ...,\n",
              "         [0., 0., 0.],\n",
              "         [0., 0., 0.],\n",
              "         [0., 0., 0.]],\n",
              "\n",
              "        ...,\n",
              "\n",
              "        [[0., 0., 0.],\n",
              "         [0., 0., 0.],\n",
              "         [0., 0., 0.],\n",
              "         ...,\n",
              "         [0., 0., 0.],\n",
              "         [0., 0., 0.],\n",
              "         [0., 0., 0.]],\n",
              "\n",
              "        [[0., 0., 0.],\n",
              "         [0., 0., 0.],\n",
              "         [0., 0., 0.],\n",
              "         ...,\n",
              "         [0., 0., 0.],\n",
              "         [0., 0., 0.],\n",
              "         [0., 0., 0.]],\n",
              "\n",
              "        [[0., 0., 0.],\n",
              "         [0., 0., 0.],\n",
              "         [0., 0., 0.],\n",
              "         ...,\n",
              "         [0., 0., 0.],\n",
              "         [0., 0., 0.],\n",
              "         [0., 0., 0.]]],\n",
              "\n",
              "\n",
              "       [[[0., 0., 0.],\n",
              "         [0., 0., 0.],\n",
              "         [0., 0., 0.],\n",
              "         ...,\n",
              "         [0., 0., 0.],\n",
              "         [0., 0., 0.],\n",
              "         [0., 0., 0.]],\n",
              "\n",
              "        [[0., 0., 0.],\n",
              "         [0., 0., 0.],\n",
              "         [0., 0., 0.],\n",
              "         ...,\n",
              "         [0., 0., 0.],\n",
              "         [0., 0., 0.],\n",
              "         [0., 0., 0.]],\n",
              "\n",
              "        [[0., 0., 0.],\n",
              "         [0., 0., 0.],\n",
              "         [0., 0., 0.],\n",
              "         ...,\n",
              "         [0., 0., 0.],\n",
              "         [0., 0., 0.],\n",
              "         [0., 0., 0.]],\n",
              "\n",
              "        ...,\n",
              "\n",
              "        [[0., 0., 0.],\n",
              "         [0., 0., 0.],\n",
              "         [0., 0., 0.],\n",
              "         ...,\n",
              "         [0., 0., 0.],\n",
              "         [0., 0., 0.],\n",
              "         [0., 0., 0.]],\n",
              "\n",
              "        [[0., 0., 0.],\n",
              "         [0., 0., 0.],\n",
              "         [0., 0., 0.],\n",
              "         ...,\n",
              "         [0., 0., 0.],\n",
              "         [0., 0., 0.],\n",
              "         [0., 0., 0.]],\n",
              "\n",
              "        [[0., 0., 0.],\n",
              "         [0., 0., 0.],\n",
              "         [0., 0., 0.],\n",
              "         ...,\n",
              "         [0., 0., 0.],\n",
              "         [0., 0., 0.],\n",
              "         [0., 0., 0.]]],\n",
              "\n",
              "\n",
              "       [[[0., 0., 0.],\n",
              "         [0., 0., 0.],\n",
              "         [0., 0., 0.],\n",
              "         ...,\n",
              "         [0., 0., 0.],\n",
              "         [0., 0., 0.],\n",
              "         [0., 0., 0.]],\n",
              "\n",
              "        [[0., 0., 0.],\n",
              "         [0., 0., 0.],\n",
              "         [0., 0., 0.],\n",
              "         ...,\n",
              "         [0., 0., 0.],\n",
              "         [0., 0., 0.],\n",
              "         [0., 0., 0.]],\n",
              "\n",
              "        [[0., 0., 0.],\n",
              "         [0., 0., 0.],\n",
              "         [0., 0., 0.],\n",
              "         ...,\n",
              "         [0., 0., 0.],\n",
              "         [0., 0., 0.],\n",
              "         [0., 0., 0.]],\n",
              "\n",
              "        ...,\n",
              "\n",
              "        [[0., 0., 0.],\n",
              "         [0., 0., 0.],\n",
              "         [0., 0., 0.],\n",
              "         ...,\n",
              "         [0., 0., 0.],\n",
              "         [0., 0., 0.],\n",
              "         [0., 0., 0.]],\n",
              "\n",
              "        [[0., 0., 0.],\n",
              "         [0., 0., 0.],\n",
              "         [0., 0., 0.],\n",
              "         ...,\n",
              "         [0., 0., 0.],\n",
              "         [0., 0., 0.],\n",
              "         [0., 0., 0.]],\n",
              "\n",
              "        [[0., 0., 0.],\n",
              "         [0., 0., 0.],\n",
              "         [0., 0., 0.],\n",
              "         ...,\n",
              "         [0., 0., 0.],\n",
              "         [0., 0., 0.],\n",
              "         [0., 0., 0.]]],\n",
              "\n",
              "\n",
              "       ...,\n",
              "\n",
              "\n",
              "       [[[0., 0., 0.],\n",
              "         [0., 0., 0.],\n",
              "         [0., 0., 0.],\n",
              "         ...,\n",
              "         [0., 0., 0.],\n",
              "         [0., 0., 0.],\n",
              "         [0., 0., 0.]],\n",
              "\n",
              "        [[0., 0., 0.],\n",
              "         [0., 0., 0.],\n",
              "         [0., 0., 0.],\n",
              "         ...,\n",
              "         [0., 0., 0.],\n",
              "         [0., 0., 0.],\n",
              "         [0., 0., 0.]],\n",
              "\n",
              "        [[0., 0., 0.],\n",
              "         [0., 0., 0.],\n",
              "         [0., 0., 0.],\n",
              "         ...,\n",
              "         [0., 0., 0.],\n",
              "         [0., 0., 0.],\n",
              "         [0., 0., 0.]],\n",
              "\n",
              "        ...,\n",
              "\n",
              "        [[0., 0., 0.],\n",
              "         [0., 0., 0.],\n",
              "         [0., 0., 0.],\n",
              "         ...,\n",
              "         [0., 0., 0.],\n",
              "         [0., 0., 0.],\n",
              "         [0., 0., 0.]],\n",
              "\n",
              "        [[0., 0., 0.],\n",
              "         [0., 0., 0.],\n",
              "         [0., 0., 0.],\n",
              "         ...,\n",
              "         [0., 0., 0.],\n",
              "         [0., 0., 0.],\n",
              "         [0., 0., 0.]],\n",
              "\n",
              "        [[0., 0., 0.],\n",
              "         [0., 0., 0.],\n",
              "         [0., 0., 0.],\n",
              "         ...,\n",
              "         [0., 0., 0.],\n",
              "         [0., 0., 0.],\n",
              "         [0., 0., 0.]]],\n",
              "\n",
              "\n",
              "       [[[0., 0., 0.],\n",
              "         [0., 0., 0.],\n",
              "         [0., 0., 0.],\n",
              "         ...,\n",
              "         [0., 0., 0.],\n",
              "         [0., 0., 0.],\n",
              "         [0., 0., 0.]],\n",
              "\n",
              "        [[0., 0., 0.],\n",
              "         [0., 0., 0.],\n",
              "         [0., 0., 0.],\n",
              "         ...,\n",
              "         [0., 0., 0.],\n",
              "         [0., 0., 0.],\n",
              "         [0., 0., 0.]],\n",
              "\n",
              "        [[0., 0., 0.],\n",
              "         [0., 0., 0.],\n",
              "         [0., 0., 0.],\n",
              "         ...,\n",
              "         [0., 0., 0.],\n",
              "         [0., 0., 0.],\n",
              "         [0., 0., 0.]],\n",
              "\n",
              "        ...,\n",
              "\n",
              "        [[0., 0., 0.],\n",
              "         [0., 0., 0.],\n",
              "         [0., 0., 0.],\n",
              "         ...,\n",
              "         [0., 0., 0.],\n",
              "         [0., 0., 0.],\n",
              "         [0., 0., 0.]],\n",
              "\n",
              "        [[0., 0., 0.],\n",
              "         [0., 0., 0.],\n",
              "         [0., 0., 0.],\n",
              "         ...,\n",
              "         [0., 0., 0.],\n",
              "         [0., 0., 0.],\n",
              "         [0., 0., 0.]],\n",
              "\n",
              "        [[0., 0., 0.],\n",
              "         [0., 0., 0.],\n",
              "         [0., 0., 0.],\n",
              "         ...,\n",
              "         [0., 0., 0.],\n",
              "         [0., 0., 0.],\n",
              "         [0., 0., 0.]]],\n",
              "\n",
              "\n",
              "       [[[0., 0., 0.],\n",
              "         [0., 0., 0.],\n",
              "         [0., 0., 0.],\n",
              "         ...,\n",
              "         [0., 0., 0.],\n",
              "         [0., 0., 0.],\n",
              "         [0., 0., 0.]],\n",
              "\n",
              "        [[0., 0., 0.],\n",
              "         [0., 0., 0.],\n",
              "         [0., 0., 0.],\n",
              "         ...,\n",
              "         [0., 0., 0.],\n",
              "         [0., 0., 0.],\n",
              "         [0., 0., 0.]],\n",
              "\n",
              "        [[0., 0., 0.],\n",
              "         [0., 0., 0.],\n",
              "         [0., 0., 0.],\n",
              "         ...,\n",
              "         [0., 0., 0.],\n",
              "         [0., 0., 0.],\n",
              "         [0., 0., 0.]],\n",
              "\n",
              "        ...,\n",
              "\n",
              "        [[0., 0., 0.],\n",
              "         [0., 0., 0.],\n",
              "         [0., 0., 0.],\n",
              "         ...,\n",
              "         [0., 0., 0.],\n",
              "         [0., 0., 0.],\n",
              "         [0., 0., 0.]],\n",
              "\n",
              "        [[0., 0., 0.],\n",
              "         [0., 0., 0.],\n",
              "         [0., 0., 0.],\n",
              "         ...,\n",
              "         [0., 0., 0.],\n",
              "         [0., 0., 0.],\n",
              "         [0., 0., 0.]],\n",
              "\n",
              "        [[0., 0., 0.],\n",
              "         [0., 0., 0.],\n",
              "         [0., 0., 0.],\n",
              "         ...,\n",
              "         [0., 0., 0.],\n",
              "         [0., 0., 0.],\n",
              "         [0., 0., 0.]]]])"
            ]
          },
          "metadata": {},
          "execution_count": 68
        }
      ]
    },
    {
      "cell_type": "markdown",
      "metadata": {
        "id": "O3sgkdXZ6SL3"
      },
      "source": [
        "**Return to slides here.**"
      ]
    },
    {
      "cell_type": "markdown",
      "metadata": {
        "id": "lmG3LEZK6SL4"
      },
      "source": [
        "## Segment 2: Common Tensor Operations"
      ]
    },
    {
      "cell_type": "markdown",
      "metadata": {
        "id": "iSHGMCxd6SL4"
      },
      "source": [
        "### Tensor Transposition"
      ]
    },
    {
      "cell_type": "code",
      "metadata": {
        "id": "1YN1narR6SL4",
        "colab": {
          "base_uri": "https://localhost:8080/"
        },
        "outputId": "9d814ccd-1afd-44ef-e3e2-e4b2611574c6"
      },
      "source": [
        "X"
      ],
      "execution_count": 69,
      "outputs": [
        {
          "output_type": "execute_result",
          "data": {
            "text/plain": [
              "array([[25,  2],\n",
              "       [ 5, 26],\n",
              "       [ 3,  7]])"
            ]
          },
          "metadata": {},
          "execution_count": 69
        }
      ]
    },
    {
      "cell_type": "code",
      "metadata": {
        "id": "5hf3M_NL6SL5",
        "colab": {
          "base_uri": "https://localhost:8080/"
        },
        "outputId": "2f85b02a-deb3-45b7-d0b6-722ee63d5e1c"
      },
      "source": [
        "X.T"
      ],
      "execution_count": 70,
      "outputs": [
        {
          "output_type": "execute_result",
          "data": {
            "text/plain": [
              "array([[25,  5,  3],\n",
              "       [ 2, 26,  7]])"
            ]
          },
          "metadata": {},
          "execution_count": 70
        }
      ]
    },
    {
      "cell_type": "code",
      "metadata": {
        "id": "vyBFN_4g6SL9"
      },
      "source": [
        "X_pt.T"
      ],
      "execution_count": null,
      "outputs": []
    },
    {
      "cell_type": "code",
      "metadata": {
        "id": "K2DuDJc_6SL6"
      },
      "source": [
        "tf.transpose(X_tf) # less Pythonic"
      ],
      "execution_count": null,
      "outputs": []
    },
    {
      "cell_type": "markdown",
      "metadata": {
        "id": "Hp9P1jx76SL_"
      },
      "source": [
        "### Basic Arithmetical Properties"
      ]
    },
    {
      "cell_type": "markdown",
      "metadata": {
        "id": "WxaImEUc6SMA"
      },
      "source": [
        "Adding or multiplying with scalar applies operation to all elements and tensor shape is retained:"
      ]
    },
    {
      "cell_type": "code",
      "metadata": {
        "id": "yhXGETii6SMA",
        "colab": {
          "base_uri": "https://localhost:8080/"
        },
        "outputId": "94f1d97d-bf97-4ed4-9e42-b69ba707b93e"
      },
      "source": [
        "X*2"
      ],
      "execution_count": 73,
      "outputs": [
        {
          "output_type": "execute_result",
          "data": {
            "text/plain": [
              "array([[50,  4],\n",
              "       [10, 52],\n",
              "       [ 6, 14]])"
            ]
          },
          "metadata": {},
          "execution_count": 73
        }
      ]
    },
    {
      "cell_type": "code",
      "metadata": {
        "id": "KnPULtDO6SMC",
        "colab": {
          "base_uri": "https://localhost:8080/"
        },
        "outputId": "5b81ba5c-bafd-4c09-ebb0-99b9b2319fd4"
      },
      "source": [
        "X+2"
      ],
      "execution_count": 74,
      "outputs": [
        {
          "output_type": "execute_result",
          "data": {
            "text/plain": [
              "array([[27,  4],\n",
              "       [ 7, 28],\n",
              "       [ 5,  9]])"
            ]
          },
          "metadata": {},
          "execution_count": 74
        }
      ]
    },
    {
      "cell_type": "code",
      "metadata": {
        "id": "MkfC0Gsb6SMD",
        "colab": {
          "base_uri": "https://localhost:8080/"
        },
        "outputId": "370153a8-37d2-4d69-e810-9c9a4c303de0"
      },
      "source": [
        "X*2+2"
      ],
      "execution_count": 75,
      "outputs": [
        {
          "output_type": "execute_result",
          "data": {
            "text/plain": [
              "array([[52,  6],\n",
              "       [12, 54],\n",
              "       [ 8, 16]])"
            ]
          },
          "metadata": {},
          "execution_count": 75
        }
      ]
    },
    {
      "cell_type": "code",
      "metadata": {
        "id": "04bIDpGj6SMH"
      },
      "source": [
        "X_pt*2+2 # Python operators are overloaded; could alternatively use torch.mul() or torch.add()"
      ],
      "execution_count": null,
      "outputs": []
    },
    {
      "cell_type": "code",
      "metadata": {
        "id": "2oRBSmRL6SMI"
      },
      "source": [
        "torch.add(torch.mul(X_pt, 2), 2)"
      ],
      "execution_count": null,
      "outputs": []
    },
    {
      "cell_type": "code",
      "metadata": {
        "id": "OMSb9Otd6SMF"
      },
      "source": [
        "X_tf*2+2 # Operators likewise overloaded; could equally use tf.multiply() tf.add()"
      ],
      "execution_count": null,
      "outputs": []
    },
    {
      "cell_type": "code",
      "metadata": {
        "id": "5ya2xZ4u6SMG"
      },
      "source": [
        "tf.add(tf.multiply(X_tf, 2), 2)"
      ],
      "execution_count": null,
      "outputs": []
    },
    {
      "cell_type": "markdown",
      "metadata": {
        "id": "wt8Ls4076SMK"
      },
      "source": [
        "If two tensors have the same size, operations are often by default applied element-wise. This is **not matrix multiplication**, which we'll cover later, but is rather called the **Hadamard product** or simply the **element-wise product**.\n",
        "\n",
        "The mathematical notation is $A \\odot X$"
      ]
    },
    {
      "cell_type": "code",
      "source": [
        "a = np.array([[25,  2], [ 5, 26], [ 3,  7]])\n",
        "b = np.array([[1,  1], [ 2, 2], [ 3,  3]])\n",
        "a, b\n",
        "a+b  # change out the operator -, / , etc"
      ],
      "metadata": {
        "id": "fV7aSpINSir4",
        "outputId": "4401d18f-20ae-4d3d-d7dd-d37747fa7bc0",
        "colab": {
          "base_uri": "https://localhost:8080/"
        }
      },
      "execution_count": 94,
      "outputs": [
        {
          "output_type": "execute_result",
          "data": {
            "text/plain": [
              "array([[26,  3],\n",
              "       [ 7, 28],\n",
              "       [ 6, 10]])"
            ]
          },
          "metadata": {},
          "execution_count": 94
        }
      ]
    },
    {
      "cell_type": "code",
      "metadata": {
        "id": "KUMyU1t46SMK",
        "colab": {
          "base_uri": "https://localhost:8080/"
        },
        "outputId": "86d8025a-4803-463e-cd46-690ee6dc7c88"
      },
      "source": [
        "X"
      ],
      "execution_count": 77,
      "outputs": [
        {
          "output_type": "execute_result",
          "data": {
            "text/plain": [
              "array([[25,  2],\n",
              "       [ 5, 26],\n",
              "       [ 3,  7]])"
            ]
          },
          "metadata": {},
          "execution_count": 77
        }
      ]
    },
    {
      "cell_type": "code",
      "metadata": {
        "id": "UNIbp0P36SML",
        "colab": {
          "base_uri": "https://localhost:8080/"
        },
        "outputId": "04b64f37-1f0b-45ae-d750-2e9344dd8359"
      },
      "source": [
        "A = X+2\n",
        "A"
      ],
      "execution_count": 78,
      "outputs": [
        {
          "output_type": "execute_result",
          "data": {
            "text/plain": [
              "array([[27,  4],\n",
              "       [ 7, 28],\n",
              "       [ 5,  9]])"
            ]
          },
          "metadata": {},
          "execution_count": 78
        }
      ]
    },
    {
      "cell_type": "code",
      "metadata": {
        "id": "HE9xPWPdcgu4",
        "colab": {
          "base_uri": "https://localhost:8080/"
        },
        "outputId": "040b6c63-13cf-4191-f8d0-261292997622"
      },
      "source": [
        "A + X"
      ],
      "execution_count": 79,
      "outputs": [
        {
          "output_type": "execute_result",
          "data": {
            "text/plain": [
              "array([[52,  6],\n",
              "       [12, 54],\n",
              "       [ 8, 16]])"
            ]
          },
          "metadata": {},
          "execution_count": 79
        }
      ]
    },
    {
      "cell_type": "code",
      "metadata": {
        "id": "xKyCwGia6SMP",
        "colab": {
          "base_uri": "https://localhost:8080/"
        },
        "outputId": "96298c4b-c4d8-43e4-dc60-d6948d3c73c9"
      },
      "source": [
        "A * X"
      ],
      "execution_count": 80,
      "outputs": [
        {
          "output_type": "execute_result",
          "data": {
            "text/plain": [
              "array([[675,   8],\n",
              "       [ 35, 728],\n",
              "       [ 15,  63]])"
            ]
          },
          "metadata": {},
          "execution_count": 80
        }
      ]
    },
    {
      "cell_type": "code",
      "metadata": {
        "id": "B5jXGIBp6SMT",
        "colab": {
          "base_uri": "https://localhost:8080/",
          "height": 141
        },
        "outputId": "56aba5b6-037c-474f-9cb8-1c1af63cf760"
      },
      "source": [
        "A_pt = X_pt + 2"
      ],
      "execution_count": 81,
      "outputs": [
        {
          "output_type": "error",
          "ename": "NameError",
          "evalue": "name 'X_pt' is not defined",
          "traceback": [
            "\u001b[0;31m---------------------------------------------------------------------------\u001b[0m",
            "\u001b[0;31mNameError\u001b[0m                                 Traceback (most recent call last)",
            "\u001b[0;32m<ipython-input-81-3ab8ecec6558>\u001b[0m in \u001b[0;36m<cell line: 0>\u001b[0;34m()\u001b[0m\n\u001b[0;32m----> 1\u001b[0;31m \u001b[0mA_pt\u001b[0m \u001b[0;34m=\u001b[0m \u001b[0mX_pt\u001b[0m \u001b[0;34m+\u001b[0m \u001b[0;36m2\u001b[0m\u001b[0;34m\u001b[0m\u001b[0;34m\u001b[0m\u001b[0m\n\u001b[0m",
            "\u001b[0;31mNameError\u001b[0m: name 'X_pt' is not defined"
          ]
        }
      ]
    },
    {
      "cell_type": "code",
      "metadata": {
        "id": "A7k6yxu36SMU",
        "colab": {
          "base_uri": "https://localhost:8080/",
          "height": 141
        },
        "outputId": "b7827d4f-57fb-4e45-9c1a-58f47cda57e5"
      },
      "source": [
        "A_pt + X_pt"
      ],
      "execution_count": 82,
      "outputs": [
        {
          "output_type": "error",
          "ename": "NameError",
          "evalue": "name 'A_pt' is not defined",
          "traceback": [
            "\u001b[0;31m---------------------------------------------------------------------------\u001b[0m",
            "\u001b[0;31mNameError\u001b[0m                                 Traceback (most recent call last)",
            "\u001b[0;32m<ipython-input-82-958faf22fd77>\u001b[0m in \u001b[0;36m<cell line: 0>\u001b[0;34m()\u001b[0m\n\u001b[0;32m----> 1\u001b[0;31m \u001b[0mA_pt\u001b[0m \u001b[0;34m+\u001b[0m \u001b[0mX_pt\u001b[0m\u001b[0;34m\u001b[0m\u001b[0;34m\u001b[0m\u001b[0m\n\u001b[0m",
            "\u001b[0;31mNameError\u001b[0m: name 'A_pt' is not defined"
          ]
        }
      ]
    },
    {
      "cell_type": "code",
      "metadata": {
        "id": "r8vOul0m6SMW"
      },
      "source": [
        "A_pt * X_pt"
      ],
      "execution_count": null,
      "outputs": []
    },
    {
      "cell_type": "code",
      "metadata": {
        "id": "rQcBMSb76SMQ"
      },
      "source": [
        "A_tf = X_tf + 2"
      ],
      "execution_count": null,
      "outputs": []
    },
    {
      "cell_type": "code",
      "metadata": {
        "id": "x6s1wtNj6SMR"
      },
      "source": [
        "A_tf + X_tf"
      ],
      "execution_count": null,
      "outputs": []
    },
    {
      "cell_type": "code",
      "metadata": {
        "id": "J1D7--296SMS"
      },
      "source": [
        "A_tf * X_tf"
      ],
      "execution_count": null,
      "outputs": []
    },
    {
      "cell_type": "markdown",
      "metadata": {
        "id": "FE5f-FEq6SMY"
      },
      "source": [
        "### Reduction"
      ]
    },
    {
      "cell_type": "markdown",
      "metadata": {
        "id": "WPJ9FVQF6SMY"
      },
      "source": [
        "Calculating the sum across all elements of a tensor is a common operation. For example:\n",
        "\n",
        "* For vector ***x*** of length *n*, we calculate $\\sum_{i=1}^{n} x_i$\n",
        "* For matrix ***X*** with *m* by *n* dimensions, we calculate $\\sum_{i=1}^{m} \\sum_{j=1}^{n} X_{i,j}$"
      ]
    },
    {
      "cell_type": "code",
      "metadata": {
        "id": "rXi2stvz6SMZ",
        "colab": {
          "base_uri": "https://localhost:8080/"
        },
        "outputId": "dc801c6e-3748-4871-a882-d87192fdbfcb"
      },
      "source": [
        "X"
      ],
      "execution_count": 83,
      "outputs": [
        {
          "output_type": "execute_result",
          "data": {
            "text/plain": [
              "array([[25,  2],\n",
              "       [ 5, 26],\n",
              "       [ 3,  7]])"
            ]
          },
          "metadata": {},
          "execution_count": 83
        }
      ]
    },
    {
      "cell_type": "code",
      "metadata": {
        "id": "W9FKaJbf6SMZ",
        "colab": {
          "base_uri": "https://localhost:8080/"
        },
        "outputId": "f97d75f1-9d9f-4c03-f5af-169a8f851054"
      },
      "source": [
        "X.sum()"
      ],
      "execution_count": 84,
      "outputs": [
        {
          "output_type": "execute_result",
          "data": {
            "text/plain": [
              "np.int64(68)"
            ]
          },
          "metadata": {},
          "execution_count": 84
        }
      ]
    },
    {
      "cell_type": "code",
      "metadata": {
        "id": "3y9aw7t66SMc"
      },
      "source": [
        "torch.sum(X_pt)"
      ],
      "execution_count": null,
      "outputs": []
    },
    {
      "cell_type": "code",
      "metadata": {
        "id": "wcjRtFml6SMb"
      },
      "source": [
        "tf.reduce_sum(X_tf)"
      ],
      "execution_count": null,
      "outputs": []
    },
    {
      "cell_type": "code",
      "metadata": {
        "id": "awjH9bOz6SMc"
      },
      "source": [
        "# Can also be done along one specific axis alone, e.g.:\n",
        "X.sum(axis=0) # summing over all rows (i.e., along columns)"
      ],
      "execution_count": null,
      "outputs": []
    },
    {
      "cell_type": "code",
      "metadata": {
        "id": "n2SASjsn6SMd"
      },
      "source": [
        "X.sum(axis=1) # summing over all columns (i.e., along rows)"
      ],
      "execution_count": null,
      "outputs": []
    },
    {
      "cell_type": "code",
      "metadata": {
        "id": "uVnSxvSJ6SMh"
      },
      "source": [
        "torch.sum(X_pt, 0)"
      ],
      "execution_count": null,
      "outputs": []
    },
    {
      "cell_type": "code",
      "metadata": {
        "id": "IO8drxz36SMe"
      },
      "source": [
        "tf.reduce_sum(X_tf, 1)"
      ],
      "execution_count": null,
      "outputs": []
    },
    {
      "cell_type": "markdown",
      "metadata": {
        "id": "gdAe8S4A6SMj"
      },
      "source": [
        "Many other operations can be applied with reduction along all or a selection of axes, e.g.:\n",
        "\n",
        "* maximum\n",
        "* minimum\n",
        "* mean\n",
        "* product\n",
        "\n",
        "They're fairly straightforward and used less often than summation, so you're welcome to look them up in library docs if you ever need them."
      ]
    },
    {
      "cell_type": "markdown",
      "metadata": {
        "id": "r2eW8S_46SMj"
      },
      "source": [
        "### The Dot Product"
      ]
    },
    {
      "cell_type": "markdown",
      "metadata": {
        "id": "LImETgD76SMj"
      },
      "source": [
        "If we have two vectors (say, ***x*** and ***y***) with the same length *n*, we can calculate the dot product between them. This is annotated several different ways, including the following:\n",
        "\n",
        "* $x \\cdot y$\n",
        "* $x^Ty$\n",
        "* $\\langle x,y \\rangle$\n",
        "\n",
        "Regardless which notation you use (I prefer the first), the calculation is the same; we calculate products in an element-wise fashion and then sum reductively across the products to a scalar value. That is, $x \\cdot y = \\sum_{i=1}^{n} x_i y_i$\n",
        "\n",
        "The dot product is ubiquitous in deep learning: It is performed at every artificial neuron in a deep neural network, which may be made up of millions (or orders of magnitude more) of these neurons."
      ]
    },
    {
      "cell_type": "code",
      "metadata": {
        "id": "HveIE3IDcgvP"
      },
      "source": [
        "x"
      ],
      "execution_count": null,
      "outputs": []
    },
    {
      "cell_type": "code",
      "metadata": {
        "id": "3ZjkZcvVcgvQ"
      },
      "source": [
        "y = np.array([0, 1, 2])\n",
        "y"
      ],
      "execution_count": null,
      "outputs": []
    },
    {
      "cell_type": "code",
      "metadata": {
        "id": "Xu8z0QB0cgvR"
      },
      "source": [
        "25*0 + 2*1 + 5*2"
      ],
      "execution_count": null,
      "outputs": []
    },
    {
      "cell_type": "code",
      "metadata": {
        "id": "ThehRrr8cgvS"
      },
      "source": [
        "np.dot(x, y)"
      ],
      "execution_count": null,
      "outputs": []
    },
    {
      "cell_type": "code",
      "metadata": {
        "id": "J5Zdua4xcgvT"
      },
      "source": [
        "x_pt"
      ],
      "execution_count": null,
      "outputs": []
    },
    {
      "cell_type": "code",
      "metadata": {
        "id": "b3vEdroXcgvU"
      },
      "source": [
        "y_pt = torch.tensor([0, 1, 2])\n",
        "y_pt"
      ],
      "execution_count": null,
      "outputs": []
    },
    {
      "cell_type": "code",
      "metadata": {
        "id": "F741E5imcgvV"
      },
      "source": [
        "np.dot(x_pt, y_pt)"
      ],
      "execution_count": null,
      "outputs": []
    },
    {
      "cell_type": "code",
      "metadata": {
        "id": "-W5loHc8cgvX"
      },
      "source": [
        "torch.dot(torch.tensor([25, 2, 5.]), torch.tensor([0, 1, 2.]))"
      ],
      "execution_count": null,
      "outputs": []
    },
    {
      "cell_type": "code",
      "metadata": {
        "id": "jUwKBiqzcgvY"
      },
      "source": [
        "x_tf"
      ],
      "execution_count": null,
      "outputs": []
    },
    {
      "cell_type": "code",
      "metadata": {
        "id": "Xqt3Rac7cgvZ"
      },
      "source": [
        "y_tf = tf.Variable([0, 1, 2])\n",
        "y_tf"
      ],
      "execution_count": null,
      "outputs": []
    },
    {
      "cell_type": "code",
      "metadata": {
        "id": "x4pgc5JEcgvc"
      },
      "source": [
        "tf.reduce_sum(tf.multiply(x_tf, y_tf))"
      ],
      "execution_count": null,
      "outputs": []
    },
    {
      "cell_type": "markdown",
      "metadata": {
        "id": "mSmvC1cc6SMj"
      },
      "source": [
        "**Return to slides here.**"
      ]
    },
    {
      "cell_type": "markdown",
      "metadata": {
        "id": "9dfTV7hQR6zn"
      },
      "source": [
        "### Solving Linear Systems"
      ]
    },
    {
      "cell_type": "markdown",
      "metadata": {
        "id": "pCoSpqtWSyFd"
      },
      "source": [
        "In the **Substitution** example, the two equations in the system are:\n",
        "$$ y = 3x $$\n",
        "$$ -5x + 2y = 2 $$\n",
        "\n",
        "The second equation can be rearranged to isolate $y$:\n",
        "$$ 2y = 2 + 5x $$\n",
        "$$ y = \\frac{2 + 5x}{2} = 1 + \\frac{5x}{2} $$"
      ]
    },
    {
      "cell_type": "code",
      "metadata": {
        "id": "1T0_m11kTh82"
      },
      "source": [
        "x = np.linspace(-10, 10, 1000) # start, finish, n points"
      ],
      "execution_count": null,
      "outputs": []
    },
    {
      "cell_type": "code",
      "metadata": {
        "id": "_K6IyUWcTh85"
      },
      "source": [
        "y1 = 3 * x"
      ],
      "execution_count": null,
      "outputs": []
    },
    {
      "cell_type": "code",
      "metadata": {
        "id": "DYkQdUJ5Th86"
      },
      "source": [
        "y2 = 1 + (5*x)/2"
      ],
      "execution_count": null,
      "outputs": []
    },
    {
      "cell_type": "code",
      "metadata": {
        "id": "aBL9NDoHTh86"
      },
      "source": [
        "fig, ax = plt.subplots()\n",
        "plt.xlabel('x')\n",
        "plt.ylabel('y')\n",
        "ax.set_xlim([0, 3])\n",
        "ax.set_ylim([0, 8])\n",
        "ax.plot(x, y1, c='green')\n",
        "ax.plot(x, y2, c='brown')\n",
        "plt.axvline(x=2, color='purple', linestyle='--')\n",
        "_ = plt.axhline(y=6, color='purple', linestyle='--')"
      ],
      "execution_count": null,
      "outputs": []
    },
    {
      "cell_type": "markdown",
      "source": [
        "**Return to slides here.**"
      ],
      "metadata": {
        "id": "vACSnJgP87xA"
      }
    },
    {
      "cell_type": "markdown",
      "metadata": {
        "id": "F3X4p66XVFXH"
      },
      "source": [
        "In the **Elimination** example, the two equations in the system are:\n",
        "$$ 2x - 3y = 15 $$\n",
        "$$ 4x + 10y = 14 $$\n",
        "\n",
        "Both equations can be rearranged to isolate $y$. Starting with the first equation:\n",
        "$$ -3y = 15 - 2x $$\n",
        "$$ y = \\frac{15 - 2x}{-3} = -5 + \\frac{2x}{3} $$\n",
        "\n",
        "Then for the second equation:\n",
        "$$ 4x + 10y = 14 $$\n",
        "$$ 2x + 5y = 7 $$\n",
        "$$ 5y = 7 - 2x $$\n",
        "$$ y = \\frac{7 - 2x}{5} $$"
      ]
    },
    {
      "cell_type": "code",
      "metadata": {
        "id": "5x3kfV_WWhlR"
      },
      "source": [
        "y1 = -5 + (2*x)/3"
      ],
      "execution_count": null,
      "outputs": []
    },
    {
      "cell_type": "code",
      "metadata": {
        "id": "dqA1lS0CWu5z"
      },
      "source": [
        "y2 = (7-2*x)/5"
      ],
      "execution_count": null,
      "outputs": []
    },
    {
      "cell_type": "code",
      "metadata": {
        "id": "6CfRNs1DWzx5"
      },
      "source": [
        "fig, ax = plt.subplots()\n",
        "plt.xlabel('x')\n",
        "plt.ylabel('y')\n",
        "\n",
        "# Add x and y axes:\n",
        "plt.axvline(x=0, color='lightgray')\n",
        "plt.axhline(y=0, color='lightgray')\n",
        "\n",
        "ax.set_xlim([-2, 10])\n",
        "ax.set_ylim([-6, 4])\n",
        "ax.plot(x, y1, c='green')\n",
        "ax.plot(x, y2, c='brown')\n",
        "plt.axvline(x=6, color='purple', linestyle='--')\n",
        "_ = plt.axhline(y=-1, color='purple', linestyle='--')"
      ],
      "execution_count": null,
      "outputs": []
    },
    {
      "cell_type": "markdown",
      "source": [
        "**Return to slides here.**"
      ],
      "metadata": {
        "id": "CezB87Tb-QGh"
      }
    },
    {
      "cell_type": "markdown",
      "metadata": {
        "id": "bYDhomCP6SMj"
      },
      "source": [
        "## Segment 3: Matrix Properties"
      ]
    },
    {
      "cell_type": "markdown",
      "metadata": {
        "id": "-HGU_an66SMk"
      },
      "source": [
        "### Frobenius Norm"
      ]
    },
    {
      "cell_type": "code",
      "metadata": {
        "id": "pNQHvAqN6SMk"
      },
      "source": [
        "X = np.array([[1, 2], [3, 4]])\n",
        "X"
      ],
      "execution_count": null,
      "outputs": []
    },
    {
      "cell_type": "code",
      "metadata": {
        "id": "T-q-Tzn26SMm"
      },
      "source": [
        "(1**2 + 2**2 + 3**2 + 4**2)**(1/2)"
      ],
      "execution_count": null,
      "outputs": []
    },
    {
      "cell_type": "code",
      "metadata": {
        "id": "YVG8qiFw6SMn"
      },
      "source": [
        "np.linalg.norm(X) # same function as for vector L2 norm"
      ],
      "execution_count": null,
      "outputs": []
    },
    {
      "cell_type": "code",
      "metadata": {
        "id": "FPnBflKVxyik"
      },
      "source": [
        "X_pt = torch.tensor([[1, 2], [3, 4.]]) # torch.norm() supports floats only"
      ],
      "execution_count": null,
      "outputs": []
    },
    {
      "cell_type": "code",
      "metadata": {
        "id": "NCdTShVyx8z0"
      },
      "source": [
        "torch.norm(X_pt)"
      ],
      "execution_count": null,
      "outputs": []
    },
    {
      "cell_type": "code",
      "metadata": {
        "id": "blezf9fLx_nD"
      },
      "source": [
        "X_tf = tf.Variable([[1, 2], [3, 4.]]) # tf.norm() also supports floats only"
      ],
      "execution_count": null,
      "outputs": []
    },
    {
      "cell_type": "code",
      "metadata": {
        "id": "LiCQzyf6ySCZ"
      },
      "source": [
        "tf.norm(X_tf)"
      ],
      "execution_count": null,
      "outputs": []
    },
    {
      "cell_type": "markdown",
      "metadata": {
        "id": "4c6rjVAf6SMo"
      },
      "source": [
        "**Return to slides here.**"
      ]
    },
    {
      "cell_type": "markdown",
      "metadata": {
        "id": "OLN-MMIe6SMo"
      },
      "source": [
        "### Matrix Multiplication (with a Vector)"
      ]
    },
    {
      "cell_type": "code",
      "metadata": {
        "id": "XJw0j8cr6SMo"
      },
      "source": [
        "A = np.array([[3, 4], [5, 6], [7, 8]])\n",
        "A"
      ],
      "execution_count": null,
      "outputs": []
    },
    {
      "cell_type": "code",
      "metadata": {
        "id": "zZQ1Aupc6SMq"
      },
      "source": [
        "b = np.array([1, 2])\n",
        "b"
      ],
      "execution_count": null,
      "outputs": []
    },
    {
      "cell_type": "code",
      "metadata": {
        "id": "ZbeVtNyW6SMq"
      },
      "source": [
        "np.dot(A, b) # even though technically dot products are between vectors only"
      ],
      "execution_count": null,
      "outputs": []
    },
    {
      "cell_type": "code",
      "metadata": {
        "id": "srVI55X96SMu"
      },
      "source": [
        "A_pt = torch.tensor([[3, 4], [5, 6], [7, 8]])\n",
        "A_pt"
      ],
      "execution_count": null,
      "outputs": []
    },
    {
      "cell_type": "code",
      "metadata": {
        "id": "5SDn71Xc6SMv"
      },
      "source": [
        "b_pt = torch.tensor([1, 2])\n",
        "b_pt"
      ],
      "execution_count": null,
      "outputs": []
    },
    {
      "cell_type": "code",
      "metadata": {
        "id": "OIeoJlsh6SMx"
      },
      "source": [
        "torch.matmul(A_pt, b_pt) # like np.dot(), automatically infers dims in order to perform dot product, matvec, or matrix multiplication"
      ],
      "execution_count": null,
      "outputs": []
    },
    {
      "cell_type": "code",
      "metadata": {
        "id": "pnob9GkB6SMs"
      },
      "source": [
        "A_tf = tf.Variable([[3, 4], [5, 6], [7, 8]])\n",
        "A_tf"
      ],
      "execution_count": null,
      "outputs": []
    },
    {
      "cell_type": "code",
      "metadata": {
        "id": "vYtWxf8K6SMt"
      },
      "source": [
        "b_tf = tf.Variable([1, 2])\n",
        "b_tf"
      ],
      "execution_count": null,
      "outputs": []
    },
    {
      "cell_type": "code",
      "metadata": {
        "id": "NGBImWRH6SMt"
      },
      "source": [
        "tf.linalg.matvec(A_tf, b_tf)"
      ],
      "execution_count": null,
      "outputs": []
    },
    {
      "cell_type": "markdown",
      "metadata": {
        "id": "kzjZmdRR6SMy"
      },
      "source": [
        "**Return to slides here.**"
      ]
    },
    {
      "cell_type": "markdown",
      "metadata": {
        "id": "21ySqay36SM5"
      },
      "source": [
        "### Matrix Multiplication (with Two Matrices)"
      ]
    },
    {
      "cell_type": "code",
      "metadata": {
        "id": "0YRG1Ig2cgvo"
      },
      "source": [
        "A"
      ],
      "execution_count": null,
      "outputs": []
    },
    {
      "cell_type": "code",
      "metadata": {
        "id": "DyOEZk_c6SM5"
      },
      "source": [
        "B = np.array([[1, 9], [2, 0]])\n",
        "B"
      ],
      "execution_count": null,
      "outputs": []
    },
    {
      "cell_type": "code",
      "metadata": {
        "id": "SfKuNxH-6SM6"
      },
      "source": [
        "np.dot(A, B)"
      ],
      "execution_count": null,
      "outputs": []
    },
    {
      "cell_type": "markdown",
      "metadata": {
        "id": "WcnQMF0s6SNB"
      },
      "source": [
        "Note that matrix multiplication is not \"commutative\" (i.e., $AB \\neq BA$) so uncommenting the following line will throw a size mismatch error:"
      ]
    },
    {
      "cell_type": "code",
      "metadata": {
        "id": "_mwBGOXO6SNB"
      },
      "source": [
        "# np.dot(B, A)"
      ],
      "execution_count": null,
      "outputs": []
    },
    {
      "cell_type": "code",
      "metadata": {
        "id": "JrrvPoNE6SM9"
      },
      "source": [
        "B_pt = torch.from_numpy(B) # much cleaner than TF conversion\n",
        "B_pt"
      ],
      "execution_count": null,
      "outputs": []
    },
    {
      "cell_type": "code",
      "metadata": {
        "id": "Z6PfwCvX6SM-"
      },
      "source": [
        "# another neat way to create the same tensor with transposition:\n",
        "B_pt = torch.tensor([[1, 2], [9, 0]]).T\n",
        "B_pt"
      ],
      "execution_count": null,
      "outputs": []
    },
    {
      "cell_type": "code",
      "metadata": {
        "id": "16ZNRaVe6SM_"
      },
      "source": [
        "torch.matmul(A_pt, B_pt) # no need to change functions, unlike in TF"
      ],
      "execution_count": null,
      "outputs": []
    },
    {
      "cell_type": "code",
      "metadata": {
        "id": "rkymNjE46SM8"
      },
      "source": [
        "B_tf = tf.convert_to_tensor(B, dtype=tf.int32)\n",
        "B_tf"
      ],
      "execution_count": null,
      "outputs": []
    },
    {
      "cell_type": "code",
      "metadata": {
        "id": "rslTzFRk6SM8"
      },
      "source": [
        "tf.matmul(A_tf, B_tf)"
      ],
      "execution_count": null,
      "outputs": []
    },
    {
      "cell_type": "markdown",
      "metadata": {
        "id": "0eBiTmPp6SNC"
      },
      "source": [
        "**Return to slides here.**"
      ]
    },
    {
      "cell_type": "markdown",
      "metadata": {
        "id": "L2H9F-DQ6SMz"
      },
      "source": [
        "### Symmetric Matrices"
      ]
    },
    {
      "cell_type": "code",
      "metadata": {
        "id": "5YsPoWo76SMz"
      },
      "source": [
        "X_sym = np.array([[0, 1, 2], [1, 7, 8], [2, 8, 9]])\n",
        "X_sym"
      ],
      "execution_count": null,
      "outputs": []
    },
    {
      "cell_type": "code",
      "metadata": {
        "id": "Skg1wSQVcgv2"
      },
      "source": [
        "X_sym.T"
      ],
      "execution_count": null,
      "outputs": []
    },
    {
      "cell_type": "code",
      "metadata": {
        "id": "Jv40-i9H6SM1"
      },
      "source": [
        "X_sym.T == X_sym"
      ],
      "execution_count": null,
      "outputs": []
    },
    {
      "cell_type": "markdown",
      "metadata": {
        "id": "QZFoUFkq6SM2"
      },
      "source": [
        "**Return to slides here.**"
      ]
    },
    {
      "cell_type": "markdown",
      "metadata": {
        "id": "Mq_c3ftZ6SM2"
      },
      "source": [
        "### Identity Matrices"
      ]
    },
    {
      "cell_type": "code",
      "metadata": {
        "id": "KVSNbH-Z6SM2"
      },
      "source": [
        "I = torch.tensor([[1, 0, 0], [0, 1, 0], [0, 0, 1]])\n",
        "I"
      ],
      "execution_count": null,
      "outputs": []
    },
    {
      "cell_type": "code",
      "metadata": {
        "id": "wcoPDhvR6SM3"
      },
      "source": [
        "x_pt = torch.tensor([25, 2, 5])\n",
        "x_pt"
      ],
      "execution_count": null,
      "outputs": []
    },
    {
      "cell_type": "code",
      "metadata": {
        "id": "tuA4RsMv6SM4"
      },
      "source": [
        "torch.matmul(I, x_pt)"
      ],
      "execution_count": null,
      "outputs": []
    },
    {
      "cell_type": "markdown",
      "metadata": {
        "id": "bgDiOYLk6SM5"
      },
      "source": [
        "**Return to slides here.**"
      ]
    },
    {
      "cell_type": "markdown",
      "metadata": {
        "id": "3S_6Yfdkcgv7"
      },
      "source": [
        "### Answers to Matrix Multiplication Qs"
      ]
    },
    {
      "cell_type": "code",
      "metadata": {
        "id": "pINsKNxH6SNC"
      },
      "source": [
        "M_q = torch.tensor([[0, 1, 2], [3, 4, 5], [6, 7, 8]])\n",
        "M_q"
      ],
      "execution_count": null,
      "outputs": []
    },
    {
      "cell_type": "code",
      "metadata": {
        "id": "gfjWd8OO6SNE"
      },
      "source": [
        "V_q = torch.tensor([[-1, 1, -2], [0, 1, 2]]).T\n",
        "V_q"
      ],
      "execution_count": null,
      "outputs": []
    },
    {
      "cell_type": "code",
      "metadata": {
        "id": "boSkaV2M6SNF"
      },
      "source": [
        "torch.matmul(M_q, V_q)"
      ],
      "execution_count": null,
      "outputs": []
    },
    {
      "cell_type": "markdown",
      "metadata": {
        "id": "slSNKUcN6SNG"
      },
      "source": [
        "### Matrix Inversion"
      ]
    },
    {
      "cell_type": "code",
      "metadata": {
        "id": "EW0i5ZRk6SNG"
      },
      "source": [
        "X = np.array([[4, 2], [-5, -3]])\n",
        "X"
      ],
      "execution_count": null,
      "outputs": []
    },
    {
      "cell_type": "code",
      "metadata": {
        "id": "hTYpxaWR6SNI"
      },
      "source": [
        "Xinv = np.linalg.inv(X)\n",
        "Xinv"
      ],
      "execution_count": null,
      "outputs": []
    },
    {
      "cell_type": "markdown",
      "metadata": {
        "id": "XFDBBdYOc-7E"
      },
      "source": [
        "As a quick aside, let's prove that $X^{-1}X = I_n$ as per the slides:"
      ]
    },
    {
      "cell_type": "code",
      "metadata": {
        "id": "tyPhf-uZcvdB"
      },
      "source": [
        "np.dot(Xinv, X)"
      ],
      "execution_count": null,
      "outputs": []
    },
    {
      "cell_type": "markdown",
      "metadata": {
        "id": "SVwvbBvclul1"
      },
      "source": [
        "...and now back to solving for the unknowns in $w$:"
      ]
    },
    {
      "cell_type": "code",
      "metadata": {
        "id": "Q5sQqFaz6SNK"
      },
      "source": [
        "y = np.array([4, -7])\n",
        "y"
      ],
      "execution_count": null,
      "outputs": []
    },
    {
      "cell_type": "code",
      "metadata": {
        "id": "PK7m6F1I6SNL"
      },
      "source": [
        "w = np.dot(Xinv, y)\n",
        "w"
      ],
      "execution_count": null,
      "outputs": []
    },
    {
      "cell_type": "markdown",
      "metadata": {
        "id": "fyBOHgdccgwD"
      },
      "source": [
        "Show that $y = Xw$:"
      ]
    },
    {
      "cell_type": "code",
      "metadata": {
        "id": "SVBojjwacgwD"
      },
      "source": [
        "np.dot(X, w)"
      ],
      "execution_count": null,
      "outputs": []
    },
    {
      "cell_type": "markdown",
      "metadata": {
        "id": "rKELsi0PZCr0"
      },
      "source": [
        "**Geometric Visualization**\n",
        "\n",
        "Recalling from the slides that the two equations in the system are:\n",
        "$$ 4b + 2c = 4 $$\n",
        "$$ -5b - 3c = -7 $$\n",
        "\n",
        "Both equations can be rearranged to isolate a variable, say $c$. Starting with the first equation:\n",
        "$$ 4b + 2c = 4 $$\n",
        "$$ 2b + c = 2 $$\n",
        "$$ c = 2 - 2b $$\n",
        "\n",
        "Then for the second equation:\n",
        "$$ -5b - 3c = -7 $$\n",
        "$$ -3c = -7 + 5b $$\n",
        "$$ c = \\frac{-7 + 5b}{-3} = \\frac{7 - 5b}{3} $$"
      ]
    },
    {
      "cell_type": "code",
      "metadata": {
        "id": "ZASIBqroap7k"
      },
      "source": [
        "b = np.linspace(-10, 10, 1000) # start, finish, n points"
      ],
      "execution_count": null,
      "outputs": []
    },
    {
      "cell_type": "code",
      "metadata": {
        "id": "9XsUdVsmaqTr"
      },
      "source": [
        "c1 = 2 - 2*b"
      ],
      "execution_count": null,
      "outputs": []
    },
    {
      "cell_type": "code",
      "metadata": {
        "id": "8Mwn1tAca1Cl"
      },
      "source": [
        "c2 = (7-5*b)/3"
      ],
      "execution_count": null,
      "outputs": []
    },
    {
      "cell_type": "code",
      "metadata": {
        "id": "X5ozP9jZauQa"
      },
      "source": [
        "fig, ax = plt.subplots()\n",
        "plt.xlabel('b', c='darkorange')\n",
        "plt.ylabel('c', c='brown')\n",
        "\n",
        "plt.axvline(x=0, color='lightgray')\n",
        "plt.axhline(y=0, color='lightgray')\n",
        "\n",
        "ax.set_xlim([-2, 3])\n",
        "ax.set_ylim([-1, 5])\n",
        "ax.plot(b, c1, c='purple')\n",
        "ax.plot(b, c2, c='purple')\n",
        "plt.axvline(x=-1, color='green', linestyle='--')\n",
        "_ = plt.axhline(y=4, color='green', linestyle='--')"
      ],
      "execution_count": null,
      "outputs": []
    },
    {
      "cell_type": "markdown",
      "metadata": {
        "id": "14uhePTna7ZV"
      },
      "source": [
        "In PyTorch and TensorFlow:"
      ]
    },
    {
      "cell_type": "code",
      "metadata": {
        "id": "7qo-SAvaansp"
      },
      "source": [
        "torch.inverse(torch.tensor([[4, 2], [-5, -3.]])) # float type"
      ],
      "execution_count": null,
      "outputs": []
    },
    {
      "cell_type": "code",
      "metadata": {
        "id": "uqtyF3Jqaz4l"
      },
      "source": [
        "tf.linalg.inv(tf.Variable([[4, 2], [-5, -3.]])) # also float"
      ],
      "execution_count": null,
      "outputs": []
    },
    {
      "cell_type": "markdown",
      "metadata": {
        "id": "hcP2S4AMAHT_"
      },
      "source": [
        "**Exercises**:\n",
        "\n",
        "1. As done with NumPy above, use PyTorch to calculate $w$ from $X$ and $y$. Subsequently, confirm that $y = Xw$.\n",
        "2. Repeat again, now using TensorFlow."
      ]
    },
    {
      "cell_type": "markdown",
      "metadata": {
        "id": "AMxROg326SNN"
      },
      "source": [
        "**Return to slides here.**"
      ]
    },
    {
      "cell_type": "markdown",
      "metadata": {
        "id": "N8ZxpgcN6SNO"
      },
      "source": [
        "### Matrix Inversion Where No Solution"
      ]
    },
    {
      "cell_type": "code",
      "metadata": {
        "id": "RYORHY4E6SNO"
      },
      "source": [
        "X = np.array([[-4, 1], [-8, 2]])\n",
        "X"
      ],
      "execution_count": null,
      "outputs": []
    },
    {
      "cell_type": "code",
      "metadata": {
        "id": "o7GcISdI6SNP"
      },
      "source": [
        "# Uncommenting the following line results in a \"singular matrix\" error\n",
        "# Xinv = np.linalg.inv(X)"
      ],
      "execution_count": null,
      "outputs": []
    },
    {
      "cell_type": "markdown",
      "metadata": {
        "id": "uk485dwoI021"
      },
      "source": [
        "Feel free to try inverting a non-square matrix; this will throw an error too.\n",
        "\n",
        "**Return to slides here.**"
      ]
    },
    {
      "cell_type": "markdown",
      "metadata": {
        "id": "BXomEBoyDQyO"
      },
      "source": [
        "### Orthogonal Matrices\n",
        "\n",
        "These are the solutions to Exercises 3 and 4 on **orthogonal matrices** from the slides.\n",
        "\n",
        "For Exercise 3, to demonstrate the matrix $I_3$ has mutually orthogonal columns, we show that the dot product of any pair of columns is zero:"
      ]
    },
    {
      "cell_type": "code",
      "metadata": {
        "id": "-Un4Aq805HM1"
      },
      "source": [
        "I = np.array([[1, 0, 0], [0, 1, 0], [0, 0, 1]])\n",
        "I"
      ],
      "execution_count": null,
      "outputs": []
    },
    {
      "cell_type": "code",
      "metadata": {
        "id": "CUhMi2_IEyaI"
      },
      "source": [
        "column_1 = I[:,0]\n",
        "column_1"
      ],
      "execution_count": null,
      "outputs": []
    },
    {
      "cell_type": "code",
      "metadata": {
        "id": "xsOtn-siE63K"
      },
      "source": [
        "column_2 = I[:,1]\n",
        "column_2"
      ],
      "execution_count": null,
      "outputs": []
    },
    {
      "cell_type": "code",
      "metadata": {
        "id": "Pv3b51ExE9ZX"
      },
      "source": [
        "column_3 = I[:,2]\n",
        "column_3"
      ],
      "execution_count": null,
      "outputs": []
    },
    {
      "cell_type": "code",
      "metadata": {
        "id": "VhnRlc8eElYc"
      },
      "source": [
        "np.dot(column_1, column_2)"
      ],
      "execution_count": null,
      "outputs": []
    },
    {
      "cell_type": "code",
      "metadata": {
        "id": "mVq4m-LfFGjQ"
      },
      "source": [
        "np.dot(column_1, column_3)"
      ],
      "execution_count": null,
      "outputs": []
    },
    {
      "cell_type": "code",
      "metadata": {
        "id": "nJj-aihzFILx"
      },
      "source": [
        "np.dot(column_2, column_3)"
      ],
      "execution_count": null,
      "outputs": []
    },
    {
      "cell_type": "markdown",
      "metadata": {
        "id": "FIzpkdJmFYdY"
      },
      "source": [
        "We can use the `np.linalg.norm()` method from earlier in the notebook to demonstrate that each column of $I_3$ has unit norm:"
      ]
    },
    {
      "cell_type": "code",
      "metadata": {
        "id": "xKbbeqegFJSc"
      },
      "source": [
        "np.linalg.norm(column_1)"
      ],
      "execution_count": null,
      "outputs": []
    },
    {
      "cell_type": "code",
      "metadata": {
        "id": "Ycv0L8mpGKRC"
      },
      "source": [
        "np.linalg.norm(column_2)"
      ],
      "execution_count": null,
      "outputs": []
    },
    {
      "cell_type": "code",
      "metadata": {
        "id": "LsEuRezYGLgY"
      },
      "source": [
        "np.linalg.norm(column_3)"
      ],
      "execution_count": null,
      "outputs": []
    },
    {
      "cell_type": "markdown",
      "metadata": {
        "id": "NMrHdyrsGQ1X"
      },
      "source": [
        "Since the matrix $I_3$ has mutually orthogonal columns and each column has unit norm, the column vectors of $I_3$ are *orthonormal*. Since $I_3^T = I_3$, this means that the *rows* of $I_3$ must also be orthonormal.\n",
        "\n",
        "Since the columns and rows of $I_3$ are orthonormal, $I_3$ is an *orthogonal matrix*."
      ]
    },
    {
      "cell_type": "markdown",
      "metadata": {
        "id": "K7EykcPdIZhE"
      },
      "source": [
        "For Exercise 4, let's repeat the steps of Exercise 3 with matrix *K* instead of $I_3$. We could use NumPy again, but for fun I'll use PyTorch instead. (You're welcome to try it with TensorFlow if you feel so inclined.)"
      ]
    },
    {
      "cell_type": "code",
      "metadata": {
        "id": "MXVyu8tSGMlZ"
      },
      "source": [
        "K = torch.tensor([[2/3, 1/3, 2/3], [-2/3, 2/3, 1/3], [1/3, 2/3, -2/3]])\n",
        "K"
      ],
      "execution_count": null,
      "outputs": []
    },
    {
      "cell_type": "code",
      "metadata": {
        "id": "xqkmSYNfJmTs"
      },
      "source": [
        "Kcol_1 = K[:,0]\n",
        "Kcol_1"
      ],
      "execution_count": null,
      "outputs": []
    },
    {
      "cell_type": "code",
      "metadata": {
        "id": "ncoc3IxNJ0v2"
      },
      "source": [
        "Kcol_2 = K[:,1]\n",
        "Kcol_2"
      ],
      "execution_count": null,
      "outputs": []
    },
    {
      "cell_type": "code",
      "metadata": {
        "id": "ISEKQ0AqJ2wf"
      },
      "source": [
        "Kcol_3 = K[:,2]\n",
        "Kcol_3"
      ],
      "execution_count": null,
      "outputs": []
    },
    {
      "cell_type": "code",
      "metadata": {
        "id": "jvdXuMzbJ44d"
      },
      "source": [
        "torch.dot(Kcol_1, Kcol_2)"
      ],
      "execution_count": null,
      "outputs": []
    },
    {
      "cell_type": "code",
      "metadata": {
        "id": "BUR60eBuKEbU"
      },
      "source": [
        "torch.dot(Kcol_1, Kcol_3)"
      ],
      "execution_count": null,
      "outputs": []
    },
    {
      "cell_type": "code",
      "metadata": {
        "id": "Rg7QvQwuKGJZ"
      },
      "source": [
        "torch.dot(Kcol_2, Kcol_3)"
      ],
      "execution_count": null,
      "outputs": []
    },
    {
      "cell_type": "markdown",
      "metadata": {
        "id": "wNdV36-QKNK-"
      },
      "source": [
        "We've now determined that the columns of $K$ are orthogonal."
      ]
    },
    {
      "cell_type": "code",
      "metadata": {
        "id": "DDgyhj1AKHdS"
      },
      "source": [
        "torch.norm(Kcol_1)"
      ],
      "execution_count": null,
      "outputs": []
    },
    {
      "cell_type": "code",
      "metadata": {
        "id": "KvQZy_E2KorW"
      },
      "source": [
        "torch.norm(Kcol_2)"
      ],
      "execution_count": null,
      "outputs": []
    },
    {
      "cell_type": "code",
      "metadata": {
        "id": "7H7dx8a7Kp9f"
      },
      "source": [
        "torch.norm(Kcol_3)"
      ],
      "execution_count": null,
      "outputs": []
    },
    {
      "cell_type": "markdown",
      "metadata": {
        "id": "VPPtOk5OKtJ_"
      },
      "source": [
        "We've now determined that, in addition to being orthogonal, the columns of $K$ have unit norm, therefore they are orthonormal.\n",
        "\n",
        "To ensure that $K$ is an orthogonal matrix, we would need to show that not only does it have orthonormal columns but it has orthonormal rows are as well. Since $K^T \\neq K$, we can't prove this quite as straightforwardly as we did with $I_3$.\n",
        "\n",
        "One approach would be to repeat the steps we used to determine that $K$ has orthogonal columns with all of the matrix's rows (please feel free to do so). Alternatively, we can use an orthogonal matrix-specific equation from the slides, $A^TA = I$, to demonstrate that $K$ is orthogonal in a single line of code:"
      ]
    },
    {
      "cell_type": "code",
      "metadata": {
        "id": "W8Ao0KhVNHqF"
      },
      "source": [
        "torch.matmul(K.T, K)"
      ],
      "execution_count": null,
      "outputs": []
    },
    {
      "cell_type": "markdown",
      "metadata": {
        "id": "scM6FCpjNgYA"
      },
      "source": [
        "Notwithstanding rounding errors that we can safely ignore, this confirms that $K^TK = I$ and therefore $K$ is an orthogonal matrix."
      ]
    }
  ]
}
>>>>>>> c6be1d52408d7aff3f3ddd166cbbb8d04d777c78
